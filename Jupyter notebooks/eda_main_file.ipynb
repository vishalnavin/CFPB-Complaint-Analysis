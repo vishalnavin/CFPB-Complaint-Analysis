{
 "cells": [
  {
   "cell_type": "markdown",
   "source": [
    "# Exploratory Data Analysis"
   ],
   "metadata": {
    "collapsed": false
   },
   "id": "d03891a7ffd3c714"
  },
  {
   "cell_type": "markdown",
   "source": [
    "## Intoduction to the Dataset\n",
    "The Consumer Financial Protection Bureau (CFPB) dataset is a comprehensive collection of consumer complaints filed against financial institution.\n",
    "These complaints cover various financial products and services, ranging from credit reporting to mortgages, and provide valuable insights into\n",
    "consumer experiences and issues within the financial industry."
   ],
   "metadata": {
    "collapsed": false
   },
   "id": "15c8b2375d353be7"
  },
  {
   "cell_type": "code",
   "outputs": [],
   "source": [
    "# importing the neccessary libraries\n",
    "import pandas as pd\n",
    "import matplotlib.pyplot as plt\n",
    "import plotly.graph_objects as go\n",
    "import plotly.express as px\n",
    "from matplotlib.colors import LinearSegmentedColormap\n",
    "import numpy as np"
   ],
   "metadata": {
    "collapsed": false,
    "ExecuteTime": {
     "end_time": "2024-04-28T19:16:44.667802Z",
     "start_time": "2024-04-28T19:16:44.651703Z"
    }
   },
   "id": "3a1008ae14d93ba2",
   "execution_count": 160
  },
  {
   "cell_type": "code",
   "outputs": [
    {
     "name": "stderr",
     "output_type": "stream",
     "text": [
      "/var/folders/8b/m3gr8w0j5ngds58k4cvfpkl80000gn/T/ipykernel_5611/1388012264.py:2: DtypeWarning: Columns (16) have mixed types. Specify dtype option on import or set low_memory=False.\n",
      "  df = pd.read_csv('complaints.csv')\n"
     ]
    }
   ],
   "source": [
    "#Importing the complete CFPB dataset\n",
    "df = pd.read_csv('complaints.csv')"
   ],
   "metadata": {
    "collapsed": false,
    "ExecuteTime": {
     "end_time": "2024-04-28T16:52:55.499377Z",
     "start_time": "2024-04-28T16:51:49.100799Z"
    }
   },
   "id": "140f25ba55a65069",
   "execution_count": 18
  },
  {
   "cell_type": "code",
   "outputs": [
    {
     "data": {
      "text/plain": "  Date received                                            Product  \\\n0    2024-01-17                                    Debt collection   \n1    2024-02-08  Credit reporting or other personal consumer re...   \n2    2024-02-29  Credit reporting or other personal consumer re...   \n3    2024-03-22  Credit reporting or other personal consumer re...   \n4    2024-03-03  Credit reporting or other personal consumer re...   \n\n        Sub-product                                 Issue  \\\n0      Medical debt     Attempts to collect debt not owed   \n1  Credit reporting  Incorrect information on your report   \n2  Credit reporting  Incorrect information on your report   \n3  Credit reporting  Incorrect information on your report   \n4  Credit reporting           Improper use of your report   \n\n                                       Sub-issue  \\\n0                                  Debt was paid   \n1            Information belongs to someone else   \n2            Information belongs to someone else   \n3            Information belongs to someone else   \n4  Reporting company used your report improperly   \n\n                        Consumer complaint narrative  \\\n0  On XX/XX/XXXX I visited the Emergency Room at ...   \n1  XXXX XXXX XXXXXXXX XXXX XXXX  debt collection ...   \n2                                                NaN   \n3                                                NaN   \n4                                                NaN   \n\n                             Company public response  \\\n0                                                NaN   \n1  Company has responded to the consumer and the ...   \n2                                                NaN   \n3                                                NaN   \n4  Company has responded to the consumer and the ...   \n\n                                  Company State ZIP code Tags  \\\n0           Nationwide Credit Corporation    MD    21921  NaN   \n1     Experian Information Solutions Inc.    WI    53218  NaN   \n2     Experian Information Solutions Inc.    GA    30324  NaN   \n3                           EQUIFAX, INC.    NY    XXXXX  NaN   \n4  TRANSUNION INTERMEDIATE HOLDINGS, INC.    GA    30087  NaN   \n\n  Consumer consent provided? Submitted via Date sent to company  \\\n0           Consent provided           Web           2024-01-23   \n1           Consent provided           Web           2024-02-08   \n2                        NaN           Web           2024-02-29   \n3                        NaN           Web           2024-03-22   \n4       Consent not provided           Web           2024-03-03   \n\n      Company response to consumer Timely response? Consumer disputed?  \\\n0          Closed with explanation              Yes                NaN   \n1  Closed with non-monetary relief              Yes                NaN   \n2                      In progress              Yes                NaN   \n3                      In progress              Yes                NaN   \n4  Closed with non-monetary relief              Yes                NaN   \n\n   Complaint ID  \n0       8166450  \n1       8299614  \n2       8448740  \n3       8603440  \n4       8464681  ",
      "text/html": "<div>\n<style scoped>\n    .dataframe tbody tr th:only-of-type {\n        vertical-align: middle;\n    }\n\n    .dataframe tbody tr th {\n        vertical-align: top;\n    }\n\n    .dataframe thead th {\n        text-align: right;\n    }\n</style>\n<table border=\"1\" class=\"dataframe\">\n  <thead>\n    <tr style=\"text-align: right;\">\n      <th></th>\n      <th>Date received</th>\n      <th>Product</th>\n      <th>Sub-product</th>\n      <th>Issue</th>\n      <th>Sub-issue</th>\n      <th>Consumer complaint narrative</th>\n      <th>Company public response</th>\n      <th>Company</th>\n      <th>State</th>\n      <th>ZIP code</th>\n      <th>Tags</th>\n      <th>Consumer consent provided?</th>\n      <th>Submitted via</th>\n      <th>Date sent to company</th>\n      <th>Company response to consumer</th>\n      <th>Timely response?</th>\n      <th>Consumer disputed?</th>\n      <th>Complaint ID</th>\n    </tr>\n  </thead>\n  <tbody>\n    <tr>\n      <th>0</th>\n      <td>2024-01-17</td>\n      <td>Debt collection</td>\n      <td>Medical debt</td>\n      <td>Attempts to collect debt not owed</td>\n      <td>Debt was paid</td>\n      <td>On XX/XX/XXXX I visited the Emergency Room at ...</td>\n      <td>NaN</td>\n      <td>Nationwide Credit Corporation</td>\n      <td>MD</td>\n      <td>21921</td>\n      <td>NaN</td>\n      <td>Consent provided</td>\n      <td>Web</td>\n      <td>2024-01-23</td>\n      <td>Closed with explanation</td>\n      <td>Yes</td>\n      <td>NaN</td>\n      <td>8166450</td>\n    </tr>\n    <tr>\n      <th>1</th>\n      <td>2024-02-08</td>\n      <td>Credit reporting or other personal consumer re...</td>\n      <td>Credit reporting</td>\n      <td>Incorrect information on your report</td>\n      <td>Information belongs to someone else</td>\n      <td>XXXX XXXX XXXXXXXX XXXX XXXX  debt collection ...</td>\n      <td>Company has responded to the consumer and the ...</td>\n      <td>Experian Information Solutions Inc.</td>\n      <td>WI</td>\n      <td>53218</td>\n      <td>NaN</td>\n      <td>Consent provided</td>\n      <td>Web</td>\n      <td>2024-02-08</td>\n      <td>Closed with non-monetary relief</td>\n      <td>Yes</td>\n      <td>NaN</td>\n      <td>8299614</td>\n    </tr>\n    <tr>\n      <th>2</th>\n      <td>2024-02-29</td>\n      <td>Credit reporting or other personal consumer re...</td>\n      <td>Credit reporting</td>\n      <td>Incorrect information on your report</td>\n      <td>Information belongs to someone else</td>\n      <td>NaN</td>\n      <td>NaN</td>\n      <td>Experian Information Solutions Inc.</td>\n      <td>GA</td>\n      <td>30324</td>\n      <td>NaN</td>\n      <td>NaN</td>\n      <td>Web</td>\n      <td>2024-02-29</td>\n      <td>In progress</td>\n      <td>Yes</td>\n      <td>NaN</td>\n      <td>8448740</td>\n    </tr>\n    <tr>\n      <th>3</th>\n      <td>2024-03-22</td>\n      <td>Credit reporting or other personal consumer re...</td>\n      <td>Credit reporting</td>\n      <td>Incorrect information on your report</td>\n      <td>Information belongs to someone else</td>\n      <td>NaN</td>\n      <td>NaN</td>\n      <td>EQUIFAX, INC.</td>\n      <td>NY</td>\n      <td>XXXXX</td>\n      <td>NaN</td>\n      <td>NaN</td>\n      <td>Web</td>\n      <td>2024-03-22</td>\n      <td>In progress</td>\n      <td>Yes</td>\n      <td>NaN</td>\n      <td>8603440</td>\n    </tr>\n    <tr>\n      <th>4</th>\n      <td>2024-03-03</td>\n      <td>Credit reporting or other personal consumer re...</td>\n      <td>Credit reporting</td>\n      <td>Improper use of your report</td>\n      <td>Reporting company used your report improperly</td>\n      <td>NaN</td>\n      <td>Company has responded to the consumer and the ...</td>\n      <td>TRANSUNION INTERMEDIATE HOLDINGS, INC.</td>\n      <td>GA</td>\n      <td>30087</td>\n      <td>NaN</td>\n      <td>Consent not provided</td>\n      <td>Web</td>\n      <td>2024-03-03</td>\n      <td>Closed with non-monetary relief</td>\n      <td>Yes</td>\n      <td>NaN</td>\n      <td>8464681</td>\n    </tr>\n  </tbody>\n</table>\n</div>"
     },
     "execution_count": 6,
     "metadata": {},
     "output_type": "execute_result"
    }
   ],
   "source": [
    "#checking how the data looks like\n",
    "df.head()"
   ],
   "metadata": {
    "collapsed": false,
    "ExecuteTime": {
     "end_time": "2024-04-28T16:26:46.214861Z",
     "start_time": "2024-04-28T16:26:46.039050Z"
    }
   },
   "id": "f90730832fb481a4",
   "execution_count": 6
  },
  {
   "cell_type": "code",
   "outputs": [
    {
     "name": "stdout",
     "output_type": "stream",
     "text": [
      "<class 'pandas.core.frame.DataFrame'>\n",
      "RangeIndex: 5089396 entries, 0 to 5089395\n",
      "Data columns (total 18 columns):\n",
      " #   Column                        Dtype \n",
      "---  ------                        ----- \n",
      " 0   Date received                 object\n",
      " 1   Product                       object\n",
      " 2   Sub-product                   object\n",
      " 3   Issue                         object\n",
      " 4   Sub-issue                     object\n",
      " 5   Consumer complaint narrative  object\n",
      " 6   Company public response       object\n",
      " 7   Company                       object\n",
      " 8   State                         object\n",
      " 9   ZIP code                      object\n",
      " 10  Tags                          object\n",
      " 11  Consumer consent provided?    object\n",
      " 12  Submitted via                 object\n",
      " 13  Date sent to company          object\n",
      " 14  Company response to consumer  object\n",
      " 15  Timely response?              object\n",
      " 16  Consumer disputed?            object\n",
      " 17  Complaint ID                  int64 \n",
      "dtypes: int64(1), object(17)\n",
      "memory usage: 698.9+ MB\n"
     ]
    }
   ],
   "source": [
    "# Visualising the columns \n",
    "df.info()"
   ],
   "metadata": {
    "collapsed": false,
    "ExecuteTime": {
     "end_time": "2024-04-28T16:24:13.009766Z",
     "start_time": "2024-04-28T16:24:10.905024Z"
    }
   },
   "id": "68fb1564deed1986",
   "execution_count": 5
  },
  {
   "cell_type": "code",
   "outputs": [
    {
     "name": "stdout",
     "output_type": "stream",
     "text": [
      "Date received                         0\n",
      "Product                               0\n",
      "Sub-product                      235292\n",
      "Issue                                 2\n",
      "Sub-issue                        734105\n",
      "Consumer complaint narrative    3297317\n",
      "Company public response         2655723\n",
      "Company                               0\n",
      "State                             45412\n",
      "ZIP code                          30225\n",
      "Tags                            4609859\n",
      "Consumer consent provided?      1017835\n",
      "Submitted via                         0\n",
      "Date sent to company                  0\n",
      "Company response to consumer         11\n",
      "Timely response?                      0\n",
      "Consumer disputed?              4321080\n",
      "Complaint ID                          0\n",
      "dtype: int64\n"
     ]
    }
   ],
   "source": [
    "#checking the total null values for each column in the df\n",
    "null_counts = df.isna().sum()\n",
    "print(null_counts)"
   ],
   "metadata": {
    "collapsed": false,
    "ExecuteTime": {
     "end_time": "2024-04-28T16:53:36.126356Z",
     "start_time": "2024-04-28T16:53:30.439003Z"
    }
   },
   "id": "59ef2f344801067a",
   "execution_count": 19
  },
  {
   "cell_type": "markdown",
   "source": [
    "Several columns contain null values. While some columns may have a substantial number of nulls, we particularly want to ensure that we retain the consumer narrative column as it holds valuable information for our analysis. Let's handle the null values by filtering out the rows where the consumer narrative is null:"
   ],
   "metadata": {
    "collapsed": false
   },
   "id": "83e9050963f60e5c"
  },
  {
   "cell_type": "code",
   "outputs": [],
   "source": [
    "df = df[~df['Consumer complaint narrative'].isna()]"
   ],
   "metadata": {
    "collapsed": false,
    "ExecuteTime": {
     "end_time": "2024-04-28T16:53:45.524203Z",
     "start_time": "2024-04-28T16:53:40.179034Z"
    }
   },
   "id": "d398f8093c3b6ae4",
   "execution_count": 20
  },
  {
   "cell_type": "code",
   "outputs": [
    {
     "name": "stdout",
     "output_type": "stream",
     "text": [
      "Date received                         0\n",
      "Product                               0\n",
      "Sub-product                       52206\n",
      "Issue                                 0\n",
      "Sub-issue                        225171\n",
      "Consumer complaint narrative          0\n",
      "Company public response          852027\n",
      "Company                               0\n",
      "State                              6493\n",
      "ZIP code                              0\n",
      "Tags                            1559714\n",
      "Consumer consent provided?            0\n",
      "Submitted via                         0\n",
      "Date sent to company                  0\n",
      "Company response to consumer          4\n",
      "Timely response?                      0\n",
      "Consumer disputed?              1628068\n",
      "Complaint ID                          0\n",
      "dtype: int64\n"
     ]
    }
   ],
   "source": [
    "# Again checking the total null values for each column in the df\n",
    "null_counts = df.isna().sum()\n",
    "print(null_counts)"
   ],
   "metadata": {
    "collapsed": false,
    "ExecuteTime": {
     "end_time": "2024-04-28T16:53:47.036205Z",
     "start_time": "2024-04-28T16:53:45.535316Z"
    }
   },
   "id": "4fc66564cedc18b2",
   "execution_count": 21
  },
  {
   "cell_type": "markdown",
   "source": [
    " Similarly, we find that it is important to include Company public response, Sub-issue and Sub-product in the analyses thus droping rows whith null un them as well."
   ],
   "metadata": {
    "collapsed": false
   },
   "id": "91c417ff112245d9"
  },
  {
   "cell_type": "code",
   "outputs": [],
   "source": [
    "# Dropping rows with null values in Sub-issue, Sub-product, State, Company response to consumer  and Company public response\n",
    "df = df[~df['Sub-product'].isna()]\n",
    "df = df[~df['Sub-issue'].isna()]\n",
    "df = df[~df['Company public response'].isna()]\n",
    "df = df[~df['State'].isna()]\n",
    "df = df[~df['Company response to consumer'].isna()]"
   ],
   "metadata": {
    "collapsed": false,
    "ExecuteTime": {
     "end_time": "2024-04-28T16:54:11.539482Z",
     "start_time": "2024-04-28T16:53:47.042082Z"
    }
   },
   "id": "833ae68c0b05db89",
   "execution_count": 22
  },
  {
   "cell_type": "code",
   "outputs": [
    {
     "name": "stdout",
     "output_type": "stream",
     "text": [
      "<class 'pandas.core.frame.DataFrame'>\n",
      "Index: 821436 entries, 1 to 5088188\n",
      "Data columns (total 18 columns):\n",
      " #   Column                        Non-Null Count   Dtype \n",
      "---  ------                        --------------   ----- \n",
      " 0   Date received                 821436 non-null  object\n",
      " 1   Product                       821436 non-null  object\n",
      " 2   Sub-product                   821436 non-null  object\n",
      " 3   Issue                         821436 non-null  object\n",
      " 4   Sub-issue                     821436 non-null  object\n",
      " 5   Consumer complaint narrative  821436 non-null  object\n",
      " 6   Company public response       821436 non-null  object\n",
      " 7   Company                       821436 non-null  object\n",
      " 8   State                         821436 non-null  object\n",
      " 9   ZIP code                      821436 non-null  object\n",
      " 10  Tags                          93398 non-null   object\n",
      " 11  Consumer consent provided?    821436 non-null  object\n",
      " 12  Submitted via                 821436 non-null  object\n",
      " 13  Date sent to company          821436 non-null  object\n",
      " 14  Company response to consumer  821436 non-null  object\n",
      " 15  Timely response?              821436 non-null  object\n",
      " 16  Consumer disputed?            19432 non-null   object\n",
      " 17  Complaint ID                  821436 non-null  int64 \n",
      "dtypes: int64(1), object(17)\n",
      "memory usage: 119.1+ MB\n"
     ]
    }
   ],
   "source": [
    "df.info()"
   ],
   "metadata": {
    "collapsed": false,
    "ExecuteTime": {
     "end_time": "2024-04-28T16:54:12.682028Z",
     "start_time": "2024-04-28T16:54:11.581576Z"
    }
   },
   "id": "c664f6dea66e8914",
   "execution_count": 23
  },
  {
   "cell_type": "markdown",
   "source": [
    "Now, we filter the data based on the wether the consumer has provided content. To only include the rows where the consumer has explicitly provided the consent:"
   ],
   "metadata": {
    "collapsed": false
   },
   "id": "d995f344edf185c3"
  },
  {
   "cell_type": "code",
   "outputs": [],
   "source": [
    "# Including only the records where consumer consent is provided\n",
    "df = df[df['Consumer consent provided?'] == 'Consent provided']"
   ],
   "metadata": {
    "collapsed": false,
    "ExecuteTime": {
     "end_time": "2024-04-28T16:56:14.137860Z",
     "start_time": "2024-04-28T16:56:03.450288Z"
    }
   },
   "id": "ee0bd4e4d47c9038",
   "execution_count": 25
  },
  {
   "cell_type": "code",
   "outputs": [
    {
     "name": "stdout",
     "output_type": "stream",
     "text": [
      "<class 'pandas.core.frame.DataFrame'>\n",
      "Index: 821436 entries, 1 to 5088188\n",
      "Data columns (total 18 columns):\n",
      " #   Column                        Non-Null Count   Dtype \n",
      "---  ------                        --------------   ----- \n",
      " 0   Date received                 821436 non-null  object\n",
      " 1   Product                       821436 non-null  object\n",
      " 2   Sub-product                   821436 non-null  object\n",
      " 3   Issue                         821436 non-null  object\n",
      " 4   Sub-issue                     821436 non-null  object\n",
      " 5   Consumer complaint narrative  821436 non-null  object\n",
      " 6   Company public response       821436 non-null  object\n",
      " 7   Company                       821436 non-null  object\n",
      " 8   State                         821436 non-null  object\n",
      " 9   ZIP code                      821436 non-null  object\n",
      " 10  Tags                          93398 non-null   object\n",
      " 11  Consumer consent provided?    821436 non-null  object\n",
      " 12  Submitted via                 821436 non-null  object\n",
      " 13  Date sent to company          821436 non-null  object\n",
      " 14  Company response to consumer  821436 non-null  object\n",
      " 15  Timely response?              821436 non-null  object\n",
      " 16  Consumer disputed?            19432 non-null   object\n",
      " 17  Complaint ID                  821436 non-null  int64 \n",
      "dtypes: int64(1), object(17)\n",
      "memory usage: 119.1+ MB\n"
     ]
    }
   ],
   "source": [
    "df.info()"
   ],
   "metadata": {
    "collapsed": false,
    "ExecuteTime": {
     "end_time": "2024-04-28T16:56:14.810366Z",
     "start_time": "2024-04-28T16:56:14.146191Z"
    }
   },
   "id": "f15b5dbf3137ba8",
   "execution_count": 26
  },
  {
   "cell_type": "code",
   "outputs": [
    {
     "name": "stdout",
     "output_type": "stream",
     "text": [
      "Submitted via\n",
      "Web    821436\n",
      "Name: count, dtype: int64\n"
     ]
    }
   ],
   "source": [
    "# Counting the unique values in the Submitted via column\n",
    "value_counts_sub = df['Submitted via'].value_counts()\n",
    "print(value_counts_sub)"
   ],
   "metadata": {
    "collapsed": false,
    "ExecuteTime": {
     "end_time": "2024-04-28T16:57:43.435302Z",
     "start_time": "2024-04-28T16:57:43.325909Z"
    }
   },
   "id": "50e90c68843a66fa",
   "execution_count": 30
  },
  {
   "cell_type": "markdown",
   "source": [
    "Since there only a single value throughout the \"Submitted via\" column, it adds no value and we drop it."
   ],
   "metadata": {
    "collapsed": false
   },
   "id": "cec6f6f823156a8f"
  },
  {
   "cell_type": "code",
   "outputs": [],
   "source": [
    "# Dropping the Submitted via column\n",
    "df.drop(columns=['Submitted via'], inplace=True)"
   ],
   "metadata": {
    "collapsed": false,
    "ExecuteTime": {
     "end_time": "2024-04-28T17:00:04.324701Z",
     "start_time": "2024-04-28T16:59:50.632446Z"
    }
   },
   "id": "a71550b22736931d",
   "execution_count": 31
  },
  {
   "cell_type": "code",
   "outputs": [
    {
     "name": "stdout",
     "output_type": "stream",
     "text": [
      "Tags\n",
      "Servicemember                    65008\n",
      "Older American                   21264\n",
      "Older American, Servicemember     7126\n",
      "Name: count, dtype: int64\n"
     ]
    }
   ],
   "source": [
    "# Counting the unique values in the Tags column\n",
    "value_counts_tags = df['Tags'].value_counts()\n",
    "print(value_counts_tags)"
   ],
   "metadata": {
    "collapsed": false,
    "ExecuteTime": {
     "end_time": "2024-04-28T17:01:29.972995Z",
     "start_time": "2024-04-28T17:01:27.464176Z"
    }
   },
   "id": "b965cd10cb6782e",
   "execution_count": 32
  },
  {
   "cell_type": "code",
   "outputs": [],
   "source": [
    "df = df[~df['Tags'].isna()]"
   ],
   "metadata": {
    "collapsed": false,
    "ExecuteTime": {
     "end_time": "2024-04-28T17:02:19.434560Z",
     "start_time": "2024-04-28T17:02:09.013559Z"
    }
   },
   "id": "36bcfcbaf6791fba",
   "execution_count": 33
  },
  {
   "cell_type": "code",
   "outputs": [
    {
     "name": "stdout",
     "output_type": "stream",
     "text": [
      "<class 'pandas.core.frame.DataFrame'>\n",
      "Index: 93398 entries, 42 to 5081725\n",
      "Data columns (total 17 columns):\n",
      " #   Column                        Non-Null Count  Dtype \n",
      "---  ------                        --------------  ----- \n",
      " 0   Date received                 93398 non-null  object\n",
      " 1   Product                       93398 non-null  object\n",
      " 2   Sub-product                   93398 non-null  object\n",
      " 3   Issue                         93398 non-null  object\n",
      " 4   Sub-issue                     93398 non-null  object\n",
      " 5   Consumer complaint narrative  93398 non-null  object\n",
      " 6   Company public response       93398 non-null  object\n",
      " 7   Company                       93398 non-null  object\n",
      " 8   State                         93398 non-null  object\n",
      " 9   ZIP code                      93398 non-null  object\n",
      " 10  Tags                          93398 non-null  object\n",
      " 11  Consumer consent provided?    93398 non-null  object\n",
      " 12  Date sent to company          93398 non-null  object\n",
      " 13  Company response to consumer  93398 non-null  object\n",
      " 14  Timely response?              93398 non-null  object\n",
      " 15  Consumer disputed?            3120 non-null   object\n",
      " 16  Complaint ID                  93398 non-null  int64 \n",
      "dtypes: int64(1), object(16)\n",
      "memory usage: 12.8+ MB\n"
     ]
    }
   ],
   "source": [
    "df.info()"
   ],
   "metadata": {
    "collapsed": false,
    "ExecuteTime": {
     "end_time": "2024-04-28T17:02:29.538572Z",
     "start_time": "2024-04-28T17:02:27.560894Z"
    }
   },
   "id": "bfb838d350ea2864",
   "execution_count": 34
  },
  {
   "cell_type": "code",
   "outputs": [
    {
     "data": {
      "text/plain": "count          93398\nunique          3274\ntop       2023-01-20\nfreq             157\nName: Date received, dtype: object"
     },
     "execution_count": 37,
     "metadata": {},
     "output_type": "execute_result"
    }
   ],
   "source": [
    "df['Date received'].describe()"
   ],
   "metadata": {
    "collapsed": false,
    "ExecuteTime": {
     "end_time": "2024-04-28T17:04:22.746713Z",
     "start_time": "2024-04-28T17:04:22.638015Z"
    }
   },
   "id": "6719fc73c870e813",
   "execution_count": 37
  },
  {
   "cell_type": "code",
   "outputs": [],
   "source": [
    "df2 = df.copy()"
   ],
   "metadata": {
    "collapsed": false,
    "ExecuteTime": {
     "end_time": "2024-04-28T17:12:53.336104Z",
     "start_time": "2024-04-28T17:12:53.205014Z"
    }
   },
   "id": "2694c2bb1aee2302",
   "execution_count": 42
  },
  {
   "cell_type": "code",
   "outputs": [],
   "source": [
    "# Converting the column value types to datetime  \n",
    "df2['Date received'] = pd.to_datetime(df2['Date received'])"
   ],
   "metadata": {
    "collapsed": false,
    "ExecuteTime": {
     "end_time": "2024-04-28T17:12:56.720730Z",
     "start_time": "2024-04-28T17:12:55.882206Z"
    }
   },
   "id": "a36f583cc7558340",
   "execution_count": 43
  },
  {
   "cell_type": "code",
   "outputs": [
    {
     "data": {
      "text/plain": "42    2023-11-30\n57    2024-03-06\n215   2024-02-10\n362   2024-02-13\n466   2024-03-05\nName: Date received, dtype: datetime64[ns]"
     },
     "execution_count": 45,
     "metadata": {},
     "output_type": "execute_result"
    }
   ],
   "source": [
    "df2['Date received'].head()"
   ],
   "metadata": {
    "collapsed": false,
    "ExecuteTime": {
     "end_time": "2024-04-28T17:14:02.350934Z",
     "start_time": "2024-04-28T17:14:02.301284Z"
    }
   },
   "id": "43494825ed5db8d2",
   "execution_count": 45
  },
  {
   "cell_type": "code",
   "outputs": [],
   "source": [
    "# Filter from a particular date onwards\n",
    "desired_date = '2021-01-01'  # Example date\n",
    "df2 = df2[df2['Date received'] >= desired_date]"
   ],
   "metadata": {
    "collapsed": false,
    "ExecuteTime": {
     "end_time": "2024-04-28T17:16:14.405204Z",
     "start_time": "2024-04-28T17:16:14.369824Z"
    }
   },
   "id": "3e3cad2878b5e320",
   "execution_count": 48
  },
  {
   "cell_type": "code",
   "outputs": [
    {
     "name": "stdout",
     "output_type": "stream",
     "text": [
      "<class 'pandas.core.frame.DataFrame'>\n",
      "Index: 55924 entries, 42 to 5081162\n",
      "Data columns (total 17 columns):\n",
      " #   Column                        Non-Null Count  Dtype         \n",
      "---  ------                        --------------  -----         \n",
      " 0   Date received                 55924 non-null  datetime64[ns]\n",
      " 1   Product                       55924 non-null  object        \n",
      " 2   Sub-product                   55924 non-null  object        \n",
      " 3   Issue                         55924 non-null  object        \n",
      " 4   Sub-issue                     55924 non-null  object        \n",
      " 5   Consumer complaint narrative  55924 non-null  object        \n",
      " 6   Company public response       55924 non-null  object        \n",
      " 7   Company                       55924 non-null  object        \n",
      " 8   State                         55924 non-null  object        \n",
      " 9   ZIP code                      55924 non-null  object        \n",
      " 10  Tags                          55924 non-null  object        \n",
      " 11  Consumer consent provided?    55924 non-null  object        \n",
      " 12  Date sent to company          55924 non-null  object        \n",
      " 13  Company response to consumer  55924 non-null  object        \n",
      " 14  Timely response?              55924 non-null  object        \n",
      " 15  Consumer disputed?            0 non-null      object        \n",
      " 16  Complaint ID                  55924 non-null  int64         \n",
      "dtypes: datetime64[ns](1), int64(1), object(15)\n",
      "memory usage: 7.7+ MB\n"
     ]
    }
   ],
   "source": [
    "df2.info()"
   ],
   "metadata": {
    "collapsed": false,
    "ExecuteTime": {
     "end_time": "2024-04-28T17:16:15.388475Z",
     "start_time": "2024-04-28T17:16:15.329662Z"
    }
   },
   "id": "45e262fad3c9699",
   "execution_count": 49
  },
  {
   "cell_type": "markdown",
   "source": [
    "Filtering the data for the past 3 years, we get about 56,000 rows to work with."
   ],
   "metadata": {
    "collapsed": false
   },
   "id": "b64cad643c22651a"
  },
  {
   "cell_type": "code",
   "outputs": [],
   "source": [
    "# Dropping the un-useful columns\n",
    "df2.drop(columns=['Consumer disputed?'], inplace=True)"
   ],
   "metadata": {
    "collapsed": false,
    "ExecuteTime": {
     "end_time": "2024-04-28T17:20:00.805864Z",
     "start_time": "2024-04-28T17:20:00.659072Z"
    }
   },
   "id": "df84f12bdbc713d5",
   "execution_count": 51
  },
  {
   "cell_type": "code",
   "outputs": [
    {
     "name": "stdout",
     "output_type": "stream",
     "text": [
      "<class 'pandas.core.frame.DataFrame'>\n",
      "Index: 55924 entries, 42 to 5081162\n",
      "Data columns (total 16 columns):\n",
      " #   Column                        Non-Null Count  Dtype         \n",
      "---  ------                        --------------  -----         \n",
      " 0   Date received                 55924 non-null  datetime64[ns]\n",
      " 1   Product                       55924 non-null  object        \n",
      " 2   Sub-product                   55924 non-null  object        \n",
      " 3   Issue                         55924 non-null  object        \n",
      " 4   Sub-issue                     55924 non-null  object        \n",
      " 5   Consumer complaint narrative  55924 non-null  object        \n",
      " 6   Company public response       55924 non-null  object        \n",
      " 7   Company                       55924 non-null  object        \n",
      " 8   State                         55924 non-null  object        \n",
      " 9   ZIP code                      55924 non-null  object        \n",
      " 10  Tags                          55924 non-null  object        \n",
      " 11  Consumer consent provided?    55924 non-null  object        \n",
      " 12  Date sent to company          55924 non-null  object        \n",
      " 13  Company response to consumer  55924 non-null  object        \n",
      " 14  Timely response?              55924 non-null  object        \n",
      " 15  Complaint ID                  55924 non-null  int64         \n",
      "dtypes: datetime64[ns](1), int64(1), object(14)\n",
      "memory usage: 7.3+ MB\n"
     ]
    }
   ],
   "source": [
    "df2.info()"
   ],
   "metadata": {
    "collapsed": false,
    "ExecuteTime": {
     "end_time": "2024-04-28T17:20:04.490018Z",
     "start_time": "2024-04-28T17:20:04.424491Z"
    }
   },
   "id": "daa6bca1747ac1b9",
   "execution_count": 52
  },
  {
   "cell_type": "markdown",
   "source": [
    "Checking the distribution nof the complaints by the different products:"
   ],
   "metadata": {
    "collapsed": false
   },
   "id": "7c439f75f0f7de8a"
  },
  {
   "cell_type": "code",
   "outputs": [
    {
     "data": {
      "text/plain": "Product\nCredit reporting, credit repair services, or other personal consumer reports    25378\nChecking or savings account                                                      7146\nCredit reporting or other personal consumer reports                              6594\nDebt collection                                                                  5692\nCredit card or prepaid card                                                      5645\nCredit card                                                                      1846\nVehicle loan or lease                                                            1655\nMortgage                                                                         1385\nStudent loan                                                                      485\nPrepaid card                                                                       65\nPayday loan, title loan, or personal loan                                          28\nPayday loan, title loan, personal loan, or advance loan                             5\nName: count, dtype: int64"
     },
     "execution_count": 55,
     "metadata": {},
     "output_type": "execute_result"
    }
   ],
   "source": [
    "# Calculate value counts for 'Company_clean' and convert to DataFrame\n",
    "df_value_counts_prod = df2['Product'].value_counts()\n",
    "df_value_counts_prod"
   ],
   "metadata": {
    "collapsed": false,
    "ExecuteTime": {
     "end_time": "2024-04-28T17:26:14.417608Z",
     "start_time": "2024-04-28T17:26:14.388691Z"
    }
   },
   "id": "53ee0ac19de75660",
   "execution_count": 55
  },
  {
   "cell_type": "markdown",
   "source": [
    "We can bin the products such as \"student loan\", \"Payday loan, title loan, or personal loan\"\n",
    "\"Payday loan, title loan, personal loan, or advance loan\" and \"Vehicle loan or lease\" into a single category -> Loan a well as we can bin \n",
    "and then bin the \"Credit reporting or other personal consumer reports\" along with \"Credit reporting, credit repair services, or other personal consumer reports\" -> Credit Reporting\n",
    "and then \"Credit card\", \"Prepaid card\" and then \"Credit card or prepaid card\" -> \"Credit cards and Prepaid cards\"\n",
    "\n"
   ],
   "metadata": {
    "collapsed": false
   },
   "id": "261525405913e70"
  },
  {
   "cell_type": "code",
   "outputs": [
    {
     "data": {
      "text/plain": "        Date received                      Product  \\\n42         2023-11-30  Credit card or prepaid card   \n57         2024-03-06             Credit reporting   \n215        2024-02-10  Credit card or prepaid card   \n362        2024-02-13             Credit reporting   \n466        2024-03-05             Credit reporting   \n...               ...                          ...   \n5077824    2021-02-03                         Loan   \n5078580    2021-04-01             Credit reporting   \n5079708    2021-06-05              Debt collection   \n5079986    2021-06-07             Credit reporting   \n5081162    2021-07-09             Credit reporting   \n\n                                        Sub-product  \\\n42       General-purpose credit card or charge card   \n57                                 Credit reporting   \n215      General-purpose credit card or charge card   \n362                                Credit reporting   \n466                                Credit reporting   \n...                                             ...   \n5077824                                        Loan   \n5078580                            Credit reporting   \n5079708                                  Other debt   \n5079986                            Credit reporting   \n5081162                            Credit reporting   \n\n                                                     Issue  \\\n42         Problem with a purchase shown on your statement   \n57                    Incorrect information on your report   \n215        Problem with a purchase shown on your statement   \n362                   Incorrect information on your report   \n466                   Incorrect information on your report   \n...                                                    ...   \n5077824                         Managing the loan or lease   \n5078580  Problem with a credit reporting company's inve...   \n5079708                  Attempts to collect debt not owed   \n5079986               Incorrect information on your report   \n5081162  Problem with a credit reporting company's inve...   \n\n                                                 Sub-issue  \\\n42       Credit card company isn't resolving a dispute ...   \n57                           Account information incorrect   \n215      Credit card company isn't resolving a dispute ...   \n362                          Account information incorrect   \n466                    Information belongs to someone else   \n...                                                    ...   \n5077824                                    Billing problem   \n5078580  Their investigation did not fix an error on yo...   \n5079708                                  Debt is not yours   \n5079986                Information belongs to someone else   \n5081162  Their investigation did not fix an error on yo...   \n\n                              Consumer complaint narrative  \\\n42       On XX/XX/XXXXXXXX  I made 3 payments to State ...   \n57       To all these Presents come, Greetings : In acc...   \n215      On XX/XX/XXXX I purchased what was supposed to...   \n362      Transunion has Reported a XXXX XXXX on my Cred...   \n466      Hello, my name is XXXX XXXX and I am preparing...   \n...                                                    ...   \n5077824  We have paid our auto loan with 6 deferred pay...   \n5078580  This is yet my recurring complaint as Transuni...   \n5079708  In 2018 I became XXXX XXXX a few months after ...   \n5079986  Noticed an account on my report that does not ...   \n5081162  This issue goes back to XXXX crisis - We have ...   \n\n                                   Company public response  \\\n42       Company has responded to the consumer and the ...   \n57       Company has responded to the consumer and the ...   \n215      Company has responded to the consumer and the ...   \n362      Company has responded to the consumer and the ...   \n466      Company has responded to the consumer and the ...   \n...                                                    ...   \n5077824  Company has responded to the consumer and the ...   \n5078580  Company has responded to the consumer and the ...   \n5079708  Company believes it acted appropriately as aut...   \n5079986  Company has responded to the consumer and the ...   \n5081162  Company has responded to the consumer and the ...   \n\n                                   Company State ZIP code            Tags  \\\n42                               usbancorp    FL    344XX  Older American   \n57       transunionintermediateholdingsinc    IL    60651   Servicemember   \n215                             citibankna    AK    996XX   Servicemember   \n362      transunionintermediateholdingsinc    MD    XXXXX   Servicemember   \n466      transunionintermediateholdingsinc    PA    19111   Servicemember   \n...                                    ...   ...      ...             ...   \n5077824         truistfinancialcorporation    CA    92104   Servicemember   \n5078580  transunionintermediateholdingsinc    FL    344XX   Servicemember   \n5079708        blakelywittandassociatesinc    TX    78653  Older American   \n5079986  transunionintermediateholdingsinc    NJ    088XX   Servicemember   \n5081162                       corelogicinc    AZ    85234  Older American   \n\n        Consumer consent provided? Date sent to company  \\\n42                Consent provided           2023-11-30   \n57                Consent provided           2024-03-06   \n215               Consent provided           2024-02-10   \n362               Consent provided           2024-02-13   \n466               Consent provided           2024-03-05   \n...                            ...                  ...   \n5077824           Consent provided           2021-02-23   \n5078580           Consent provided           2021-04-01   \n5079708           Consent provided           2021-06-05   \n5079986           Consent provided           2021-06-07   \n5081162           Consent provided           2021-07-09   \n\n            Company response to consumer Timely response?  Complaint ID  \n42               Closed with explanation              Yes       7929604  \n57               Closed with explanation              Yes       8486825  \n215          Closed with monetary relief              Yes       8323407  \n362              Closed with explanation              Yes       8337799  \n466      Closed with non-monetary relief              Yes       8477792  \n...                                  ...              ...           ...  \n5077824          Closed with explanation              Yes       4112772  \n5078580          Closed with explanation              Yes       4262930  \n5079708          Closed with explanation              Yes       4433168  \n5079986          Closed with explanation              Yes       4439371  \n5081162          Closed with explanation              Yes       4530052  \n\n[55924 rows x 16 columns]",
      "text/html": "<div>\n<style scoped>\n    .dataframe tbody tr th:only-of-type {\n        vertical-align: middle;\n    }\n\n    .dataframe tbody tr th {\n        vertical-align: top;\n    }\n\n    .dataframe thead th {\n        text-align: right;\n    }\n</style>\n<table border=\"1\" class=\"dataframe\">\n  <thead>\n    <tr style=\"text-align: right;\">\n      <th></th>\n      <th>Date received</th>\n      <th>Product</th>\n      <th>Sub-product</th>\n      <th>Issue</th>\n      <th>Sub-issue</th>\n      <th>Consumer complaint narrative</th>\n      <th>Company public response</th>\n      <th>Company</th>\n      <th>State</th>\n      <th>ZIP code</th>\n      <th>Tags</th>\n      <th>Consumer consent provided?</th>\n      <th>Date sent to company</th>\n      <th>Company response to consumer</th>\n      <th>Timely response?</th>\n      <th>Complaint ID</th>\n    </tr>\n  </thead>\n  <tbody>\n    <tr>\n      <th>42</th>\n      <td>2023-11-30</td>\n      <td>Credit card or prepaid card</td>\n      <td>General-purpose credit card or charge card</td>\n      <td>Problem with a purchase shown on your statement</td>\n      <td>Credit card company isn't resolving a dispute ...</td>\n      <td>On XX/XX/XXXXXXXX  I made 3 payments to State ...</td>\n      <td>Company has responded to the consumer and the ...</td>\n      <td>usbancorp</td>\n      <td>FL</td>\n      <td>344XX</td>\n      <td>Older American</td>\n      <td>Consent provided</td>\n      <td>2023-11-30</td>\n      <td>Closed with explanation</td>\n      <td>Yes</td>\n      <td>7929604</td>\n    </tr>\n    <tr>\n      <th>57</th>\n      <td>2024-03-06</td>\n      <td>Credit reporting</td>\n      <td>Credit reporting</td>\n      <td>Incorrect information on your report</td>\n      <td>Account information incorrect</td>\n      <td>To all these Presents come, Greetings : In acc...</td>\n      <td>Company has responded to the consumer and the ...</td>\n      <td>transunionintermediateholdingsinc</td>\n      <td>IL</td>\n      <td>60651</td>\n      <td>Servicemember</td>\n      <td>Consent provided</td>\n      <td>2024-03-06</td>\n      <td>Closed with explanation</td>\n      <td>Yes</td>\n      <td>8486825</td>\n    </tr>\n    <tr>\n      <th>215</th>\n      <td>2024-02-10</td>\n      <td>Credit card or prepaid card</td>\n      <td>General-purpose credit card or charge card</td>\n      <td>Problem with a purchase shown on your statement</td>\n      <td>Credit card company isn't resolving a dispute ...</td>\n      <td>On XX/XX/XXXX I purchased what was supposed to...</td>\n      <td>Company has responded to the consumer and the ...</td>\n      <td>citibankna</td>\n      <td>AK</td>\n      <td>996XX</td>\n      <td>Servicemember</td>\n      <td>Consent provided</td>\n      <td>2024-02-10</td>\n      <td>Closed with monetary relief</td>\n      <td>Yes</td>\n      <td>8323407</td>\n    </tr>\n    <tr>\n      <th>362</th>\n      <td>2024-02-13</td>\n      <td>Credit reporting</td>\n      <td>Credit reporting</td>\n      <td>Incorrect information on your report</td>\n      <td>Account information incorrect</td>\n      <td>Transunion has Reported a XXXX XXXX on my Cred...</td>\n      <td>Company has responded to the consumer and the ...</td>\n      <td>transunionintermediateholdingsinc</td>\n      <td>MD</td>\n      <td>XXXXX</td>\n      <td>Servicemember</td>\n      <td>Consent provided</td>\n      <td>2024-02-13</td>\n      <td>Closed with explanation</td>\n      <td>Yes</td>\n      <td>8337799</td>\n    </tr>\n    <tr>\n      <th>466</th>\n      <td>2024-03-05</td>\n      <td>Credit reporting</td>\n      <td>Credit reporting</td>\n      <td>Incorrect information on your report</td>\n      <td>Information belongs to someone else</td>\n      <td>Hello, my name is XXXX XXXX and I am preparing...</td>\n      <td>Company has responded to the consumer and the ...</td>\n      <td>transunionintermediateholdingsinc</td>\n      <td>PA</td>\n      <td>19111</td>\n      <td>Servicemember</td>\n      <td>Consent provided</td>\n      <td>2024-03-05</td>\n      <td>Closed with non-monetary relief</td>\n      <td>Yes</td>\n      <td>8477792</td>\n    </tr>\n    <tr>\n      <th>...</th>\n      <td>...</td>\n      <td>...</td>\n      <td>...</td>\n      <td>...</td>\n      <td>...</td>\n      <td>...</td>\n      <td>...</td>\n      <td>...</td>\n      <td>...</td>\n      <td>...</td>\n      <td>...</td>\n      <td>...</td>\n      <td>...</td>\n      <td>...</td>\n      <td>...</td>\n      <td>...</td>\n    </tr>\n    <tr>\n      <th>5077824</th>\n      <td>2021-02-03</td>\n      <td>Loan</td>\n      <td>Loan</td>\n      <td>Managing the loan or lease</td>\n      <td>Billing problem</td>\n      <td>We have paid our auto loan with 6 deferred pay...</td>\n      <td>Company has responded to the consumer and the ...</td>\n      <td>truistfinancialcorporation</td>\n      <td>CA</td>\n      <td>92104</td>\n      <td>Servicemember</td>\n      <td>Consent provided</td>\n      <td>2021-02-23</td>\n      <td>Closed with explanation</td>\n      <td>Yes</td>\n      <td>4112772</td>\n    </tr>\n    <tr>\n      <th>5078580</th>\n      <td>2021-04-01</td>\n      <td>Credit reporting</td>\n      <td>Credit reporting</td>\n      <td>Problem with a credit reporting company's inve...</td>\n      <td>Their investigation did not fix an error on yo...</td>\n      <td>This is yet my recurring complaint as Transuni...</td>\n      <td>Company has responded to the consumer and the ...</td>\n      <td>transunionintermediateholdingsinc</td>\n      <td>FL</td>\n      <td>344XX</td>\n      <td>Servicemember</td>\n      <td>Consent provided</td>\n      <td>2021-04-01</td>\n      <td>Closed with explanation</td>\n      <td>Yes</td>\n      <td>4262930</td>\n    </tr>\n    <tr>\n      <th>5079708</th>\n      <td>2021-06-05</td>\n      <td>Debt collection</td>\n      <td>Other debt</td>\n      <td>Attempts to collect debt not owed</td>\n      <td>Debt is not yours</td>\n      <td>In 2018 I became XXXX XXXX a few months after ...</td>\n      <td>Company believes it acted appropriately as aut...</td>\n      <td>blakelywittandassociatesinc</td>\n      <td>TX</td>\n      <td>78653</td>\n      <td>Older American</td>\n      <td>Consent provided</td>\n      <td>2021-06-05</td>\n      <td>Closed with explanation</td>\n      <td>Yes</td>\n      <td>4433168</td>\n    </tr>\n    <tr>\n      <th>5079986</th>\n      <td>2021-06-07</td>\n      <td>Credit reporting</td>\n      <td>Credit reporting</td>\n      <td>Incorrect information on your report</td>\n      <td>Information belongs to someone else</td>\n      <td>Noticed an account on my report that does not ...</td>\n      <td>Company has responded to the consumer and the ...</td>\n      <td>transunionintermediateholdingsinc</td>\n      <td>NJ</td>\n      <td>088XX</td>\n      <td>Servicemember</td>\n      <td>Consent provided</td>\n      <td>2021-06-07</td>\n      <td>Closed with explanation</td>\n      <td>Yes</td>\n      <td>4439371</td>\n    </tr>\n    <tr>\n      <th>5081162</th>\n      <td>2021-07-09</td>\n      <td>Credit reporting</td>\n      <td>Credit reporting</td>\n      <td>Problem with a credit reporting company's inve...</td>\n      <td>Their investigation did not fix an error on yo...</td>\n      <td>This issue goes back to XXXX crisis - We have ...</td>\n      <td>Company has responded to the consumer and the ...</td>\n      <td>corelogicinc</td>\n      <td>AZ</td>\n      <td>85234</td>\n      <td>Older American</td>\n      <td>Consent provided</td>\n      <td>2021-07-09</td>\n      <td>Closed with explanation</td>\n      <td>Yes</td>\n      <td>4530052</td>\n    </tr>\n  </tbody>\n</table>\n<p>55924 rows × 16 columns</p>\n</div>"
     },
     "execution_count": 59,
     "metadata": {},
     "output_type": "execute_result"
    }
   ],
   "source": [
    "# Creating a dictionary to map similar values to their bins\n",
    "product_bins = {\n",
    "    \"Credit reporting, credit repair services, or other personal consumer reports\": \"Credit reporting\",\n",
    "    \"Credit reporting or other personal consumer reports\": \"Credit reporting\",\n",
    "    \"Checking or savings account\": \"Checking or savings account\",\n",
    "    \"Debt collection\": \"Debt collection\",\n",
    "    \"Credit card or prepaid card\": \"Credit card or prepaid card\",\n",
    "    \"Credit card\": \"Credit card or prepaid card\",\n",
    "    \"Vehicle loan or lease\": \"Loan\",\n",
    "    \"Mortgage\": \"Mortgage\",\n",
    "    \"Student loan\": \"Loan\",\n",
    "    \"Prepaid card\": \"Credit card or prepaid card\",\n",
    "    \"Payday loan, title loan, or personal loan\": \"Loan\",\n",
    "    \"Payday loan, title loan, personal loan, or advance loan\": \"Loan\"\n",
    "}\n",
    "\n",
    "# Bin the values in the 'Product' column using the defined dictionary\n",
    "df2['Product'] = df2['Product'].replace(product_bins)\n",
    "\n",
    "df2"
   ],
   "metadata": {
    "collapsed": false,
    "ExecuteTime": {
     "end_time": "2024-04-28T17:38:32.779062Z",
     "start_time": "2024-04-28T17:38:32.622135Z"
    }
   },
   "id": "4b051ac9ebf695ea",
   "execution_count": 59
  },
  {
   "cell_type": "code",
   "outputs": [
    {
     "data": {
      "text/plain": "                       Product  count\n0             Credit reporting  31972\n1  Credit card or prepaid card   7556\n2  Checking or savings account   7146\n3              Debt collection   5692\n4                         Loan   2173\n5                     Mortgage   1385",
      "text/html": "<div>\n<style scoped>\n    .dataframe tbody tr th:only-of-type {\n        vertical-align: middle;\n    }\n\n    .dataframe tbody tr th {\n        vertical-align: top;\n    }\n\n    .dataframe thead th {\n        text-align: right;\n    }\n</style>\n<table border=\"1\" class=\"dataframe\">\n  <thead>\n    <tr style=\"text-align: right;\">\n      <th></th>\n      <th>Product</th>\n      <th>count</th>\n    </tr>\n  </thead>\n  <tbody>\n    <tr>\n      <th>0</th>\n      <td>Credit reporting</td>\n      <td>31972</td>\n    </tr>\n    <tr>\n      <th>1</th>\n      <td>Credit card or prepaid card</td>\n      <td>7556</td>\n    </tr>\n    <tr>\n      <th>2</th>\n      <td>Checking or savings account</td>\n      <td>7146</td>\n    </tr>\n    <tr>\n      <th>3</th>\n      <td>Debt collection</td>\n      <td>5692</td>\n    </tr>\n    <tr>\n      <th>4</th>\n      <td>Loan</td>\n      <td>2173</td>\n    </tr>\n    <tr>\n      <th>5</th>\n      <td>Mortgage</td>\n      <td>1385</td>\n    </tr>\n  </tbody>\n</table>\n</div>"
     },
     "execution_count": 203,
     "metadata": {},
     "output_type": "execute_result"
    }
   ],
   "source": [
    "df_value_counts_prod2 = df2['Product'].value_counts().reset_index()\n",
    "df_value_counts_prod2"
   ],
   "metadata": {
    "collapsed": false,
    "ExecuteTime": {
     "end_time": "2024-04-28T22:02:37.052199Z",
     "start_time": "2024-04-28T22:02:37.027325Z"
    }
   },
   "id": "aad0a6ed2094982f",
   "execution_count": 203
  },
  {
   "cell_type": "code",
   "outputs": [
    {
     "data": {
      "text/plain": "                       Product  count  cumulative_count  percentage\n0             Credit reporting  31972             31972   57.170446\n1  Credit card or prepaid card   7556             39528   13.511194\n2  Checking or savings account   7146             46674   12.778056\n3              Debt collection   5692             52366   10.178099\n4                         Loan   2173             54539    3.885630\n5                     Mortgage   1385             55924    2.476575",
      "text/html": "<div>\n<style scoped>\n    .dataframe tbody tr th:only-of-type {\n        vertical-align: middle;\n    }\n\n    .dataframe tbody tr th {\n        vertical-align: top;\n    }\n\n    .dataframe thead th {\n        text-align: right;\n    }\n</style>\n<table border=\"1\" class=\"dataframe\">\n  <thead>\n    <tr style=\"text-align: right;\">\n      <th></th>\n      <th>Product</th>\n      <th>count</th>\n      <th>cumulative_count</th>\n      <th>percentage</th>\n    </tr>\n  </thead>\n  <tbody>\n    <tr>\n      <th>0</th>\n      <td>Credit reporting</td>\n      <td>31972</td>\n      <td>31972</td>\n      <td>57.170446</td>\n    </tr>\n    <tr>\n      <th>1</th>\n      <td>Credit card or prepaid card</td>\n      <td>7556</td>\n      <td>39528</td>\n      <td>13.511194</td>\n    </tr>\n    <tr>\n      <th>2</th>\n      <td>Checking or savings account</td>\n      <td>7146</td>\n      <td>46674</td>\n      <td>12.778056</td>\n    </tr>\n    <tr>\n      <th>3</th>\n      <td>Debt collection</td>\n      <td>5692</td>\n      <td>52366</td>\n      <td>10.178099</td>\n    </tr>\n    <tr>\n      <th>4</th>\n      <td>Loan</td>\n      <td>2173</td>\n      <td>54539</td>\n      <td>3.885630</td>\n    </tr>\n    <tr>\n      <th>5</th>\n      <td>Mortgage</td>\n      <td>1385</td>\n      <td>55924</td>\n      <td>2.476575</td>\n    </tr>\n  </tbody>\n</table>\n</div>"
     },
     "execution_count": 205,
     "metadata": {},
     "output_type": "execute_result"
    }
   ],
   "source": [
    "df_value_counts_prod3 = df_value_counts_prod2.copy()\n",
    "# Rename columns\n",
    "df_value_counts_prod3.columns = ['Product', 'count']\n",
    "\n",
    "# Cumulative sum\n",
    "df_value_counts_prod3['cumulative_count'] = df_value_counts_prod3['count'].cumsum()\n",
    "# Calculate percentage\n",
    "total_counts = df_value_counts_prod3['count'].sum()\n",
    "df_value_counts_prod3['percentage'] = (df_value_counts_prod3['count'] / total_counts) * 100\n",
    "\n",
    "# Display the new DataFrame\n",
    "df_value_counts_prod3"
   ],
   "metadata": {
    "collapsed": false,
    "ExecuteTime": {
     "end_time": "2024-04-28T22:02:43.616083Z",
     "start_time": "2024-04-28T22:02:43.593545Z"
    }
   },
   "id": "e5b6821ac425e435",
   "execution_count": 205
  },
  {
   "cell_type": "code",
   "outputs": [
    {
     "data": {
      "application/vnd.plotly.v1+json": {
       "data": [
        {
         "alignmentgroup": "True",
         "hovertemplate": "Product=%{x}<br>y=%{y}<extra></extra>",
         "legendgroup": "Credit reporting",
         "marker": {
          "color": "blue",
          "pattern": {
           "shape": ""
          }
         },
         "name": "Credit reporting",
         "offsetgroup": "Credit reporting",
         "orientation": "v",
         "showlegend": true,
         "textposition": "auto",
         "x": [
          "Credit reporting"
         ],
         "xaxis": "x",
         "y": [
          31972
         ],
         "yaxis": "y",
         "type": "bar"
        },
        {
         "alignmentgroup": "True",
         "hovertemplate": "Product=%{x}<br>y=%{y}<extra></extra>",
         "legendgroup": "Credit card or prepaid card",
         "marker": {
          "color": "blue",
          "pattern": {
           "shape": ""
          }
         },
         "name": "Credit card or prepaid card",
         "offsetgroup": "Credit card or prepaid card",
         "orientation": "v",
         "showlegend": true,
         "textposition": "auto",
         "x": [
          "Credit card or prepaid card"
         ],
         "xaxis": "x",
         "y": [
          7556
         ],
         "yaxis": "y",
         "type": "bar"
        },
        {
         "alignmentgroup": "True",
         "hovertemplate": "Product=%{x}<br>y=%{y}<extra></extra>",
         "legendgroup": "Checking or savings account",
         "marker": {
          "color": "blue",
          "pattern": {
           "shape": ""
          }
         },
         "name": "Checking or savings account",
         "offsetgroup": "Checking or savings account",
         "orientation": "v",
         "showlegend": true,
         "textposition": "auto",
         "x": [
          "Checking or savings account"
         ],
         "xaxis": "x",
         "y": [
          7146
         ],
         "yaxis": "y",
         "type": "bar"
        },
        {
         "alignmentgroup": "True",
         "hovertemplate": "Product=%{x}<br>y=%{y}<extra></extra>",
         "legendgroup": "Debt collection",
         "marker": {
          "color": "blue",
          "pattern": {
           "shape": ""
          }
         },
         "name": "Debt collection",
         "offsetgroup": "Debt collection",
         "orientation": "v",
         "showlegend": true,
         "textposition": "auto",
         "x": [
          "Debt collection"
         ],
         "xaxis": "x",
         "y": [
          5692
         ],
         "yaxis": "y",
         "type": "bar"
        },
        {
         "alignmentgroup": "True",
         "hovertemplate": "Product=%{x}<br>y=%{y}<extra></extra>",
         "legendgroup": "Loan",
         "marker": {
          "color": "blue",
          "pattern": {
           "shape": ""
          }
         },
         "name": "Loan",
         "offsetgroup": "Loan",
         "orientation": "v",
         "showlegend": true,
         "textposition": "auto",
         "x": [
          "Loan"
         ],
         "xaxis": "x",
         "y": [
          2173
         ],
         "yaxis": "y",
         "type": "bar"
        },
        {
         "alignmentgroup": "True",
         "hovertemplate": "Product=%{x}<br>y=%{y}<extra></extra>",
         "legendgroup": "Mortgage",
         "marker": {
          "color": "blue",
          "pattern": {
           "shape": ""
          }
         },
         "name": "Mortgage",
         "offsetgroup": "Mortgage",
         "orientation": "v",
         "showlegend": true,
         "textposition": "auto",
         "x": [
          "Mortgage"
         ],
         "xaxis": "x",
         "y": [
          1385
         ],
         "yaxis": "y",
         "type": "bar"
        }
       ],
       "layout": {
        "template": {
         "data": {
          "histogram2dcontour": [
           {
            "type": "histogram2dcontour",
            "colorbar": {
             "outlinewidth": 0,
             "ticks": ""
            },
            "colorscale": [
             [
              0.0,
              "#0d0887"
             ],
             [
              0.1111111111111111,
              "#46039f"
             ],
             [
              0.2222222222222222,
              "#7201a8"
             ],
             [
              0.3333333333333333,
              "#9c179e"
             ],
             [
              0.4444444444444444,
              "#bd3786"
             ],
             [
              0.5555555555555556,
              "#d8576b"
             ],
             [
              0.6666666666666666,
              "#ed7953"
             ],
             [
              0.7777777777777778,
              "#fb9f3a"
             ],
             [
              0.8888888888888888,
              "#fdca26"
             ],
             [
              1.0,
              "#f0f921"
             ]
            ]
           }
          ],
          "choropleth": [
           {
            "type": "choropleth",
            "colorbar": {
             "outlinewidth": 0,
             "ticks": ""
            }
           }
          ],
          "histogram2d": [
           {
            "type": "histogram2d",
            "colorbar": {
             "outlinewidth": 0,
             "ticks": ""
            },
            "colorscale": [
             [
              0.0,
              "#0d0887"
             ],
             [
              0.1111111111111111,
              "#46039f"
             ],
             [
              0.2222222222222222,
              "#7201a8"
             ],
             [
              0.3333333333333333,
              "#9c179e"
             ],
             [
              0.4444444444444444,
              "#bd3786"
             ],
             [
              0.5555555555555556,
              "#d8576b"
             ],
             [
              0.6666666666666666,
              "#ed7953"
             ],
             [
              0.7777777777777778,
              "#fb9f3a"
             ],
             [
              0.8888888888888888,
              "#fdca26"
             ],
             [
              1.0,
              "#f0f921"
             ]
            ]
           }
          ],
          "heatmap": [
           {
            "type": "heatmap",
            "colorbar": {
             "outlinewidth": 0,
             "ticks": ""
            },
            "colorscale": [
             [
              0.0,
              "#0d0887"
             ],
             [
              0.1111111111111111,
              "#46039f"
             ],
             [
              0.2222222222222222,
              "#7201a8"
             ],
             [
              0.3333333333333333,
              "#9c179e"
             ],
             [
              0.4444444444444444,
              "#bd3786"
             ],
             [
              0.5555555555555556,
              "#d8576b"
             ],
             [
              0.6666666666666666,
              "#ed7953"
             ],
             [
              0.7777777777777778,
              "#fb9f3a"
             ],
             [
              0.8888888888888888,
              "#fdca26"
             ],
             [
              1.0,
              "#f0f921"
             ]
            ]
           }
          ],
          "heatmapgl": [
           {
            "type": "heatmapgl",
            "colorbar": {
             "outlinewidth": 0,
             "ticks": ""
            },
            "colorscale": [
             [
              0.0,
              "#0d0887"
             ],
             [
              0.1111111111111111,
              "#46039f"
             ],
             [
              0.2222222222222222,
              "#7201a8"
             ],
             [
              0.3333333333333333,
              "#9c179e"
             ],
             [
              0.4444444444444444,
              "#bd3786"
             ],
             [
              0.5555555555555556,
              "#d8576b"
             ],
             [
              0.6666666666666666,
              "#ed7953"
             ],
             [
              0.7777777777777778,
              "#fb9f3a"
             ],
             [
              0.8888888888888888,
              "#fdca26"
             ],
             [
              1.0,
              "#f0f921"
             ]
            ]
           }
          ],
          "contourcarpet": [
           {
            "type": "contourcarpet",
            "colorbar": {
             "outlinewidth": 0,
             "ticks": ""
            }
           }
          ],
          "contour": [
           {
            "type": "contour",
            "colorbar": {
             "outlinewidth": 0,
             "ticks": ""
            },
            "colorscale": [
             [
              0.0,
              "#0d0887"
             ],
             [
              0.1111111111111111,
              "#46039f"
             ],
             [
              0.2222222222222222,
              "#7201a8"
             ],
             [
              0.3333333333333333,
              "#9c179e"
             ],
             [
              0.4444444444444444,
              "#bd3786"
             ],
             [
              0.5555555555555556,
              "#d8576b"
             ],
             [
              0.6666666666666666,
              "#ed7953"
             ],
             [
              0.7777777777777778,
              "#fb9f3a"
             ],
             [
              0.8888888888888888,
              "#fdca26"
             ],
             [
              1.0,
              "#f0f921"
             ]
            ]
           }
          ],
          "surface": [
           {
            "type": "surface",
            "colorbar": {
             "outlinewidth": 0,
             "ticks": ""
            },
            "colorscale": [
             [
              0.0,
              "#0d0887"
             ],
             [
              0.1111111111111111,
              "#46039f"
             ],
             [
              0.2222222222222222,
              "#7201a8"
             ],
             [
              0.3333333333333333,
              "#9c179e"
             ],
             [
              0.4444444444444444,
              "#bd3786"
             ],
             [
              0.5555555555555556,
              "#d8576b"
             ],
             [
              0.6666666666666666,
              "#ed7953"
             ],
             [
              0.7777777777777778,
              "#fb9f3a"
             ],
             [
              0.8888888888888888,
              "#fdca26"
             ],
             [
              1.0,
              "#f0f921"
             ]
            ]
           }
          ],
          "mesh3d": [
           {
            "type": "mesh3d",
            "colorbar": {
             "outlinewidth": 0,
             "ticks": ""
            }
           }
          ],
          "scatter": [
           {
            "fillpattern": {
             "fillmode": "overlay",
             "size": 10,
             "solidity": 0.2
            },
            "type": "scatter"
           }
          ],
          "parcoords": [
           {
            "type": "parcoords",
            "line": {
             "colorbar": {
              "outlinewidth": 0,
              "ticks": ""
             }
            }
           }
          ],
          "scatterpolargl": [
           {
            "type": "scatterpolargl",
            "marker": {
             "colorbar": {
              "outlinewidth": 0,
              "ticks": ""
             }
            }
           }
          ],
          "bar": [
           {
            "error_x": {
             "color": "#2a3f5f"
            },
            "error_y": {
             "color": "#2a3f5f"
            },
            "marker": {
             "line": {
              "color": "#E5ECF6",
              "width": 0.5
             },
             "pattern": {
              "fillmode": "overlay",
              "size": 10,
              "solidity": 0.2
             }
            },
            "type": "bar"
           }
          ],
          "scattergeo": [
           {
            "type": "scattergeo",
            "marker": {
             "colorbar": {
              "outlinewidth": 0,
              "ticks": ""
             }
            }
           }
          ],
          "scatterpolar": [
           {
            "type": "scatterpolar",
            "marker": {
             "colorbar": {
              "outlinewidth": 0,
              "ticks": ""
             }
            }
           }
          ],
          "histogram": [
           {
            "marker": {
             "pattern": {
              "fillmode": "overlay",
              "size": 10,
              "solidity": 0.2
             }
            },
            "type": "histogram"
           }
          ],
          "scattergl": [
           {
            "type": "scattergl",
            "marker": {
             "colorbar": {
              "outlinewidth": 0,
              "ticks": ""
             }
            }
           }
          ],
          "scatter3d": [
           {
            "type": "scatter3d",
            "line": {
             "colorbar": {
              "outlinewidth": 0,
              "ticks": ""
             }
            },
            "marker": {
             "colorbar": {
              "outlinewidth": 0,
              "ticks": ""
             }
            }
           }
          ],
          "scattermapbox": [
           {
            "type": "scattermapbox",
            "marker": {
             "colorbar": {
              "outlinewidth": 0,
              "ticks": ""
             }
            }
           }
          ],
          "scatterternary": [
           {
            "type": "scatterternary",
            "marker": {
             "colorbar": {
              "outlinewidth": 0,
              "ticks": ""
             }
            }
           }
          ],
          "scattercarpet": [
           {
            "type": "scattercarpet",
            "marker": {
             "colorbar": {
              "outlinewidth": 0,
              "ticks": ""
             }
            }
           }
          ],
          "carpet": [
           {
            "aaxis": {
             "endlinecolor": "#2a3f5f",
             "gridcolor": "white",
             "linecolor": "white",
             "minorgridcolor": "white",
             "startlinecolor": "#2a3f5f"
            },
            "baxis": {
             "endlinecolor": "#2a3f5f",
             "gridcolor": "white",
             "linecolor": "white",
             "minorgridcolor": "white",
             "startlinecolor": "#2a3f5f"
            },
            "type": "carpet"
           }
          ],
          "table": [
           {
            "cells": {
             "fill": {
              "color": "#EBF0F8"
             },
             "line": {
              "color": "white"
             }
            },
            "header": {
             "fill": {
              "color": "#C8D4E3"
             },
             "line": {
              "color": "white"
             }
            },
            "type": "table"
           }
          ],
          "barpolar": [
           {
            "marker": {
             "line": {
              "color": "#E5ECF6",
              "width": 0.5
             },
             "pattern": {
              "fillmode": "overlay",
              "size": 10,
              "solidity": 0.2
             }
            },
            "type": "barpolar"
           }
          ],
          "pie": [
           {
            "automargin": true,
            "type": "pie"
           }
          ]
         },
         "layout": {
          "autotypenumbers": "strict",
          "colorway": [
           "#636efa",
           "#EF553B",
           "#00cc96",
           "#ab63fa",
           "#FFA15A",
           "#19d3f3",
           "#FF6692",
           "#B6E880",
           "#FF97FF",
           "#FECB52"
          ],
          "font": {
           "color": "#2a3f5f"
          },
          "hovermode": "closest",
          "hoverlabel": {
           "align": "left"
          },
          "paper_bgcolor": "white",
          "plot_bgcolor": "#E5ECF6",
          "polar": {
           "bgcolor": "#E5ECF6",
           "angularaxis": {
            "gridcolor": "white",
            "linecolor": "white",
            "ticks": ""
           },
           "radialaxis": {
            "gridcolor": "white",
            "linecolor": "white",
            "ticks": ""
           }
          },
          "ternary": {
           "bgcolor": "#E5ECF6",
           "aaxis": {
            "gridcolor": "white",
            "linecolor": "white",
            "ticks": ""
           },
           "baxis": {
            "gridcolor": "white",
            "linecolor": "white",
            "ticks": ""
           },
           "caxis": {
            "gridcolor": "white",
            "linecolor": "white",
            "ticks": ""
           }
          },
          "coloraxis": {
           "colorbar": {
            "outlinewidth": 0,
            "ticks": ""
           }
          },
          "colorscale": {
           "sequential": [
            [
             0.0,
             "#0d0887"
            ],
            [
             0.1111111111111111,
             "#46039f"
            ],
            [
             0.2222222222222222,
             "#7201a8"
            ],
            [
             0.3333333333333333,
             "#9c179e"
            ],
            [
             0.4444444444444444,
             "#bd3786"
            ],
            [
             0.5555555555555556,
             "#d8576b"
            ],
            [
             0.6666666666666666,
             "#ed7953"
            ],
            [
             0.7777777777777778,
             "#fb9f3a"
            ],
            [
             0.8888888888888888,
             "#fdca26"
            ],
            [
             1.0,
             "#f0f921"
            ]
           ],
           "sequentialminus": [
            [
             0.0,
             "#0d0887"
            ],
            [
             0.1111111111111111,
             "#46039f"
            ],
            [
             0.2222222222222222,
             "#7201a8"
            ],
            [
             0.3333333333333333,
             "#9c179e"
            ],
            [
             0.4444444444444444,
             "#bd3786"
            ],
            [
             0.5555555555555556,
             "#d8576b"
            ],
            [
             0.6666666666666666,
             "#ed7953"
            ],
            [
             0.7777777777777778,
             "#fb9f3a"
            ],
            [
             0.8888888888888888,
             "#fdca26"
            ],
            [
             1.0,
             "#f0f921"
            ]
           ],
           "diverging": [
            [
             0,
             "#8e0152"
            ],
            [
             0.1,
             "#c51b7d"
            ],
            [
             0.2,
             "#de77ae"
            ],
            [
             0.3,
             "#f1b6da"
            ],
            [
             0.4,
             "#fde0ef"
            ],
            [
             0.5,
             "#f7f7f7"
            ],
            [
             0.6,
             "#e6f5d0"
            ],
            [
             0.7,
             "#b8e186"
            ],
            [
             0.8,
             "#7fbc41"
            ],
            [
             0.9,
             "#4d9221"
            ],
            [
             1,
             "#276419"
            ]
           ]
          },
          "xaxis": {
           "gridcolor": "white",
           "linecolor": "white",
           "ticks": "",
           "title": {
            "standoff": 15
           },
           "zerolinecolor": "white",
           "automargin": true,
           "zerolinewidth": 2
          },
          "yaxis": {
           "gridcolor": "white",
           "linecolor": "white",
           "ticks": "",
           "title": {
            "standoff": 15
           },
           "zerolinecolor": "white",
           "automargin": true,
           "zerolinewidth": 2
          },
          "scene": {
           "xaxis": {
            "backgroundcolor": "#E5ECF6",
            "gridcolor": "white",
            "linecolor": "white",
            "showbackground": true,
            "ticks": "",
            "zerolinecolor": "white",
            "gridwidth": 2
           },
           "yaxis": {
            "backgroundcolor": "#E5ECF6",
            "gridcolor": "white",
            "linecolor": "white",
            "showbackground": true,
            "ticks": "",
            "zerolinecolor": "white",
            "gridwidth": 2
           },
           "zaxis": {
            "backgroundcolor": "#E5ECF6",
            "gridcolor": "white",
            "linecolor": "white",
            "showbackground": true,
            "ticks": "",
            "zerolinecolor": "white",
            "gridwidth": 2
           }
          },
          "shapedefaults": {
           "line": {
            "color": "#2a3f5f"
           }
          },
          "annotationdefaults": {
           "arrowcolor": "#2a3f5f",
           "arrowhead": 0,
           "arrowwidth": 1
          },
          "geo": {
           "bgcolor": "white",
           "landcolor": "#E5ECF6",
           "subunitcolor": "white",
           "showland": true,
           "showlakes": true,
           "lakecolor": "white"
          },
          "title": {
           "x": 0.05
          },
          "mapbox": {
           "style": "light"
          }
         }
        },
        "xaxis": {
         "anchor": "y",
         "domain": [
          0.0,
          1.0
         ],
         "title": {
          "text": "Product"
         },
         "categoryorder": "array",
         "categoryarray": [
          "Credit reporting",
          "Credit card or prepaid card",
          "Checking or savings account",
          "Debt collection",
          "Loan",
          "Mortgage"
         ],
         "showline": true,
         "linecolor": "black"
        },
        "yaxis": {
         "anchor": "x",
         "domain": [
          0.0,
          1.0
         ],
         "title": {
          "text": "Complaint Count"
         },
         "showline": true,
         "linecolor": "black"
        },
        "legend": {
         "title": {
          "text": "Product"
         },
         "tracegroupgap": 0
        },
        "margin": {
         "t": 60
        },
        "barmode": "relative",
        "font": {
         "color": "black"
        },
        "plot_bgcolor": "white",
        "showlegend": false
       },
       "config": {
        "plotlyServerURL": "https://plot.ly"
       }
      },
      "text/html": "<div>                            <div id=\"5b1faae2-e81c-4d71-84ad-31fe7c4deee7\" class=\"plotly-graph-div\" style=\"height:525px; width:100%;\"></div>            <script type=\"text/javascript\">                require([\"plotly\"], function(Plotly) {                    window.PLOTLYENV=window.PLOTLYENV || {};                                    if (document.getElementById(\"5b1faae2-e81c-4d71-84ad-31fe7c4deee7\")) {                    Plotly.newPlot(                        \"5b1faae2-e81c-4d71-84ad-31fe7c4deee7\",                        [{\"alignmentgroup\":\"True\",\"hovertemplate\":\"Product=%{x}\\u003cbr\\u003ey=%{y}\\u003cextra\\u003e\\u003c\\u002fextra\\u003e\",\"legendgroup\":\"Credit reporting\",\"marker\":{\"color\":\"blue\",\"pattern\":{\"shape\":\"\"}},\"name\":\"Credit reporting\",\"offsetgroup\":\"Credit reporting\",\"orientation\":\"v\",\"showlegend\":true,\"textposition\":\"auto\",\"x\":[\"Credit reporting\"],\"xaxis\":\"x\",\"y\":[31972],\"yaxis\":\"y\",\"type\":\"bar\"},{\"alignmentgroup\":\"True\",\"hovertemplate\":\"Product=%{x}\\u003cbr\\u003ey=%{y}\\u003cextra\\u003e\\u003c\\u002fextra\\u003e\",\"legendgroup\":\"Credit card or prepaid card\",\"marker\":{\"color\":\"blue\",\"pattern\":{\"shape\":\"\"}},\"name\":\"Credit card or prepaid card\",\"offsetgroup\":\"Credit card or prepaid card\",\"orientation\":\"v\",\"showlegend\":true,\"textposition\":\"auto\",\"x\":[\"Credit card or prepaid card\"],\"xaxis\":\"x\",\"y\":[7556],\"yaxis\":\"y\",\"type\":\"bar\"},{\"alignmentgroup\":\"True\",\"hovertemplate\":\"Product=%{x}\\u003cbr\\u003ey=%{y}\\u003cextra\\u003e\\u003c\\u002fextra\\u003e\",\"legendgroup\":\"Checking or savings account\",\"marker\":{\"color\":\"blue\",\"pattern\":{\"shape\":\"\"}},\"name\":\"Checking or savings account\",\"offsetgroup\":\"Checking or savings account\",\"orientation\":\"v\",\"showlegend\":true,\"textposition\":\"auto\",\"x\":[\"Checking or savings account\"],\"xaxis\":\"x\",\"y\":[7146],\"yaxis\":\"y\",\"type\":\"bar\"},{\"alignmentgroup\":\"True\",\"hovertemplate\":\"Product=%{x}\\u003cbr\\u003ey=%{y}\\u003cextra\\u003e\\u003c\\u002fextra\\u003e\",\"legendgroup\":\"Debt collection\",\"marker\":{\"color\":\"blue\",\"pattern\":{\"shape\":\"\"}},\"name\":\"Debt collection\",\"offsetgroup\":\"Debt collection\",\"orientation\":\"v\",\"showlegend\":true,\"textposition\":\"auto\",\"x\":[\"Debt collection\"],\"xaxis\":\"x\",\"y\":[5692],\"yaxis\":\"y\",\"type\":\"bar\"},{\"alignmentgroup\":\"True\",\"hovertemplate\":\"Product=%{x}\\u003cbr\\u003ey=%{y}\\u003cextra\\u003e\\u003c\\u002fextra\\u003e\",\"legendgroup\":\"Loan\",\"marker\":{\"color\":\"blue\",\"pattern\":{\"shape\":\"\"}},\"name\":\"Loan\",\"offsetgroup\":\"Loan\",\"orientation\":\"v\",\"showlegend\":true,\"textposition\":\"auto\",\"x\":[\"Loan\"],\"xaxis\":\"x\",\"y\":[2173],\"yaxis\":\"y\",\"type\":\"bar\"},{\"alignmentgroup\":\"True\",\"hovertemplate\":\"Product=%{x}\\u003cbr\\u003ey=%{y}\\u003cextra\\u003e\\u003c\\u002fextra\\u003e\",\"legendgroup\":\"Mortgage\",\"marker\":{\"color\":\"blue\",\"pattern\":{\"shape\":\"\"}},\"name\":\"Mortgage\",\"offsetgroup\":\"Mortgage\",\"orientation\":\"v\",\"showlegend\":true,\"textposition\":\"auto\",\"x\":[\"Mortgage\"],\"xaxis\":\"x\",\"y\":[1385],\"yaxis\":\"y\",\"type\":\"bar\"}],                        {\"template\":{\"data\":{\"histogram2dcontour\":[{\"type\":\"histogram2dcontour\",\"colorbar\":{\"outlinewidth\":0,\"ticks\":\"\"},\"colorscale\":[[0.0,\"#0d0887\"],[0.1111111111111111,\"#46039f\"],[0.2222222222222222,\"#7201a8\"],[0.3333333333333333,\"#9c179e\"],[0.4444444444444444,\"#bd3786\"],[0.5555555555555556,\"#d8576b\"],[0.6666666666666666,\"#ed7953\"],[0.7777777777777778,\"#fb9f3a\"],[0.8888888888888888,\"#fdca26\"],[1.0,\"#f0f921\"]]}],\"choropleth\":[{\"type\":\"choropleth\",\"colorbar\":{\"outlinewidth\":0,\"ticks\":\"\"}}],\"histogram2d\":[{\"type\":\"histogram2d\",\"colorbar\":{\"outlinewidth\":0,\"ticks\":\"\"},\"colorscale\":[[0.0,\"#0d0887\"],[0.1111111111111111,\"#46039f\"],[0.2222222222222222,\"#7201a8\"],[0.3333333333333333,\"#9c179e\"],[0.4444444444444444,\"#bd3786\"],[0.5555555555555556,\"#d8576b\"],[0.6666666666666666,\"#ed7953\"],[0.7777777777777778,\"#fb9f3a\"],[0.8888888888888888,\"#fdca26\"],[1.0,\"#f0f921\"]]}],\"heatmap\":[{\"type\":\"heatmap\",\"colorbar\":{\"outlinewidth\":0,\"ticks\":\"\"},\"colorscale\":[[0.0,\"#0d0887\"],[0.1111111111111111,\"#46039f\"],[0.2222222222222222,\"#7201a8\"],[0.3333333333333333,\"#9c179e\"],[0.4444444444444444,\"#bd3786\"],[0.5555555555555556,\"#d8576b\"],[0.6666666666666666,\"#ed7953\"],[0.7777777777777778,\"#fb9f3a\"],[0.8888888888888888,\"#fdca26\"],[1.0,\"#f0f921\"]]}],\"heatmapgl\":[{\"type\":\"heatmapgl\",\"colorbar\":{\"outlinewidth\":0,\"ticks\":\"\"},\"colorscale\":[[0.0,\"#0d0887\"],[0.1111111111111111,\"#46039f\"],[0.2222222222222222,\"#7201a8\"],[0.3333333333333333,\"#9c179e\"],[0.4444444444444444,\"#bd3786\"],[0.5555555555555556,\"#d8576b\"],[0.6666666666666666,\"#ed7953\"],[0.7777777777777778,\"#fb9f3a\"],[0.8888888888888888,\"#fdca26\"],[1.0,\"#f0f921\"]]}],\"contourcarpet\":[{\"type\":\"contourcarpet\",\"colorbar\":{\"outlinewidth\":0,\"ticks\":\"\"}}],\"contour\":[{\"type\":\"contour\",\"colorbar\":{\"outlinewidth\":0,\"ticks\":\"\"},\"colorscale\":[[0.0,\"#0d0887\"],[0.1111111111111111,\"#46039f\"],[0.2222222222222222,\"#7201a8\"],[0.3333333333333333,\"#9c179e\"],[0.4444444444444444,\"#bd3786\"],[0.5555555555555556,\"#d8576b\"],[0.6666666666666666,\"#ed7953\"],[0.7777777777777778,\"#fb9f3a\"],[0.8888888888888888,\"#fdca26\"],[1.0,\"#f0f921\"]]}],\"surface\":[{\"type\":\"surface\",\"colorbar\":{\"outlinewidth\":0,\"ticks\":\"\"},\"colorscale\":[[0.0,\"#0d0887\"],[0.1111111111111111,\"#46039f\"],[0.2222222222222222,\"#7201a8\"],[0.3333333333333333,\"#9c179e\"],[0.4444444444444444,\"#bd3786\"],[0.5555555555555556,\"#d8576b\"],[0.6666666666666666,\"#ed7953\"],[0.7777777777777778,\"#fb9f3a\"],[0.8888888888888888,\"#fdca26\"],[1.0,\"#f0f921\"]]}],\"mesh3d\":[{\"type\":\"mesh3d\",\"colorbar\":{\"outlinewidth\":0,\"ticks\":\"\"}}],\"scatter\":[{\"fillpattern\":{\"fillmode\":\"overlay\",\"size\":10,\"solidity\":0.2},\"type\":\"scatter\"}],\"parcoords\":[{\"type\":\"parcoords\",\"line\":{\"colorbar\":{\"outlinewidth\":0,\"ticks\":\"\"}}}],\"scatterpolargl\":[{\"type\":\"scatterpolargl\",\"marker\":{\"colorbar\":{\"outlinewidth\":0,\"ticks\":\"\"}}}],\"bar\":[{\"error_x\":{\"color\":\"#2a3f5f\"},\"error_y\":{\"color\":\"#2a3f5f\"},\"marker\":{\"line\":{\"color\":\"#E5ECF6\",\"width\":0.5},\"pattern\":{\"fillmode\":\"overlay\",\"size\":10,\"solidity\":0.2}},\"type\":\"bar\"}],\"scattergeo\":[{\"type\":\"scattergeo\",\"marker\":{\"colorbar\":{\"outlinewidth\":0,\"ticks\":\"\"}}}],\"scatterpolar\":[{\"type\":\"scatterpolar\",\"marker\":{\"colorbar\":{\"outlinewidth\":0,\"ticks\":\"\"}}}],\"histogram\":[{\"marker\":{\"pattern\":{\"fillmode\":\"overlay\",\"size\":10,\"solidity\":0.2}},\"type\":\"histogram\"}],\"scattergl\":[{\"type\":\"scattergl\",\"marker\":{\"colorbar\":{\"outlinewidth\":0,\"ticks\":\"\"}}}],\"scatter3d\":[{\"type\":\"scatter3d\",\"line\":{\"colorbar\":{\"outlinewidth\":0,\"ticks\":\"\"}},\"marker\":{\"colorbar\":{\"outlinewidth\":0,\"ticks\":\"\"}}}],\"scattermapbox\":[{\"type\":\"scattermapbox\",\"marker\":{\"colorbar\":{\"outlinewidth\":0,\"ticks\":\"\"}}}],\"scatterternary\":[{\"type\":\"scatterternary\",\"marker\":{\"colorbar\":{\"outlinewidth\":0,\"ticks\":\"\"}}}],\"scattercarpet\":[{\"type\":\"scattercarpet\",\"marker\":{\"colorbar\":{\"outlinewidth\":0,\"ticks\":\"\"}}}],\"carpet\":[{\"aaxis\":{\"endlinecolor\":\"#2a3f5f\",\"gridcolor\":\"white\",\"linecolor\":\"white\",\"minorgridcolor\":\"white\",\"startlinecolor\":\"#2a3f5f\"},\"baxis\":{\"endlinecolor\":\"#2a3f5f\",\"gridcolor\":\"white\",\"linecolor\":\"white\",\"minorgridcolor\":\"white\",\"startlinecolor\":\"#2a3f5f\"},\"type\":\"carpet\"}],\"table\":[{\"cells\":{\"fill\":{\"color\":\"#EBF0F8\"},\"line\":{\"color\":\"white\"}},\"header\":{\"fill\":{\"color\":\"#C8D4E3\"},\"line\":{\"color\":\"white\"}},\"type\":\"table\"}],\"barpolar\":[{\"marker\":{\"line\":{\"color\":\"#E5ECF6\",\"width\":0.5},\"pattern\":{\"fillmode\":\"overlay\",\"size\":10,\"solidity\":0.2}},\"type\":\"barpolar\"}],\"pie\":[{\"automargin\":true,\"type\":\"pie\"}]},\"layout\":{\"autotypenumbers\":\"strict\",\"colorway\":[\"#636efa\",\"#EF553B\",\"#00cc96\",\"#ab63fa\",\"#FFA15A\",\"#19d3f3\",\"#FF6692\",\"#B6E880\",\"#FF97FF\",\"#FECB52\"],\"font\":{\"color\":\"#2a3f5f\"},\"hovermode\":\"closest\",\"hoverlabel\":{\"align\":\"left\"},\"paper_bgcolor\":\"white\",\"plot_bgcolor\":\"#E5ECF6\",\"polar\":{\"bgcolor\":\"#E5ECF6\",\"angularaxis\":{\"gridcolor\":\"white\",\"linecolor\":\"white\",\"ticks\":\"\"},\"radialaxis\":{\"gridcolor\":\"white\",\"linecolor\":\"white\",\"ticks\":\"\"}},\"ternary\":{\"bgcolor\":\"#E5ECF6\",\"aaxis\":{\"gridcolor\":\"white\",\"linecolor\":\"white\",\"ticks\":\"\"},\"baxis\":{\"gridcolor\":\"white\",\"linecolor\":\"white\",\"ticks\":\"\"},\"caxis\":{\"gridcolor\":\"white\",\"linecolor\":\"white\",\"ticks\":\"\"}},\"coloraxis\":{\"colorbar\":{\"outlinewidth\":0,\"ticks\":\"\"}},\"colorscale\":{\"sequential\":[[0.0,\"#0d0887\"],[0.1111111111111111,\"#46039f\"],[0.2222222222222222,\"#7201a8\"],[0.3333333333333333,\"#9c179e\"],[0.4444444444444444,\"#bd3786\"],[0.5555555555555556,\"#d8576b\"],[0.6666666666666666,\"#ed7953\"],[0.7777777777777778,\"#fb9f3a\"],[0.8888888888888888,\"#fdca26\"],[1.0,\"#f0f921\"]],\"sequentialminus\":[[0.0,\"#0d0887\"],[0.1111111111111111,\"#46039f\"],[0.2222222222222222,\"#7201a8\"],[0.3333333333333333,\"#9c179e\"],[0.4444444444444444,\"#bd3786\"],[0.5555555555555556,\"#d8576b\"],[0.6666666666666666,\"#ed7953\"],[0.7777777777777778,\"#fb9f3a\"],[0.8888888888888888,\"#fdca26\"],[1.0,\"#f0f921\"]],\"diverging\":[[0,\"#8e0152\"],[0.1,\"#c51b7d\"],[0.2,\"#de77ae\"],[0.3,\"#f1b6da\"],[0.4,\"#fde0ef\"],[0.5,\"#f7f7f7\"],[0.6,\"#e6f5d0\"],[0.7,\"#b8e186\"],[0.8,\"#7fbc41\"],[0.9,\"#4d9221\"],[1,\"#276419\"]]},\"xaxis\":{\"gridcolor\":\"white\",\"linecolor\":\"white\",\"ticks\":\"\",\"title\":{\"standoff\":15},\"zerolinecolor\":\"white\",\"automargin\":true,\"zerolinewidth\":2},\"yaxis\":{\"gridcolor\":\"white\",\"linecolor\":\"white\",\"ticks\":\"\",\"title\":{\"standoff\":15},\"zerolinecolor\":\"white\",\"automargin\":true,\"zerolinewidth\":2},\"scene\":{\"xaxis\":{\"backgroundcolor\":\"#E5ECF6\",\"gridcolor\":\"white\",\"linecolor\":\"white\",\"showbackground\":true,\"ticks\":\"\",\"zerolinecolor\":\"white\",\"gridwidth\":2},\"yaxis\":{\"backgroundcolor\":\"#E5ECF6\",\"gridcolor\":\"white\",\"linecolor\":\"white\",\"showbackground\":true,\"ticks\":\"\",\"zerolinecolor\":\"white\",\"gridwidth\":2},\"zaxis\":{\"backgroundcolor\":\"#E5ECF6\",\"gridcolor\":\"white\",\"linecolor\":\"white\",\"showbackground\":true,\"ticks\":\"\",\"zerolinecolor\":\"white\",\"gridwidth\":2}},\"shapedefaults\":{\"line\":{\"color\":\"#2a3f5f\"}},\"annotationdefaults\":{\"arrowcolor\":\"#2a3f5f\",\"arrowhead\":0,\"arrowwidth\":1},\"geo\":{\"bgcolor\":\"white\",\"landcolor\":\"#E5ECF6\",\"subunitcolor\":\"white\",\"showland\":true,\"showlakes\":true,\"lakecolor\":\"white\"},\"title\":{\"x\":0.05},\"mapbox\":{\"style\":\"light\"}}},\"xaxis\":{\"anchor\":\"y\",\"domain\":[0.0,1.0],\"title\":{\"text\":\"Product\"},\"categoryorder\":\"array\",\"categoryarray\":[\"Credit reporting\",\"Credit card or prepaid card\",\"Checking or savings account\",\"Debt collection\",\"Loan\",\"Mortgage\"],\"showline\":true,\"linecolor\":\"black\"},\"yaxis\":{\"anchor\":\"x\",\"domain\":[0.0,1.0],\"title\":{\"text\":\"Complaint Count\"},\"showline\":true,\"linecolor\":\"black\"},\"legend\":{\"title\":{\"text\":\"Product\"},\"tracegroupgap\":0},\"margin\":{\"t\":60},\"barmode\":\"relative\",\"font\":{\"color\":\"black\"},\"plot_bgcolor\":\"white\",\"showlegend\":false},                        {\"responsive\": true}                    ).then(function(){\n                            \nvar gd = document.getElementById('5b1faae2-e81c-4d71-84ad-31fe7c4deee7');\nvar x = new MutationObserver(function (mutations, observer) {{\n        var display = window.getComputedStyle(gd).display;\n        if (!display || display === 'none') {{\n            console.log([gd, 'removed!']);\n            Plotly.purge(gd);\n            observer.disconnect();\n        }}\n}});\n\n// Listen for the removal of the full notebook cells\nvar notebookContainer = gd.closest('#notebook-container');\nif (notebookContainer) {{\n    x.observe(notebookContainer, {childList: true});\n}}\n\n// Listen for the clearing of the current output cell\nvar outputEl = gd.closest('.output');\nif (outputEl) {{\n    x.observe(outputEl, {childList: true});\n}}\n\n                        })                };                });            </script>        </div>"
     },
     "metadata": {},
     "output_type": "display_data"
    }
   ],
   "source": [
    "# Create the bar chart\n",
    "#fig = px.bar(df_value_counts_prod2, x=df_value_counts_prod2.index, y=df_value_counts_prod2.values)\n",
    "fig = px.bar(df_value_counts_prod2, x=df_value_counts_prod2.index, y=df_value_counts_prod2.values,\n",
    "             color=df_value_counts_prod2.index, color_discrete_sequence=['blue'])  # Set the color of the bars to black\n",
    "\n",
    "fig.update_layout(\n",
    "    plot_bgcolor='white',  \n",
    "    font_color='black',  \n",
    "    xaxis=dict(title='Product', showline=True, linecolor = 'black'),  \n",
    "    yaxis=dict(title='Complaint Count',  showline=True, linecolor = 'black')  ,\n",
    "    showlegend=False\n",
    ")\n",
    "# Show the plot\n",
    "fig.show()"
   ],
   "metadata": {
    "collapsed": false,
    "ExecuteTime": {
     "end_time": "2024-04-28T18:19:33.632283Z",
     "start_time": "2024-04-28T18:19:33.330655Z"
    }
   },
   "id": "4e75cc634e772c37",
   "execution_count": 88
  },
  {
   "cell_type": "code",
   "outputs": [
    {
     "name": "stdout",
     "output_type": "stream",
     "text": [
      "42                                 usbancorp\n",
      "57         transunionintermediateholdingsinc\n",
      "215                               citibankna\n",
      "362        transunionintermediateholdingsinc\n",
      "466        transunionintermediateholdingsinc\n",
      "                         ...                \n",
      "5077824           truistfinancialcorporation\n",
      "5078580    transunionintermediateholdingsinc\n",
      "5079708          blakelywittandassociatesinc\n",
      "5079986    transunionintermediateholdingsinc\n",
      "5081162                         corelogicinc\n",
      "Name: Company, Length: 55924, dtype: object\n"
     ]
    }
   ],
   "source": [
    "#Cleaning the company texts and combining any redundant ones\n",
    "import re\n",
    "\n",
    "# Define a function to clean the text\n",
    "def clean_text(text):\n",
    "    # Convert to lowercase\n",
    "    text = text.lower()\n",
    "    # Remove special characters\n",
    "    text = re.sub(r'[^a-zA-Z0-9\\s]', ' ', text)\n",
    "    text = text.replace(\" \", \"\")\n",
    "    # Strip whitespace\n",
    "    text = text.strip()\n",
    "    return text\n",
    "\n",
    "# Apply the clean_text function to the 'Original_Column' and store the cleaned values in 'New_Column'\n",
    "df2['Company'] = df2['Company'].apply(clean_text)\n",
    "print(df2['Company'])"
   ],
   "metadata": {
    "collapsed": false,
    "ExecuteTime": {
     "end_time": "2024-04-28T17:36:49.490551Z",
     "start_time": "2024-04-28T17:36:49.018287Z"
    }
   },
   "id": "5dfff926c8204af3",
   "execution_count": 57
  },
  {
   "cell_type": "code",
   "outputs": [
    {
     "data": {
      "text/plain": "                                            Company  count  cumulative_count  \\\n0                 transunionintermediateholdingsinc  13788             13788   \n1                   experianinformationsolutionsinc  13771             27559   \n2                                 wellsfargocompany   3137             30696   \n3                                        citibankna   2973             33669   \n4                  bankofamericanationalassociation   2931             36600   \n..                                              ...    ...               ...   \n796                                         marsinc      1             55920   \n797              aequitascapitalopportunitiesfundlp      1             55921   \n798                                   bffinancecorp      1             55922   \n799                           arcmanagementgroupllc      1             55923   \n800  highereducationstudentassistanceauthorityhesaa      1             55924   \n\n     percentage  \n0     24.654889  \n1     24.624490  \n2      5.609398  \n3      5.316143  \n4      5.241041  \n..          ...  \n796    0.001788  \n797    0.001788  \n798    0.001788  \n799    0.001788  \n800    0.001788  \n\n[801 rows x 4 columns]",
      "text/html": "<div>\n<style scoped>\n    .dataframe tbody tr th:only-of-type {\n        vertical-align: middle;\n    }\n\n    .dataframe tbody tr th {\n        vertical-align: top;\n    }\n\n    .dataframe thead th {\n        text-align: right;\n    }\n</style>\n<table border=\"1\" class=\"dataframe\">\n  <thead>\n    <tr style=\"text-align: right;\">\n      <th></th>\n      <th>Company</th>\n      <th>count</th>\n      <th>cumulative_count</th>\n      <th>percentage</th>\n    </tr>\n  </thead>\n  <tbody>\n    <tr>\n      <th>0</th>\n      <td>transunionintermediateholdingsinc</td>\n      <td>13788</td>\n      <td>13788</td>\n      <td>24.654889</td>\n    </tr>\n    <tr>\n      <th>1</th>\n      <td>experianinformationsolutionsinc</td>\n      <td>13771</td>\n      <td>27559</td>\n      <td>24.624490</td>\n    </tr>\n    <tr>\n      <th>2</th>\n      <td>wellsfargocompany</td>\n      <td>3137</td>\n      <td>30696</td>\n      <td>5.609398</td>\n    </tr>\n    <tr>\n      <th>3</th>\n      <td>citibankna</td>\n      <td>2973</td>\n      <td>33669</td>\n      <td>5.316143</td>\n    </tr>\n    <tr>\n      <th>4</th>\n      <td>bankofamericanationalassociation</td>\n      <td>2931</td>\n      <td>36600</td>\n      <td>5.241041</td>\n    </tr>\n    <tr>\n      <th>...</th>\n      <td>...</td>\n      <td>...</td>\n      <td>...</td>\n      <td>...</td>\n    </tr>\n    <tr>\n      <th>796</th>\n      <td>marsinc</td>\n      <td>1</td>\n      <td>55920</td>\n      <td>0.001788</td>\n    </tr>\n    <tr>\n      <th>797</th>\n      <td>aequitascapitalopportunitiesfundlp</td>\n      <td>1</td>\n      <td>55921</td>\n      <td>0.001788</td>\n    </tr>\n    <tr>\n      <th>798</th>\n      <td>bffinancecorp</td>\n      <td>1</td>\n      <td>55922</td>\n      <td>0.001788</td>\n    </tr>\n    <tr>\n      <th>799</th>\n      <td>arcmanagementgroupllc</td>\n      <td>1</td>\n      <td>55923</td>\n      <td>0.001788</td>\n    </tr>\n    <tr>\n      <th>800</th>\n      <td>highereducationstudentassistanceauthorityhesaa</td>\n      <td>1</td>\n      <td>55924</td>\n      <td>0.001788</td>\n    </tr>\n  </tbody>\n</table>\n<p>801 rows × 4 columns</p>\n</div>"
     },
     "execution_count": 92,
     "metadata": {},
     "output_type": "execute_result"
    }
   ],
   "source": [
    "# Calculate value counts for 'Company' and convert to DataFrame\n",
    "df_value_counts_comp = df2['Company'].value_counts().reset_index()\n",
    "# Rename columns\n",
    "df_value_counts_comp.columns = ['Company', 'count']\n",
    "\n",
    "# Cumulative sum\n",
    "df_value_counts_comp['cumulative_count'] = df_value_counts_comp['count'].cumsum()\n",
    "# Calculate percentage\n",
    "total_counts = df_value_counts_comp['count'].sum()\n",
    "df_value_counts_comp['percentage'] = (df_value_counts_comp['count'] / total_counts) * 100\n",
    "\n",
    "# Display the new DataFrame\n",
    "df_value_counts_comp"
   ],
   "metadata": {
    "collapsed": false,
    "ExecuteTime": {
     "end_time": "2024-04-28T18:22:57.159449Z",
     "start_time": "2024-04-28T18:22:57.074251Z"
    }
   },
   "id": "8ec6bfb8a839f543",
   "execution_count": 92
  },
  {
   "cell_type": "code",
   "outputs": [
    {
     "data": {
      "text/plain": "74.99284743580573"
     },
     "execution_count": 146,
     "metadata": {},
     "output_type": "execute_result"
    }
   ],
   "source": [
    "tot = df_value_counts_comp['percentage'].head(8).sum()\n",
    "tot"
   ],
   "metadata": {
    "collapsed": false,
    "ExecuteTime": {
     "end_time": "2024-04-28T19:11:10.285796Z",
     "start_time": "2024-04-28T19:11:10.210564Z"
    }
   },
   "id": "83d1f4f6b35bd6f1",
   "execution_count": 146
  },
  {
   "cell_type": "code",
   "outputs": [],
   "source": [
    "company_data = df_value_counts_comp.head(8)"
   ],
   "metadata": {
    "collapsed": false,
    "ExecuteTime": {
     "end_time": "2024-04-28T19:11:47.114045Z",
     "start_time": "2024-04-28T19:11:47.104540Z"
    }
   },
   "id": "28c2411c717c6201",
   "execution_count": 149
  },
  {
   "cell_type": "code",
   "outputs": [
    {
     "name": "stdout",
     "output_type": "stream",
     "text": [
      "<class 'pandas.core.frame.DataFrame'>\n",
      "RangeIndex: 8 entries, 0 to 7\n",
      "Data columns (total 4 columns):\n",
      " #   Column            Non-Null Count  Dtype  \n",
      "---  ------            --------------  -----  \n",
      " 0   Company           8 non-null      object \n",
      " 1   count             8 non-null      int64  \n",
      " 2   cumulative_count  8 non-null      int64  \n",
      " 3   percentage        8 non-null      float64\n",
      "dtypes: float64(1), int64(2), object(1)\n",
      "memory usage: 384.0+ bytes\n"
     ]
    }
   ],
   "source": [
    "company_data.info()"
   ],
   "metadata": {
    "collapsed": false,
    "ExecuteTime": {
     "end_time": "2024-04-28T19:11:49.725219Z",
     "start_time": "2024-04-28T19:11:49.711876Z"
    }
   },
   "id": "b0d57ad38c65d85e",
   "execution_count": 150
  },
  {
   "cell_type": "code",
   "outputs": [],
   "source": [
    "company_data_perc = company_data[['Company', 'percentage']].copy()"
   ],
   "metadata": {
    "collapsed": false,
    "ExecuteTime": {
     "end_time": "2024-04-28T19:12:11.475201Z",
     "start_time": "2024-04-28T19:12:11.465207Z"
    }
   },
   "id": "c0c317187bef3376",
   "execution_count": 153
  },
  {
   "cell_type": "code",
   "outputs": [],
   "source": [
    "other_tot = 100-tot"
   ],
   "metadata": {
    "collapsed": false,
    "ExecuteTime": {
     "end_time": "2024-04-28T19:12:20.828002Z",
     "start_time": "2024-04-28T19:12:20.823989Z"
    }
   },
   "id": "ea6f266b2fc109c9",
   "execution_count": 155
  },
  {
   "cell_type": "code",
   "outputs": [],
   "source": [
    "company_data_perc.loc[len(company_data_perc)] = ['others', other_tot]"
   ],
   "metadata": {
    "collapsed": false,
    "ExecuteTime": {
     "end_time": "2024-04-28T19:12:21.408599Z",
     "start_time": "2024-04-28T19:12:21.392800Z"
    }
   },
   "id": "109f42f8e116e3af",
   "execution_count": 156
  },
  {
   "cell_type": "code",
   "outputs": [
    {
     "data": {
      "text/plain": "                               Company  percentage\n0    transunionintermediateholdingsinc   24.654889\n1      experianinformationsolutionsinc   24.624490\n2                    wellsfargocompany    5.609398\n3                           citibankna    5.316143\n4     bankofamericanationalassociation    5.241041\n5                   synchronyfinancial    4.341606\n6               navyfederalcreditunion    2.619627\n7  unitedservicesautomobileassociation    2.585652\n8                               others   25.007153",
      "text/html": "<div>\n<style scoped>\n    .dataframe tbody tr th:only-of-type {\n        vertical-align: middle;\n    }\n\n    .dataframe tbody tr th {\n        vertical-align: top;\n    }\n\n    .dataframe thead th {\n        text-align: right;\n    }\n</style>\n<table border=\"1\" class=\"dataframe\">\n  <thead>\n    <tr style=\"text-align: right;\">\n      <th></th>\n      <th>Company</th>\n      <th>percentage</th>\n    </tr>\n  </thead>\n  <tbody>\n    <tr>\n      <th>0</th>\n      <td>transunionintermediateholdingsinc</td>\n      <td>24.654889</td>\n    </tr>\n    <tr>\n      <th>1</th>\n      <td>experianinformationsolutionsinc</td>\n      <td>24.624490</td>\n    </tr>\n    <tr>\n      <th>2</th>\n      <td>wellsfargocompany</td>\n      <td>5.609398</td>\n    </tr>\n    <tr>\n      <th>3</th>\n      <td>citibankna</td>\n      <td>5.316143</td>\n    </tr>\n    <tr>\n      <th>4</th>\n      <td>bankofamericanationalassociation</td>\n      <td>5.241041</td>\n    </tr>\n    <tr>\n      <th>5</th>\n      <td>synchronyfinancial</td>\n      <td>4.341606</td>\n    </tr>\n    <tr>\n      <th>6</th>\n      <td>navyfederalcreditunion</td>\n      <td>2.619627</td>\n    </tr>\n    <tr>\n      <th>7</th>\n      <td>unitedservicesautomobileassociation</td>\n      <td>2.585652</td>\n    </tr>\n    <tr>\n      <th>8</th>\n      <td>others</td>\n      <td>25.007153</td>\n    </tr>\n  </tbody>\n</table>\n</div>"
     },
     "execution_count": 157,
     "metadata": {},
     "output_type": "execute_result"
    }
   ],
   "source": [
    "company_data_perc"
   ],
   "metadata": {
    "collapsed": false,
    "ExecuteTime": {
     "end_time": "2024-04-28T19:12:22.947579Z",
     "start_time": "2024-04-28T19:12:22.935582Z"
    }
   },
   "id": "8f1bf283633ceaa9",
   "execution_count": 157
  },
  {
   "cell_type": "code",
   "outputs": [
    {
     "data": {
      "application/vnd.plotly.v1+json": {
       "data": [
        {
         "domain": {
          "x": [
           0.0,
           1.0
          ],
          "y": [
           0.0,
           1.0
          ]
         },
         "hovertemplate": "label=%{label}<br>value=%{value}<extra></extra>",
         "labels": [
          "transunionintermediateholdingsinc",
          "experianinformationsolutionsinc",
          "wellsfargocompany",
          "citibankna",
          "bankofamericanationalassociation",
          "synchronyfinancial",
          "navyfederalcreditunion",
          "unitedservicesautomobileassociation",
          "others"
         ],
         "legendgroup": "",
         "name": "",
         "showlegend": true,
         "values": [
          24.65488877762678,
          24.62449037980116,
          5.609398469351262,
          5.316143337386453,
          5.241041413346685,
          4.341606465918032,
          2.6196266361490594,
          2.585651956226307,
          25.00715256419427
         ],
         "type": "pie"
        }
       ],
       "layout": {
        "template": {
         "data": {
          "histogram2dcontour": [
           {
            "type": "histogram2dcontour",
            "colorbar": {
             "outlinewidth": 0,
             "ticks": ""
            },
            "colorscale": [
             [
              0.0,
              "#0d0887"
             ],
             [
              0.1111111111111111,
              "#46039f"
             ],
             [
              0.2222222222222222,
              "#7201a8"
             ],
             [
              0.3333333333333333,
              "#9c179e"
             ],
             [
              0.4444444444444444,
              "#bd3786"
             ],
             [
              0.5555555555555556,
              "#d8576b"
             ],
             [
              0.6666666666666666,
              "#ed7953"
             ],
             [
              0.7777777777777778,
              "#fb9f3a"
             ],
             [
              0.8888888888888888,
              "#fdca26"
             ],
             [
              1.0,
              "#f0f921"
             ]
            ]
           }
          ],
          "choropleth": [
           {
            "type": "choropleth",
            "colorbar": {
             "outlinewidth": 0,
             "ticks": ""
            }
           }
          ],
          "histogram2d": [
           {
            "type": "histogram2d",
            "colorbar": {
             "outlinewidth": 0,
             "ticks": ""
            },
            "colorscale": [
             [
              0.0,
              "#0d0887"
             ],
             [
              0.1111111111111111,
              "#46039f"
             ],
             [
              0.2222222222222222,
              "#7201a8"
             ],
             [
              0.3333333333333333,
              "#9c179e"
             ],
             [
              0.4444444444444444,
              "#bd3786"
             ],
             [
              0.5555555555555556,
              "#d8576b"
             ],
             [
              0.6666666666666666,
              "#ed7953"
             ],
             [
              0.7777777777777778,
              "#fb9f3a"
             ],
             [
              0.8888888888888888,
              "#fdca26"
             ],
             [
              1.0,
              "#f0f921"
             ]
            ]
           }
          ],
          "heatmap": [
           {
            "type": "heatmap",
            "colorbar": {
             "outlinewidth": 0,
             "ticks": ""
            },
            "colorscale": [
             [
              0.0,
              "#0d0887"
             ],
             [
              0.1111111111111111,
              "#46039f"
             ],
             [
              0.2222222222222222,
              "#7201a8"
             ],
             [
              0.3333333333333333,
              "#9c179e"
             ],
             [
              0.4444444444444444,
              "#bd3786"
             ],
             [
              0.5555555555555556,
              "#d8576b"
             ],
             [
              0.6666666666666666,
              "#ed7953"
             ],
             [
              0.7777777777777778,
              "#fb9f3a"
             ],
             [
              0.8888888888888888,
              "#fdca26"
             ],
             [
              1.0,
              "#f0f921"
             ]
            ]
           }
          ],
          "heatmapgl": [
           {
            "type": "heatmapgl",
            "colorbar": {
             "outlinewidth": 0,
             "ticks": ""
            },
            "colorscale": [
             [
              0.0,
              "#0d0887"
             ],
             [
              0.1111111111111111,
              "#46039f"
             ],
             [
              0.2222222222222222,
              "#7201a8"
             ],
             [
              0.3333333333333333,
              "#9c179e"
             ],
             [
              0.4444444444444444,
              "#bd3786"
             ],
             [
              0.5555555555555556,
              "#d8576b"
             ],
             [
              0.6666666666666666,
              "#ed7953"
             ],
             [
              0.7777777777777778,
              "#fb9f3a"
             ],
             [
              0.8888888888888888,
              "#fdca26"
             ],
             [
              1.0,
              "#f0f921"
             ]
            ]
           }
          ],
          "contourcarpet": [
           {
            "type": "contourcarpet",
            "colorbar": {
             "outlinewidth": 0,
             "ticks": ""
            }
           }
          ],
          "contour": [
           {
            "type": "contour",
            "colorbar": {
             "outlinewidth": 0,
             "ticks": ""
            },
            "colorscale": [
             [
              0.0,
              "#0d0887"
             ],
             [
              0.1111111111111111,
              "#46039f"
             ],
             [
              0.2222222222222222,
              "#7201a8"
             ],
             [
              0.3333333333333333,
              "#9c179e"
             ],
             [
              0.4444444444444444,
              "#bd3786"
             ],
             [
              0.5555555555555556,
              "#d8576b"
             ],
             [
              0.6666666666666666,
              "#ed7953"
             ],
             [
              0.7777777777777778,
              "#fb9f3a"
             ],
             [
              0.8888888888888888,
              "#fdca26"
             ],
             [
              1.0,
              "#f0f921"
             ]
            ]
           }
          ],
          "surface": [
           {
            "type": "surface",
            "colorbar": {
             "outlinewidth": 0,
             "ticks": ""
            },
            "colorscale": [
             [
              0.0,
              "#0d0887"
             ],
             [
              0.1111111111111111,
              "#46039f"
             ],
             [
              0.2222222222222222,
              "#7201a8"
             ],
             [
              0.3333333333333333,
              "#9c179e"
             ],
             [
              0.4444444444444444,
              "#bd3786"
             ],
             [
              0.5555555555555556,
              "#d8576b"
             ],
             [
              0.6666666666666666,
              "#ed7953"
             ],
             [
              0.7777777777777778,
              "#fb9f3a"
             ],
             [
              0.8888888888888888,
              "#fdca26"
             ],
             [
              1.0,
              "#f0f921"
             ]
            ]
           }
          ],
          "mesh3d": [
           {
            "type": "mesh3d",
            "colorbar": {
             "outlinewidth": 0,
             "ticks": ""
            }
           }
          ],
          "scatter": [
           {
            "fillpattern": {
             "fillmode": "overlay",
             "size": 10,
             "solidity": 0.2
            },
            "type": "scatter"
           }
          ],
          "parcoords": [
           {
            "type": "parcoords",
            "line": {
             "colorbar": {
              "outlinewidth": 0,
              "ticks": ""
             }
            }
           }
          ],
          "scatterpolargl": [
           {
            "type": "scatterpolargl",
            "marker": {
             "colorbar": {
              "outlinewidth": 0,
              "ticks": ""
             }
            }
           }
          ],
          "bar": [
           {
            "error_x": {
             "color": "#2a3f5f"
            },
            "error_y": {
             "color": "#2a3f5f"
            },
            "marker": {
             "line": {
              "color": "#E5ECF6",
              "width": 0.5
             },
             "pattern": {
              "fillmode": "overlay",
              "size": 10,
              "solidity": 0.2
             }
            },
            "type": "bar"
           }
          ],
          "scattergeo": [
           {
            "type": "scattergeo",
            "marker": {
             "colorbar": {
              "outlinewidth": 0,
              "ticks": ""
             }
            }
           }
          ],
          "scatterpolar": [
           {
            "type": "scatterpolar",
            "marker": {
             "colorbar": {
              "outlinewidth": 0,
              "ticks": ""
             }
            }
           }
          ],
          "histogram": [
           {
            "marker": {
             "pattern": {
              "fillmode": "overlay",
              "size": 10,
              "solidity": 0.2
             }
            },
            "type": "histogram"
           }
          ],
          "scattergl": [
           {
            "type": "scattergl",
            "marker": {
             "colorbar": {
              "outlinewidth": 0,
              "ticks": ""
             }
            }
           }
          ],
          "scatter3d": [
           {
            "type": "scatter3d",
            "line": {
             "colorbar": {
              "outlinewidth": 0,
              "ticks": ""
             }
            },
            "marker": {
             "colorbar": {
              "outlinewidth": 0,
              "ticks": ""
             }
            }
           }
          ],
          "scattermapbox": [
           {
            "type": "scattermapbox",
            "marker": {
             "colorbar": {
              "outlinewidth": 0,
              "ticks": ""
             }
            }
           }
          ],
          "scatterternary": [
           {
            "type": "scatterternary",
            "marker": {
             "colorbar": {
              "outlinewidth": 0,
              "ticks": ""
             }
            }
           }
          ],
          "scattercarpet": [
           {
            "type": "scattercarpet",
            "marker": {
             "colorbar": {
              "outlinewidth": 0,
              "ticks": ""
             }
            }
           }
          ],
          "carpet": [
           {
            "aaxis": {
             "endlinecolor": "#2a3f5f",
             "gridcolor": "white",
             "linecolor": "white",
             "minorgridcolor": "white",
             "startlinecolor": "#2a3f5f"
            },
            "baxis": {
             "endlinecolor": "#2a3f5f",
             "gridcolor": "white",
             "linecolor": "white",
             "minorgridcolor": "white",
             "startlinecolor": "#2a3f5f"
            },
            "type": "carpet"
           }
          ],
          "table": [
           {
            "cells": {
             "fill": {
              "color": "#EBF0F8"
             },
             "line": {
              "color": "white"
             }
            },
            "header": {
             "fill": {
              "color": "#C8D4E3"
             },
             "line": {
              "color": "white"
             }
            },
            "type": "table"
           }
          ],
          "barpolar": [
           {
            "marker": {
             "line": {
              "color": "#E5ECF6",
              "width": 0.5
             },
             "pattern": {
              "fillmode": "overlay",
              "size": 10,
              "solidity": 0.2
             }
            },
            "type": "barpolar"
           }
          ],
          "pie": [
           {
            "automargin": true,
            "type": "pie"
           }
          ]
         },
         "layout": {
          "autotypenumbers": "strict",
          "colorway": [
           "#636efa",
           "#EF553B",
           "#00cc96",
           "#ab63fa",
           "#FFA15A",
           "#19d3f3",
           "#FF6692",
           "#B6E880",
           "#FF97FF",
           "#FECB52"
          ],
          "font": {
           "color": "#2a3f5f"
          },
          "hovermode": "closest",
          "hoverlabel": {
           "align": "left"
          },
          "paper_bgcolor": "white",
          "plot_bgcolor": "#E5ECF6",
          "polar": {
           "bgcolor": "#E5ECF6",
           "angularaxis": {
            "gridcolor": "white",
            "linecolor": "white",
            "ticks": ""
           },
           "radialaxis": {
            "gridcolor": "white",
            "linecolor": "white",
            "ticks": ""
           }
          },
          "ternary": {
           "bgcolor": "#E5ECF6",
           "aaxis": {
            "gridcolor": "white",
            "linecolor": "white",
            "ticks": ""
           },
           "baxis": {
            "gridcolor": "white",
            "linecolor": "white",
            "ticks": ""
           },
           "caxis": {
            "gridcolor": "white",
            "linecolor": "white",
            "ticks": ""
           }
          },
          "coloraxis": {
           "colorbar": {
            "outlinewidth": 0,
            "ticks": ""
           }
          },
          "colorscale": {
           "sequential": [
            [
             0.0,
             "#0d0887"
            ],
            [
             0.1111111111111111,
             "#46039f"
            ],
            [
             0.2222222222222222,
             "#7201a8"
            ],
            [
             0.3333333333333333,
             "#9c179e"
            ],
            [
             0.4444444444444444,
             "#bd3786"
            ],
            [
             0.5555555555555556,
             "#d8576b"
            ],
            [
             0.6666666666666666,
             "#ed7953"
            ],
            [
             0.7777777777777778,
             "#fb9f3a"
            ],
            [
             0.8888888888888888,
             "#fdca26"
            ],
            [
             1.0,
             "#f0f921"
            ]
           ],
           "sequentialminus": [
            [
             0.0,
             "#0d0887"
            ],
            [
             0.1111111111111111,
             "#46039f"
            ],
            [
             0.2222222222222222,
             "#7201a8"
            ],
            [
             0.3333333333333333,
             "#9c179e"
            ],
            [
             0.4444444444444444,
             "#bd3786"
            ],
            [
             0.5555555555555556,
             "#d8576b"
            ],
            [
             0.6666666666666666,
             "#ed7953"
            ],
            [
             0.7777777777777778,
             "#fb9f3a"
            ],
            [
             0.8888888888888888,
             "#fdca26"
            ],
            [
             1.0,
             "#f0f921"
            ]
           ],
           "diverging": [
            [
             0,
             "#8e0152"
            ],
            [
             0.1,
             "#c51b7d"
            ],
            [
             0.2,
             "#de77ae"
            ],
            [
             0.3,
             "#f1b6da"
            ],
            [
             0.4,
             "#fde0ef"
            ],
            [
             0.5,
             "#f7f7f7"
            ],
            [
             0.6,
             "#e6f5d0"
            ],
            [
             0.7,
             "#b8e186"
            ],
            [
             0.8,
             "#7fbc41"
            ],
            [
             0.9,
             "#4d9221"
            ],
            [
             1,
             "#276419"
            ]
           ]
          },
          "xaxis": {
           "gridcolor": "white",
           "linecolor": "white",
           "ticks": "",
           "title": {
            "standoff": 15
           },
           "zerolinecolor": "white",
           "automargin": true,
           "zerolinewidth": 2
          },
          "yaxis": {
           "gridcolor": "white",
           "linecolor": "white",
           "ticks": "",
           "title": {
            "standoff": 15
           },
           "zerolinecolor": "white",
           "automargin": true,
           "zerolinewidth": 2
          },
          "scene": {
           "xaxis": {
            "backgroundcolor": "#E5ECF6",
            "gridcolor": "white",
            "linecolor": "white",
            "showbackground": true,
            "ticks": "",
            "zerolinecolor": "white",
            "gridwidth": 2
           },
           "yaxis": {
            "backgroundcolor": "#E5ECF6",
            "gridcolor": "white",
            "linecolor": "white",
            "showbackground": true,
            "ticks": "",
            "zerolinecolor": "white",
            "gridwidth": 2
           },
           "zaxis": {
            "backgroundcolor": "#E5ECF6",
            "gridcolor": "white",
            "linecolor": "white",
            "showbackground": true,
            "ticks": "",
            "zerolinecolor": "white",
            "gridwidth": 2
           }
          },
          "shapedefaults": {
           "line": {
            "color": "#2a3f5f"
           }
          },
          "annotationdefaults": {
           "arrowcolor": "#2a3f5f",
           "arrowhead": 0,
           "arrowwidth": 1
          },
          "geo": {
           "bgcolor": "white",
           "landcolor": "#E5ECF6",
           "subunitcolor": "white",
           "showland": true,
           "showlakes": true,
           "lakecolor": "white"
          },
          "title": {
           "x": 0.05
          },
          "mapbox": {
           "style": "light"
          }
         }
        },
        "legend": {
         "tracegroupgap": 0
        },
        "margin": {
         "t": 60
        }
       },
       "config": {
        "plotlyServerURL": "https://plot.ly"
       }
      },
      "text/html": "<div>                            <div id=\"fa5a59ce-f68b-4aaa-8dbb-7fd29cc16a10\" class=\"plotly-graph-div\" style=\"height:525px; width:100%;\"></div>            <script type=\"text/javascript\">                require([\"plotly\"], function(Plotly) {                    window.PLOTLYENV=window.PLOTLYENV || {};                                    if (document.getElementById(\"fa5a59ce-f68b-4aaa-8dbb-7fd29cc16a10\")) {                    Plotly.newPlot(                        \"fa5a59ce-f68b-4aaa-8dbb-7fd29cc16a10\",                        [{\"domain\":{\"x\":[0.0,1.0],\"y\":[0.0,1.0]},\"hovertemplate\":\"label=%{label}\\u003cbr\\u003evalue=%{value}\\u003cextra\\u003e\\u003c\\u002fextra\\u003e\",\"labels\":[\"transunionintermediateholdingsinc\",\"experianinformationsolutionsinc\",\"wellsfargocompany\",\"citibankna\",\"bankofamericanationalassociation\",\"synchronyfinancial\",\"navyfederalcreditunion\",\"unitedservicesautomobileassociation\",\"others\"],\"legendgroup\":\"\",\"name\":\"\",\"showlegend\":true,\"values\":[24.65488877762678,24.62449037980116,5.609398469351262,5.316143337386453,5.241041413346685,4.341606465918032,2.6196266361490594,2.585651956226307,25.00715256419427],\"type\":\"pie\"}],                        {\"template\":{\"data\":{\"histogram2dcontour\":[{\"type\":\"histogram2dcontour\",\"colorbar\":{\"outlinewidth\":0,\"ticks\":\"\"},\"colorscale\":[[0.0,\"#0d0887\"],[0.1111111111111111,\"#46039f\"],[0.2222222222222222,\"#7201a8\"],[0.3333333333333333,\"#9c179e\"],[0.4444444444444444,\"#bd3786\"],[0.5555555555555556,\"#d8576b\"],[0.6666666666666666,\"#ed7953\"],[0.7777777777777778,\"#fb9f3a\"],[0.8888888888888888,\"#fdca26\"],[1.0,\"#f0f921\"]]}],\"choropleth\":[{\"type\":\"choropleth\",\"colorbar\":{\"outlinewidth\":0,\"ticks\":\"\"}}],\"histogram2d\":[{\"type\":\"histogram2d\",\"colorbar\":{\"outlinewidth\":0,\"ticks\":\"\"},\"colorscale\":[[0.0,\"#0d0887\"],[0.1111111111111111,\"#46039f\"],[0.2222222222222222,\"#7201a8\"],[0.3333333333333333,\"#9c179e\"],[0.4444444444444444,\"#bd3786\"],[0.5555555555555556,\"#d8576b\"],[0.6666666666666666,\"#ed7953\"],[0.7777777777777778,\"#fb9f3a\"],[0.8888888888888888,\"#fdca26\"],[1.0,\"#f0f921\"]]}],\"heatmap\":[{\"type\":\"heatmap\",\"colorbar\":{\"outlinewidth\":0,\"ticks\":\"\"},\"colorscale\":[[0.0,\"#0d0887\"],[0.1111111111111111,\"#46039f\"],[0.2222222222222222,\"#7201a8\"],[0.3333333333333333,\"#9c179e\"],[0.4444444444444444,\"#bd3786\"],[0.5555555555555556,\"#d8576b\"],[0.6666666666666666,\"#ed7953\"],[0.7777777777777778,\"#fb9f3a\"],[0.8888888888888888,\"#fdca26\"],[1.0,\"#f0f921\"]]}],\"heatmapgl\":[{\"type\":\"heatmapgl\",\"colorbar\":{\"outlinewidth\":0,\"ticks\":\"\"},\"colorscale\":[[0.0,\"#0d0887\"],[0.1111111111111111,\"#46039f\"],[0.2222222222222222,\"#7201a8\"],[0.3333333333333333,\"#9c179e\"],[0.4444444444444444,\"#bd3786\"],[0.5555555555555556,\"#d8576b\"],[0.6666666666666666,\"#ed7953\"],[0.7777777777777778,\"#fb9f3a\"],[0.8888888888888888,\"#fdca26\"],[1.0,\"#f0f921\"]]}],\"contourcarpet\":[{\"type\":\"contourcarpet\",\"colorbar\":{\"outlinewidth\":0,\"ticks\":\"\"}}],\"contour\":[{\"type\":\"contour\",\"colorbar\":{\"outlinewidth\":0,\"ticks\":\"\"},\"colorscale\":[[0.0,\"#0d0887\"],[0.1111111111111111,\"#46039f\"],[0.2222222222222222,\"#7201a8\"],[0.3333333333333333,\"#9c179e\"],[0.4444444444444444,\"#bd3786\"],[0.5555555555555556,\"#d8576b\"],[0.6666666666666666,\"#ed7953\"],[0.7777777777777778,\"#fb9f3a\"],[0.8888888888888888,\"#fdca26\"],[1.0,\"#f0f921\"]]}],\"surface\":[{\"type\":\"surface\",\"colorbar\":{\"outlinewidth\":0,\"ticks\":\"\"},\"colorscale\":[[0.0,\"#0d0887\"],[0.1111111111111111,\"#46039f\"],[0.2222222222222222,\"#7201a8\"],[0.3333333333333333,\"#9c179e\"],[0.4444444444444444,\"#bd3786\"],[0.5555555555555556,\"#d8576b\"],[0.6666666666666666,\"#ed7953\"],[0.7777777777777778,\"#fb9f3a\"],[0.8888888888888888,\"#fdca26\"],[1.0,\"#f0f921\"]]}],\"mesh3d\":[{\"type\":\"mesh3d\",\"colorbar\":{\"outlinewidth\":0,\"ticks\":\"\"}}],\"scatter\":[{\"fillpattern\":{\"fillmode\":\"overlay\",\"size\":10,\"solidity\":0.2},\"type\":\"scatter\"}],\"parcoords\":[{\"type\":\"parcoords\",\"line\":{\"colorbar\":{\"outlinewidth\":0,\"ticks\":\"\"}}}],\"scatterpolargl\":[{\"type\":\"scatterpolargl\",\"marker\":{\"colorbar\":{\"outlinewidth\":0,\"ticks\":\"\"}}}],\"bar\":[{\"error_x\":{\"color\":\"#2a3f5f\"},\"error_y\":{\"color\":\"#2a3f5f\"},\"marker\":{\"line\":{\"color\":\"#E5ECF6\",\"width\":0.5},\"pattern\":{\"fillmode\":\"overlay\",\"size\":10,\"solidity\":0.2}},\"type\":\"bar\"}],\"scattergeo\":[{\"type\":\"scattergeo\",\"marker\":{\"colorbar\":{\"outlinewidth\":0,\"ticks\":\"\"}}}],\"scatterpolar\":[{\"type\":\"scatterpolar\",\"marker\":{\"colorbar\":{\"outlinewidth\":0,\"ticks\":\"\"}}}],\"histogram\":[{\"marker\":{\"pattern\":{\"fillmode\":\"overlay\",\"size\":10,\"solidity\":0.2}},\"type\":\"histogram\"}],\"scattergl\":[{\"type\":\"scattergl\",\"marker\":{\"colorbar\":{\"outlinewidth\":0,\"ticks\":\"\"}}}],\"scatter3d\":[{\"type\":\"scatter3d\",\"line\":{\"colorbar\":{\"outlinewidth\":0,\"ticks\":\"\"}},\"marker\":{\"colorbar\":{\"outlinewidth\":0,\"ticks\":\"\"}}}],\"scattermapbox\":[{\"type\":\"scattermapbox\",\"marker\":{\"colorbar\":{\"outlinewidth\":0,\"ticks\":\"\"}}}],\"scatterternary\":[{\"type\":\"scatterternary\",\"marker\":{\"colorbar\":{\"outlinewidth\":0,\"ticks\":\"\"}}}],\"scattercarpet\":[{\"type\":\"scattercarpet\",\"marker\":{\"colorbar\":{\"outlinewidth\":0,\"ticks\":\"\"}}}],\"carpet\":[{\"aaxis\":{\"endlinecolor\":\"#2a3f5f\",\"gridcolor\":\"white\",\"linecolor\":\"white\",\"minorgridcolor\":\"white\",\"startlinecolor\":\"#2a3f5f\"},\"baxis\":{\"endlinecolor\":\"#2a3f5f\",\"gridcolor\":\"white\",\"linecolor\":\"white\",\"minorgridcolor\":\"white\",\"startlinecolor\":\"#2a3f5f\"},\"type\":\"carpet\"}],\"table\":[{\"cells\":{\"fill\":{\"color\":\"#EBF0F8\"},\"line\":{\"color\":\"white\"}},\"header\":{\"fill\":{\"color\":\"#C8D4E3\"},\"line\":{\"color\":\"white\"}},\"type\":\"table\"}],\"barpolar\":[{\"marker\":{\"line\":{\"color\":\"#E5ECF6\",\"width\":0.5},\"pattern\":{\"fillmode\":\"overlay\",\"size\":10,\"solidity\":0.2}},\"type\":\"barpolar\"}],\"pie\":[{\"automargin\":true,\"type\":\"pie\"}]},\"layout\":{\"autotypenumbers\":\"strict\",\"colorway\":[\"#636efa\",\"#EF553B\",\"#00cc96\",\"#ab63fa\",\"#FFA15A\",\"#19d3f3\",\"#FF6692\",\"#B6E880\",\"#FF97FF\",\"#FECB52\"],\"font\":{\"color\":\"#2a3f5f\"},\"hovermode\":\"closest\",\"hoverlabel\":{\"align\":\"left\"},\"paper_bgcolor\":\"white\",\"plot_bgcolor\":\"#E5ECF6\",\"polar\":{\"bgcolor\":\"#E5ECF6\",\"angularaxis\":{\"gridcolor\":\"white\",\"linecolor\":\"white\",\"ticks\":\"\"},\"radialaxis\":{\"gridcolor\":\"white\",\"linecolor\":\"white\",\"ticks\":\"\"}},\"ternary\":{\"bgcolor\":\"#E5ECF6\",\"aaxis\":{\"gridcolor\":\"white\",\"linecolor\":\"white\",\"ticks\":\"\"},\"baxis\":{\"gridcolor\":\"white\",\"linecolor\":\"white\",\"ticks\":\"\"},\"caxis\":{\"gridcolor\":\"white\",\"linecolor\":\"white\",\"ticks\":\"\"}},\"coloraxis\":{\"colorbar\":{\"outlinewidth\":0,\"ticks\":\"\"}},\"colorscale\":{\"sequential\":[[0.0,\"#0d0887\"],[0.1111111111111111,\"#46039f\"],[0.2222222222222222,\"#7201a8\"],[0.3333333333333333,\"#9c179e\"],[0.4444444444444444,\"#bd3786\"],[0.5555555555555556,\"#d8576b\"],[0.6666666666666666,\"#ed7953\"],[0.7777777777777778,\"#fb9f3a\"],[0.8888888888888888,\"#fdca26\"],[1.0,\"#f0f921\"]],\"sequentialminus\":[[0.0,\"#0d0887\"],[0.1111111111111111,\"#46039f\"],[0.2222222222222222,\"#7201a8\"],[0.3333333333333333,\"#9c179e\"],[0.4444444444444444,\"#bd3786\"],[0.5555555555555556,\"#d8576b\"],[0.6666666666666666,\"#ed7953\"],[0.7777777777777778,\"#fb9f3a\"],[0.8888888888888888,\"#fdca26\"],[1.0,\"#f0f921\"]],\"diverging\":[[0,\"#8e0152\"],[0.1,\"#c51b7d\"],[0.2,\"#de77ae\"],[0.3,\"#f1b6da\"],[0.4,\"#fde0ef\"],[0.5,\"#f7f7f7\"],[0.6,\"#e6f5d0\"],[0.7,\"#b8e186\"],[0.8,\"#7fbc41\"],[0.9,\"#4d9221\"],[1,\"#276419\"]]},\"xaxis\":{\"gridcolor\":\"white\",\"linecolor\":\"white\",\"ticks\":\"\",\"title\":{\"standoff\":15},\"zerolinecolor\":\"white\",\"automargin\":true,\"zerolinewidth\":2},\"yaxis\":{\"gridcolor\":\"white\",\"linecolor\":\"white\",\"ticks\":\"\",\"title\":{\"standoff\":15},\"zerolinecolor\":\"white\",\"automargin\":true,\"zerolinewidth\":2},\"scene\":{\"xaxis\":{\"backgroundcolor\":\"#E5ECF6\",\"gridcolor\":\"white\",\"linecolor\":\"white\",\"showbackground\":true,\"ticks\":\"\",\"zerolinecolor\":\"white\",\"gridwidth\":2},\"yaxis\":{\"backgroundcolor\":\"#E5ECF6\",\"gridcolor\":\"white\",\"linecolor\":\"white\",\"showbackground\":true,\"ticks\":\"\",\"zerolinecolor\":\"white\",\"gridwidth\":2},\"zaxis\":{\"backgroundcolor\":\"#E5ECF6\",\"gridcolor\":\"white\",\"linecolor\":\"white\",\"showbackground\":true,\"ticks\":\"\",\"zerolinecolor\":\"white\",\"gridwidth\":2}},\"shapedefaults\":{\"line\":{\"color\":\"#2a3f5f\"}},\"annotationdefaults\":{\"arrowcolor\":\"#2a3f5f\",\"arrowhead\":0,\"arrowwidth\":1},\"geo\":{\"bgcolor\":\"white\",\"landcolor\":\"#E5ECF6\",\"subunitcolor\":\"white\",\"showland\":true,\"showlakes\":true,\"lakecolor\":\"white\"},\"title\":{\"x\":0.05},\"mapbox\":{\"style\":\"light\"}}},\"legend\":{\"tracegroupgap\":0},\"margin\":{\"t\":60}},                        {\"responsive\": true}                    ).then(function(){\n                            \nvar gd = document.getElementById('fa5a59ce-f68b-4aaa-8dbb-7fd29cc16a10');\nvar x = new MutationObserver(function (mutations, observer) {{\n        var display = window.getComputedStyle(gd).display;\n        if (!display || display === 'none') {{\n            console.log([gd, 'removed!']);\n            Plotly.purge(gd);\n            observer.disconnect();\n        }}\n}});\n\n// Listen for the removal of the full notebook cells\nvar notebookContainer = gd.closest('#notebook-container');\nif (notebookContainer) {{\n    x.observe(notebookContainer, {childList: true});\n}}\n\n// Listen for the clearing of the current output cell\nvar outputEl = gd.closest('.output');\nif (outputEl) {{\n    x.observe(outputEl, {childList: true});\n}}\n\n                        })                };                });            </script>        </div>"
     },
     "metadata": {},
     "output_type": "display_data"
    }
   ],
   "source": [
    "fig = px.pie(names=company_data_perc['Company'], values=company_data_perc['percentage'])\n",
    "fig.show()"
   ],
   "metadata": {
    "collapsed": false,
    "ExecuteTime": {
     "end_time": "2024-04-28T19:12:30.184860Z",
     "start_time": "2024-04-28T19:12:29.839348Z"
    }
   },
   "id": "f30bbcbcdc6de2a4",
   "execution_count": 158
  },
  {
   "cell_type": "code",
   "outputs": [
    {
     "data": {
      "text/plain": "<Figure size 640x480 with 1 Axes>",
      "image/png": "[encoded data removed]"
     },
     "metadata": {},
     "output_type": "display_data"
    }
   ],
   "source": [
    "# Create the pie chart\n",
    "fig, ax = plt.subplots()\n",
    "wedges, texts, autotexts = ax.pie(company_data_perc['percentage'], labels=company_data_perc['Company'], autopct='%1.1f%%', startangle=90)\n",
    "\n",
    "\n",
    "wedges = wedges[::-1]\n",
    "texts = texts[::-1]\n",
    "autotexts = autotexts[::-1]\n",
    "\n",
    "# Add gradients of blue to each wedge\n",
    "for i, wedge in enumerate(wedges):\n",
    "    wedge.set_facecolor(plt.cm.Blues(i / len(wedges)))\n",
    "\n",
    "# Set aspect ratio to be equal\n",
    "ax.axis('equal')\n",
    "\n",
    "# Show the plot\n",
    "plt.show()"
   ],
   "metadata": {
    "collapsed": false,
    "ExecuteTime": {
     "end_time": "2024-04-28T19:19:31.879992Z",
     "start_time": "2024-04-28T19:19:31.114782Z"
    }
   },
   "id": "63aef34b0b2bd202",
   "execution_count": 163
  },
  {
   "cell_type": "markdown",
   "source": [
    "## Only 8 out of the 800 unique companies make up for 75% of the complaints\n",
    "with the top 2 accounting for 50% of all the complaints. These 2 are:\n",
    "transunionintermediateholdingsinc and experianinformationsolutionsinc\n",
    "\n",
    "and big names like wellsfargocompany, citibankna and bankofamericanationalassociation making it in the top 5."
   ],
   "metadata": {
    "collapsed": false
   },
   "id": "a8241c848c0f4233"
  },
  {
   "cell_type": "code",
   "outputs": [
    {
     "data": {
      "text/plain": "Company public response\nCompany has responded to the consumer and the CFPB and chooses not to provide a public response                            48855\nCompany believes it acted appropriately as authorized by contract or law                                                    5602\nCompany believes the complaint is the result of a misunderstanding                                                           301\nCompany believes the complaint provided an opportunity to answer consumer's questions                                        260\nCompany disputes the facts presented in the complaint                                                                        259\nCompany believes complaint represents an opportunity for improvement to better serve consumers                               219\nCompany believes complaint caused principally by actions of third party outside the control or direction of the company      219\nCompany believes complaint is the result of an isolated error                                                                129\nCompany can't verify or dispute the facts in the complaint                                                                    79\nCompany believes complaint relates to a discontinued policy or procedure                                                       1\nName: count, dtype: int64"
     },
     "execution_count": 84,
     "metadata": {},
     "output_type": "execute_result"
    }
   ],
   "source": [
    "df_value_counts_pr = df2['Company public response'].value_counts()\n",
    "df_value_counts_pr"
   ],
   "metadata": {
    "collapsed": false,
    "ExecuteTime": {
     "end_time": "2024-04-28T18:11:20.473233Z",
     "start_time": "2024-04-28T18:11:20.221124Z"
    }
   },
   "id": "316bbc290a200cc6",
   "execution_count": 84
  },
  {
   "cell_type": "code",
   "outputs": [],
   "source": [
    "df2.drop(columns=['Date sent to company'], inplace=True)"
   ],
   "metadata": {
    "collapsed": false,
    "ExecuteTime": {
     "end_time": "2024-04-28T20:24:31.301165Z",
     "start_time": "2024-04-28T20:24:29.072004Z"
    }
   },
   "id": "49916f528745bdd6",
   "execution_count": 167
  },
  {
   "cell_type": "code",
   "outputs": [
    {
     "name": "stdout",
     "output_type": "stream",
     "text": [
      "<class 'pandas.core.frame.DataFrame'>\n",
      "Index: 55924 entries, 42 to 5081162\n",
      "Data columns (total 15 columns):\n",
      " #   Column                        Non-Null Count  Dtype         \n",
      "---  ------                        --------------  -----         \n",
      " 0   Date received                 55924 non-null  datetime64[ns]\n",
      " 1   Product                       55924 non-null  object        \n",
      " 2   Sub-product                   55924 non-null  object        \n",
      " 3   Issue                         55924 non-null  object        \n",
      " 4   Sub-issue                     55924 non-null  object        \n",
      " 5   Consumer complaint narrative  55924 non-null  object        \n",
      " 6   Company public response       55924 non-null  object        \n",
      " 7   Company                       55924 non-null  object        \n",
      " 8   State                         55924 non-null  object        \n",
      " 9   ZIP code                      55924 non-null  object        \n",
      " 10  Tags                          55924 non-null  object        \n",
      " 11  Consumer consent provided?    55924 non-null  object        \n",
      " 12  Company response to consumer  55924 non-null  object        \n",
      " 13  Timely response?              55924 non-null  object        \n",
      " 14  Complaint ID                  55924 non-null  int64         \n",
      "dtypes: datetime64[ns](1), int64(1), object(13)\n",
      "memory usage: 6.8+ MB\n"
     ]
    }
   ],
   "source": [
    "df2.info()"
   ],
   "metadata": {
    "collapsed": false,
    "ExecuteTime": {
     "end_time": "2024-04-28T20:24:33.030509Z",
     "start_time": "2024-04-28T20:24:32.975291Z"
    }
   },
   "id": "7d180eb1cb962682",
   "execution_count": 168
  },
  {
   "cell_type": "code",
   "outputs": [],
   "source": [
    "df2.drop(columns=['Tags', 'ZIP code'], inplace=True)"
   ],
   "metadata": {
    "collapsed": false,
    "ExecuteTime": {
     "end_time": "2024-04-28T20:26:02.072133Z",
     "start_time": "2024-04-28T20:26:02.034555Z"
    }
   },
   "id": "3cfa49f9050bf561",
   "execution_count": 169
  },
  {
   "cell_type": "code",
   "outputs": [
    {
     "name": "stdout",
     "output_type": "stream",
     "text": [
      "<class 'pandas.core.frame.DataFrame'>\n",
      "Index: 55924 entries, 42 to 5081162\n",
      "Data columns (total 13 columns):\n",
      " #   Column                        Non-Null Count  Dtype         \n",
      "---  ------                        --------------  -----         \n",
      " 0   Date received                 55924 non-null  datetime64[ns]\n",
      " 1   Product                       55924 non-null  object        \n",
      " 2   Sub-product                   55924 non-null  object        \n",
      " 3   Issue                         55924 non-null  object        \n",
      " 4   Sub-issue                     55924 non-null  object        \n",
      " 5   Consumer complaint narrative  55924 non-null  object        \n",
      " 6   Company public response       55924 non-null  object        \n",
      " 7   Company                       55924 non-null  object        \n",
      " 8   State                         55924 non-null  object        \n",
      " 9   Consumer consent provided?    55924 non-null  object        \n",
      " 10  Company response to consumer  55924 non-null  object        \n",
      " 11  Timely response?              55924 non-null  object        \n",
      " 12  Complaint ID                  55924 non-null  int64         \n",
      "dtypes: datetime64[ns](1), int64(1), object(11)\n",
      "memory usage: 6.0+ MB\n"
     ]
    }
   ],
   "source": [
    "df2.info()"
   ],
   "metadata": {
    "collapsed": false,
    "ExecuteTime": {
     "end_time": "2024-04-28T20:26:06.730939Z",
     "start_time": "2024-04-28T20:26:06.690502Z"
    }
   },
   "id": "19a99217ab25bfb8",
   "execution_count": 170
  },
  {
   "cell_type": "code",
   "outputs": [
    {
     "data": {
      "text/plain": "array(['Credit card or prepaid card', 'Credit reporting',\n       'Checking or savings account', 'Mortgage', 'Debt collection',\n       'Loan'], dtype=object)"
     },
     "execution_count": 171,
     "metadata": {},
     "output_type": "execute_result"
    }
   ],
   "source": [
    "df2['Product'].unique()"
   ],
   "metadata": {
    "collapsed": false,
    "ExecuteTime": {
     "end_time": "2024-04-28T20:37:06.788444Z",
     "start_time": "2024-04-28T20:37:05.844211Z"
    }
   },
   "id": "9a422fd9abed5140",
   "execution_count": 171
  },
  {
   "cell_type": "code",
   "outputs": [
    {
     "data": {
      "text/plain": "array(['usbancorp', 'transunionintermediateholdingsinc', 'citibankna',\n       'experianinformationsolutionsinc', 'wellsfargocompany',\n       'selectportfolioservicinginc', 'bmoharrisbanknationalassociation',\n       'mrcoopergroupinc', 'bankofamericanationalassociation',\n       'santanderholdingsusainc', 'mtbankcorporation', 'loancarellc',\n       'springequityllc', 'amshercollectionservicesinc', 'icsysteminc',\n       'synchronyfinancial', 'januarytechnologiesinc',\n       'prospermarketplaceinc', 'atlanticusservicescorporation',\n       'unitedservicesautomobileassociation', 'freedommortgagecompany',\n       'newyorkcommunitybancorpinc', 'truistfinancialcorporation',\n       'allyfinancialinc', 'shellpointpartnersllc',\n       'barclaysbankdelaware', 'navyfederalcreditunion',\n       'valorintelligentprocessingllc', 'westlakeservicesllc',\n       'ccsfinancialservicesinc', 'collectionsacquisitioncompanyinc',\n       'armyandairforceexchangeservice', 'brokersolutionsinc',\n       'paramountgrholdingsllc', 'rauschsturmllp',\n       'firstnationalbankofomaha', 'hyundaicapitalamerica',\n       'fidelitynationalinformationservicesincfnis',\n       'stellantisfinancialservicesuscorp',\n       'continentalfinancecompanyllc', 'sunrisecreditservicesinc',\n       'mohela', 'iqorusinc', 'ocwenfinancialcorporation',\n       'creditacceptancecorporation', 'mortgageresearchcenterllc',\n       'lakeviewloanservicingllc', 'motoleasellc', 'albertcorporation',\n       'completecreditsolutionsinc', 'abilityrecoveryservicesllc',\n       'regionsfinancialcorporation', 'scacollectionsinc', 'nragroupllc',\n       'radiusglobalsolutionsllc', 'duncansolutionslnc',\n       'specializedloanservicingholdingsllc', 'certegyholdingsllc',\n       'axelatechnologiesinc', 'haythaytlandauplfl',\n       'amerisavemortgagecorporation', 'ljrossassociates', 'midfirstbank',\n       'procollectinc', 'readycapitalcorporation',\n       'amerihomemortgagecompanyllc', 'princeparkerassociates',\n       'diversifiedadjustmentserviceinc',\n       'easternaccountsystemsofconnecticutinc', 'lakemichigancreditunion',\n       'americancollectionsenterpriseinc',\n       'americanprofitrecoveryincmarlboroughmabranch',\n       'renasantcorporation', 'aargonagencyinc', 'moneylioninc',\n       'creditorsbureauassociates', 'globalclientsolutionsllc',\n       'mrsbpollc', 'budgetcontrolservicesinc',\n       'pentagonfederalcreditunion', 'financialassistanceinc',\n       'grantweber', 'penncreditcorporation', 'waypointresourcegroupllc',\n       'michaeljadamspc', 'arvestbankgroupinc', 'eglusllc',\n       'trueaccordcorp', 'netspendcorporation', 'velocityportfoliogroup',\n       'roundpointmortgageservicingllc', 'vanderbiltmortgagefinanceinc',\n       'rmsrecoverymanagementservicesinc', 'aspenyollc',\n       'digitalfederalcreditunion', 'rbcorporationofvirginia',\n       'nationwideacceptancellc', 'financialbusinessandconsumersolutions',\n       'bridgecrestacceptancecorporation', 'northerntrustcompanythe',\n       'privatemortgageadvisorsllc', 'thecmigroupinc', 'fccfinancellc',\n       'professionalcollectionserviceincga', 'carteryounginc',\n       'pinnaclerecoveryinc', 'fcholdcollc', 'vystarcreditunion',\n       'landhomefinancialservices', 'wheelsfinancialgroupllc',\n       'raykleininc', 'sunlightfinancialllc', 'hollinsmcvaypa',\n       'easternbanksharesinc', 'montereyfinancialservicesllc',\n       'lockhartmorrismontgomeryinc', 'transworldsystemsinc',\n       'slmcorporation', 'superiorholdingsllc', 'suttellhammerwhiteps',\n       'carameldealerservicesllc', 'commercialtradeinc',\n       'faircollectionsoutsourcinginc', 'communitycashmanagementcorp',\n       'oldnationalbancorp', 'homebancsharesinc', 'fiservinc',\n       'nationalcollectionsystemsinc', 'andrewscoxpc',\n       'steelriversystemsllc', 'plusfourinc', 'presslerpresslerllp',\n       'healthcaremanagementllc', 'creditcontrolllc',\n       'reliablecreditassociationinc',\n       'helveyassociatesincwarsawinbranch', 'dhimortgagecompany',\n       'lcsfinancialservicescorporation', 'coastprofessionalinc',\n       'southwestrecoveryservicesinc', 'zionsdebtholdings',\n       'corelogicinc', 'veroscreditllc', 'californiabusinessbureauinc',\n       'sentryrecoveryandcollectionsinc', 'rozlinfinancialgroupinc',\n       'steinlawpc', 'daservicesllc', 'merchantscreditguidecompany',\n       'successmortgagepartnersinc', 'diversifiedrecoverybureaullc',\n       'autovestllc', 'kcbcreditllc', 'glacollectioncompanyinc',\n       'sierrapacificmortgage', 'stratusfinancialllc', 'alliancecasllc',\n       'guildmortgagecompanyllc', 'qualityloanservicecorporation',\n       'berkshirehillsbancorpinc',\n       'rosebudeconomicdevelopmentcorporation', 'klsfinancialservicesinc',\n       'americancollectionsystemsinc', 'centralbancompanyinc',\n       'atlanticrecoverysolutionsllc',\n       'atlanticdiscountcorporationdbaatlanticfinancialservices',\n       'rmgaliciainc', 'patientfillc', 'pbcapitalgroupllc',\n       'lawofficesofrobertjcolcloughiii', 'relayfinancialuscorp',\n       'mccarthyburgesswolffinc', 'thesayerlawgrouppc',\n       'nationslendingcorporation', 'zuntaficorp',\n       'launchfinancialgroupllc', 'nationalenterprisesystemsinc',\n       'firstfederalcreditcontrolinc', 'gordonaylworthtamipc',\n       'drivetime', 'tekcollectinc', 'avantholdingcompanyinc',\n       'boeingemployeescreditunion', 'firstcommunitymortgageinc',\n       'lawofficeofhallandassociates', 'universalacceptancecorporationne',\n       'texasguaranteed', 'proberraphaelalawcorporation',\n       'jjmarshallassociatesinc', 'hovgllc',\n       'thereceivablemanagementservicesllc', 'creditbureauofthesouthinc',\n       'wsfsfinancialcorporation', 'firstnationalcollectionbureauinc',\n       'northwestbancsharesinc', 'americascarmartinc',\n       'homeownersfinancialgroupusa', 'mutualmanagementservicesllc',\n       'dcicreditservicesinc', 'cashrepublicholdingsinc',\n       'coasttocoastfinancialsolutionsinc', 'turkestraussllp',\n       'autotrakkllc', 'equityloansllc', 'hometownlendersllc',\n       'thelawofficeofheathercullenaprofessionalcorporation',\n       'valleycollectionservicellc', 'capitalaccountsllc',\n       'naglezallerpc', 'transformcreditinc',\n       'bonnevillebillingandcollections', 'townemortgagecompany',\n       'automotiveleasingspecialistsllc', 'navientsolutionsllc',\n       'convergentresourcesinc', 'americancreditacceptancellc',\n       'firsttexasautocreditinc', 'momnttechnologiesinc', 'sezzleinc',\n       'lennarfinancialservicesllc', 'homeamericanmortgagecorp',\n       'alliedcollectionservicesincnevada', 'keynoteconsultinginc',\n       'thebestservicecoinc', 'cascadecapitalllc', 'kikoffinc',\n       'gbcollectsllc', 'ccfintermediateholdingsllc',\n       'fultonfinancialcorporation', 'americanpacificmortgage',\n       'gatestonecointernationalinc', 'quickclickloansofillinoisllc',\n       'kstreetfinanceinc', 'sierracreditcorp', 'berlinwheelerinckansas',\n       'southernoregoncreditserviceinc', 'rockymountaincapitalmanagement',\n       'memberfirstmortgagellc', 'receivablesperformancemanagementllc',\n       'actioncollectionservice', 'securityservicefederalcreditunion',\n       'sombrerocapitalllc', 'grblaw', 'possiblefinancialinc',\n       'fidelitycapitalholdingsinc', 'paramountrecoverysystemslp',\n       'firstsourcebusinessprocessservicesllc',\n       'imperialrecoveryconsultantsllc',\n       'simmonsfirstnationalcorporation', 'advancebureauofcollections',\n       'maryjanemelliottpcattorneysatlaw', 'key2recoveryinc',\n       'calconmutualmortgagellcdbaonetrusthomeloans', 'servicemacllc',\n       'siggillc', 'mountainrunsolutionsllc', 'loansimpleinc',\n       'assuredfinancialllc', 'professionalfinancecompanyinc',\n       'openroadlending', 'avidacceptancellc', 'barhammaucerellc',\n       'americanfinancialnetworkinc', 'globalpaymentsdirectinc',\n       'firstadvantagelnsinc', 'novafinancialholdingcompanyllc',\n       'unitedcollectionbureauinc', 'creditserviceinternationalcorp',\n       'smartfinanceincdbafishtailfinancial', 'columbiabankingsysteminc',\n       'golden1creditunionthe', 'starmarkfinancialllc',\n       'expresscollectionsinc', 'adpinc', 'nationwidecreditcorporation',\n       'bankofthewest', 'autonowfinancialservicesincphoenixazbranch',\n       'midsouthadjustmentcoinc', 'qualityassetrecoveryllc',\n       'bankmobiletechnologiesinc', 'cbkinc',\n       'nationalcommercialservicesinc', 'nathannathanpc',\n       'valleynationalbancorp', 'microbiltprbcformerlyclverify',\n       'savitenterprisesinc', 'bucklesbucklesplc', 'trustfinancialllc',\n       'eastwestbank', 'americollect',\n       'firsttechnologyfederalcreditunion', 'adirinternationalllc',\n       'entratainc', 'securityfinancecorp',\n       'kilowattfinancialllcasprucefinancecompany',\n       'eustismortgagecorporation', 'nuworldtitlellc',\n       'branchmessengerinc', 'ecmcgroupinc', 'torriereholdingsinc',\n       'parkhillholdings', 'automotivecreditcorporation',\n       'supportcollectorsinc', 'prizmfinancialcompanyllc',\n       'zionsbancorporation', 'scratchservicesinc',\n       'javitchblockrathbonellc', 'masfinancialservicesinc',\n       'thecadlecompany', 'autocreditofvirginiainc',\n       'expansefinancialtechnologiesincfkaprepaidventuresltd',\n       'nelsoncruzassociatesllc', 'alliedenrollmentcentersllc',\n       'sterlinginfosystemsinc', 'residentcollectinc',\n       'amerassistarsolutionsinc', 'waterstonemortgagecorporation',\n       'cb1inc', 'bayviewsolutionsllc', 'quickbridgefundingllc',\n       'carmenvporrecapc', 'midwestresalespecialistinc', 'usassetsllc',\n       'unitedbanksharesinc', 'keycorp', 'capitallinkmanagementllc',\n       'triadfinancialservicesinc', 'nolensvilleroadautomartinc',\n       'piccapitalincdbadirecthomelending', 'citynationalbank',\n       'tallytechnologies', 'mufgamericasholdingscorporation',\n       'tridentassetmanagementllc', 'iowastudentloanliquiditycorporation',\n       'maurycobbattorneyatlawllc', 'thelgmcoinc', 'texcapfinancialllc',\n       'rubinrothmanllc', 'waterfallrevenuegroup', 'teslainc',\n       'expressrecoveryservicesinc', 'customersbancorpinc',\n       'bannercorporation', 'hcfshealthcarefinancialservicesofteamhealth',\n       'nicinc', 'larsenassociatespl', 'kingscreditservices',\n       'titaniumfunds', 'onetechnologieslp', 'phillipscohenassociatesltd',\n       'aldridgepitellp', 'sourcereceivablesmanagementllc',\n       'caliberhomeloansinc', 'meridianfinancialservicesinc',\n       'leadersfinancialcompany', 'klarnaab', 'sequiumassetsolutionsllc',\n       'thelawofficeofedwinbparry', 'stonehiggsdrexler',\n       'sternrecoveryservicesinc', 'professionalcreditmanagementinc',\n       'capitalmanagementserviceslp', 'creditinternationalcorporation',\n       'financialrecoveryservicesinc', 'terrilloutsourcinggroup',\n       'kpassetconsultingllc', 'villagecapitalinvestmentllc',\n       'smsfinancialllc', 'pacificcreditexchangecorporation',\n       'dimandlawofficespc', 'sgandassociates', 'cigfinancialllc',\n       'alterragroupllc', 'bethpagefederalcreditunion', 'equifaxinc',\n       'skoposfinancialllc', 'jnradjustmentcompanyinc', 'rcwilley',\n       'schoolsfirstfederalcreditunion', 'snellingslawllc',\n       'lienenforcementinc', 'butlerandassociatespa',\n       'californiaaccountsservice', 'thealignedcompanydbaextra',\n       'rentoncollectionsinc', 'arapahoemotors', 'themoorelawgroup',\n       'keybridgemedicalrevenuemanagement', 'mccarthyholthusllp',\n       'lazegajohansonllc', 'financialcreditnetworkinc',\n       'santanderbanknationalassociation',\n       'continentalcollectionagencyltd', 'oklahomastudentloanauthority',\n       'millenniumfinancialgroupllc', 'collectionmanagementholdingsllc',\n       'fresnocreditbureau', 'nevadacredicoinc', 'unitedcommunitybank',\n       'bayareareceivablesinc', 'receivablesmanagementcorporation',\n       '4mcollectionsllc', 'ldfholdingsllc', 'medicaldatasystemsinc',\n       'byerslawllc', 'hirshbergacceptancecorporation', 'bwwlawgroupllc',\n       'towerloanofmississippiinc', 'globalsolutionbizllc',\n       'severinringsakmorrow', 'orioncapitalsolutionsllc',\n       'fairwaycapitalrecoveryllc', 'creditcardacquisitionsgroup',\n       'arivoacceptancellc', 'samueliwhitepc', 'collectechdiversifiedinc',\n       'personalcashloansofscinc', 'midatlanticfinancecoinc',\n       'merchantsfinancialguardianinc', 'fcilenderservicesinc',\n       'evergreenprofessionalrecoveriesinc', 'trustmarkcorporation',\n       'millcomanagement', 'qcholdingsinc',\n       'thunderbirdcollectionspecialistsinc', 'americancreditbureauinc',\n       'acqholdingsllc', 'chnhousingpartners', 'sterlingjewelersinc',\n       'strategicalliancesinc', 'dsericksonassociatespllc',\n       'articleacceptancecompany', 'kubotanorthamericacorporation',\n       'concordservicingcorporation', 'acautopayllcdenvercobranch',\n       'creditcollectionsusallc', 'collectionbureauservicesinc',\n       'bdfpartnerspc', 'professionalplacementservicesllc',\n       'synergeticcommunicationinc', 'eagleaccountsgroupinc',\n       'gusdorflawfirmllc', 'ballybunionenterprisesinc',\n       'firstinvestorsservicingcorporationatlantagabranch',\n       'carolinafinancellc', 'northdakotahousingfinanceagency',\n       'aihreceivablesmanagementinc', 'simpsonlawfirmpa',\n       'phoenixfinancialservicesllc', 'independencecapitalrecoveryllc',\n       'consumercollectionmanagementinc', 'clearpathlending',\n       'mnsassociatesllc', 'professionaldebtmediationinc',\n       'direcmanagementinc', 'accountcontroltechnologyinc', 'nelnetinc',\n       'firstfinancialbancorp', 'figuretechnologiesinc',\n       'idahohousingandfinanceassociation',\n       'merchantsandprofessionalbureauinc', 'alfinancialcorp',\n       'newmexicoeducationalassistancefoundation',\n       'umpquaholdingscorporation', 'receivablemanagementgroupincga',\n       'flagstarbankna', 'diversefundingassociatesllc', 'denefitsllc',\n       'tsholdings', 'stokeswolfpc', 'firstbankpuertorico',\n       'orionsmanagementgroupllc', 'flexshopperinc', 'sentrycreditinc',\n       'benuckraineyinc', 'parsonbishopservicesinc',\n       'nationalmedicaladministratorsinc', 'optumbankinc',\n       'midwestfidelityservicesllc', 'cliffsfinancecoinc',\n       'americancapitalenterprisesinc', 'checkrediofkentuckyllc',\n       'bluechipfinancial', 'thprofessionalmedicalcollectionsltd',\n       'astafundinginc', 'hwholdinginc', 'credittechnologiesinc',\n       'seganmasonmasonpc', 'firstcommonwealthmortgagecorp',\n       'directrecoveryservicesllc', 'bcservicesinc',\n       'cedarsbusinessservicesllc', 'ysaarmllcdbaoxygenxl',\n       'unitedrevenuecorporation', 'firstbank',\n       'absoluterecoveryservicesllc', 'windhamprofessionalsinc', 'pscinc',\n       'advisesolutionsservicesllc', 'vosskleinllc',\n       'noveaportfoliomanagementllc', 'firstmidwestbancorpinc',\n       'fairwaycollectionsllc', 'unitedcreditandcollectionsinc',\n       'firstportfolioservicinginc', 'islandportfoliosservicesllc',\n       'collectionservicesofathensinc', 'bermanrabinpa',\n       'oliveradjustmentco', 'creditresolutionsllc', 'acremortgage',\n       'henleylotterhoshenleypllc', 'providentfundingassociates',\n       'rauchmillikeninternationalinc', 'credittechnologyinc',\n       'armstrongandassociatesinc',\n       'andersonandassociatescreditservicesllc', 'citadelfinancecompany',\n       'arcmanagementgroupllc', 'bffinancecorp',\n       'aequitascapitalopportunitiesfundlp', 'marsinc', 'opportunityfund',\n       'ssphysicianservicesinc', 'niagaracentralrevenue',\n       'richlandholdingsinc', 'idealcollectionservicesinc',\n       'triballendingenterpriseinc', 'blackhawknetworkholdingsinc',\n       'cashlinkusallc', 'usaservicefinancellc', 'chrysalisholdingsllc',\n       'outsourceservicesincdbanationalacceptancecompany',\n       'weststarmortgagecorporation', 'freewayfundinginc',\n       'contractcallersinc', 'collectionserviceofnevada',\n       'amnetesopcorporation', 'highperformancecapital', 'ccfinancial',\n       'celentanostadtmauerwalentowiczllp', 'rocassetsolutionsllc',\n       'creativefinanceinc', 'automobileacceptancecorporation',\n       'autoadvantagefinancellc', 'crediblelabsinc', 'uscbcorporation',\n       'lawofficesofbradleygnykamppc', 'kansascounselorsinc',\n       'approveholdingsinc', 'creditadjustmentsinc',\n       'lelamaeportfoliomanagementgroup', 'amaadvisorsllc',\n       'adminrecoveryllc', 'arenainvestorslp',\n       'weinsteinkarpassociatesinc', 'charlesschwabcorporationthe',\n       'dkconsultingincdbahuntingtonfinancialservices',\n       'bastionconsumerfundingillc', 'integraautocapital', 'forisdaxinc',\n       'rabperformancerecoveriesllc', 'commercialservicesgroupinc',\n       'federaladjustmentbureauinc', 'firstrepublicbank', 'mgcreditinc',\n       'clientservicesinc', 'clientfinancialservicesofmichiganllc',\n       'loqboxusinc', 'unityassetmanagement', 'optimarecoveryservicesllc',\n       'royalpacificfundingcorporation', 'homestarfinancialcorporation',\n       'yakimacountycreditserviceinc', 'mythehuffmurphypc',\n       'healthcarecollectionsillc', 'amcolsystemsinc',\n       'torrescreditservicesinc', 'hoacollectionsllc',\n       'worthfinancecorporation', 'dividendfinanceinc',\n       'fullcirclefinancialservicesllc', 'maynardnexsenpc',\n       'bthmanagement', '1803capitalllc', 'metroareacollectionserviceinc',\n       'mjaltmancompaniesinc', 'williamsrushassociatesllc',\n       'alliancegroupassociatesllc', 'ebackgroundcheckscominc',\n       'loganfinancecorporation', 'mosslawfirmpc', 'statefarmbankfsb',\n       'bancopopulardepuertorico', 'awarholdinginc',\n       'usautocreditcorporation', 'reliantfinancialcorporation',\n       'ursholdingllc', 'acraintermediateholdingsllc',\n       'choicerecoveryinc', 'senexservicescorp',\n       'lobelfinancialcorporation', 'medicalcommercialauditinc',\n       'debtsolutionsinc', 'performantfinancialcorporation',\n       'assetmaximizationgroupinc', 'collegeassist', 'dyckonealinc',\n       'tntfinancialinc', 'atlascreditcompanyinc',\n       'johngibsonautosalesinc', 'premierautocredit',\n       'arborprofessionalsolutionsinc', 'automotiveservicesfinanceinc',\n       'nationalaccountsystemsofomahallc', 'michaelwayneinvestment',\n       'fbfinancialcorporation', 'randolphboydcherryandvaughan',\n       'healthcarereceivablesgroupinc', 'carterbusinessserviceinc',\n       'cashexpressllc', 'tristateadjustmentsinc',\n       'acknowledgedebtresolutions', 'rauschsturmisraelenersonhornikllp',\n       'dataandcontactmanagementsolutionsllc',\n       'nationalcheckresolutioninc', 'creditcenterllc',\n       'creditbureauofnapacountyinc',\n       'professionaladjustmentcorpofswflinc', 'thejudgmentgroup',\n       'apexprocessing', 'acceleratedservicinggroupllc',\n       'simonplcattorneyscounselors', 'pdqservicesinc', 'townebank',\n       'westhillfinancial', 'emeraldarsystemsllc', 'bayequityllc',\n       'swlinearinvestmentgroupllc', 'americanstudentassistance',\n       'majrfinancialcorp', 'creditbureaudatainc', 'fusionautofinance',\n       'smithdebnamnarrondrakesaintsingmyersllp',\n       'valleycreditserviceincor', 'tulsaadjustmentbureau',\n       'thebartonlawgroupllc', 'blakelywittandassociatesinc',\n       'applerecoveryservicescorp', 'cacservicesinc',\n       'louisianarecoveryservicesinc', 'consolidatedrecoverygroupllc',\n       'southstatecorporation', 'networkcapitalfundingcorp',\n       'guardiancapitalmanagementhawaiillc', 'lamonthanleyassociatesinc',\n       'accountsinterchangegroupllc', 'nextlevelfinancepartnersllc',\n       'creditcounselinc', 'southernmanagementsystemsinc',\n       'goalstructuredsolutionsllc', 'americanadjustmentbureauinc',\n       'jprecoveryservicesinc', 'alpinecreditinc', 'indebtedcorporation',\n       'cashmaxllc', 'cogentroadinc',\n       'creditbureausystemsincpaducahkybranch', 'allgatefinancialllc',\n       'pultegroupinc', 'totalautofinance', 'ollawgrouppl',\n       'alaskacommissiononpostsecondaryeducation', 'debtsyholdingsinc',\n       'atgcreditllc', 'creditservicesinc',\n       'kirschbaumnanneykeenangriffinpa', 'profitservicesgroup',\n       'duverabillingservicesllc', 'zenithfinancialnetworkinc',\n       'locatesourceamericallc', 'braggandassociatesrealestatellc',\n       'omnipointcapital', 'solarmosaicllc', 'fridgeresendezpc',\n       'reliableautofinanceinc', 'clearrecoveryinc',\n       'nissanmotoracceptancecompanyllc', 'pncbankna', 'platollc',\n       'uscollectionswestinc', 'thomasgeorgeassociatesltd',\n       'wecollectinc', 'meiautofinanceinc',\n       'linebargergogganblairsampsonllp', 'universalaccountservicingllc',\n       'greatersuburbanacceptancecorporation', 'vipmortgageinc',\n       'procomservicesofillinoisinc', 'accountmanagementservicesinc',\n       'metacorpllc', 'jondcurtisattorneyatlaw', 'bilateralcreditcorpllc',\n       'meadeassociatesinc', 'nickelcitygroupllc',\n       'nationalbureauofcollectionsinc', 'cottonwoodfinancialltd',\n       'aquafinanceinc', 'ariasbosinger', 'mccabetrotterbeverlypc',\n       'esusuinc', 'auditadjustmentcoinc',\n       'finkelsteinkernsteinbergcunninghampc', 'conduentincorporated',\n       'aldousassociatespllc', 'financialdatasystems',\n       'goldenempiremortgageincorporated', 'sunsetmanagementinc',\n       'southernfinancialsystemsinc', 'trombergmorrispoulinpllc',\n       'vericredsolutionsllc', 'jtmcapitalmanagementllc',\n       'selipstylianoullp', 'praxellinc', 'ulrsinc',\n       'prestoloancenterllc', 'skagitbondedcollectorsllc',\n       'revenueenterprisesllc', '1stfranklinfinancialcorporation',\n       'paidinfullinc', 'carmelfinancialcorporationinc',\n       'americancollectionsystemsincoh', 'slfinancellc',\n       'checkntitleloans', 'advantagecollectionprofessionalsinc',\n       'narinc', 'vengroffwilliamsinc', 'accreditedcollectionserviceinc',\n       'britefinancialservicesinc', 'clearoneadvantagellc',\n       'orionportfolioservicesllc', 'mnetfinancialinc',\n       'herbertpsearscoinc', 'totalcardinc', 'lakeareacollectionsllc',\n       'hoodstacypa', 'jonathanneilassociatesinc', '950creditinc',\n       'inflectioncominc', 'llservicesparentllc', 'londonlondon',\n       'coastalsettlementrecoveryinc', 'neighborhoodcapitalfundinginc',\n       'innovativefundingservicesllc',\n       'habitatforhumanityinternationalinc', 'tesanimanagementinc',\n       'worldremitcorp', 'hilltopholdingsinc',\n       'angeloakmortgagesolutionsllc', 'telerecoverycorporation',\n       'improveddataservicesllc', 'opendealerexchangellc',\n       'theoutsourcegroupinc', 'everestreceivableservicesinc',\n       'castlerockmortgagellc', 'atlanticunionbanksharescorporation',\n       'sonnenscheinfinancialservicesinc', 'eatongroupattorneysllc',\n       'bcoconsultingservices', 'carvanagroupllc',\n       'neweraassetmanagementllc', 'professionalmedicalmanagementinc',\n       'creditcollectionpartnersinc', 'advancedcollectionbureauinc',\n       'commercehomemortgageinc', 'nowackhowardllc',\n       'neighborhoodautosllc', 'bigcityfinancelllp', 'deatrickspiespsc',\n       'corpracareinc', 'marineoneacceptancecorporation',\n       'delmarfinancialcompany', 'collectionbureauofwallawalla',\n       'michiganmutualinc', 'kitchacceptancecorp', 'fleetfinancialinc',\n       'hmsvfinancialservicesinc', 'lcbrentreportingltd',\n       'harveststrategygroupinc', 'deanmorrisllp', 'capitalcreditllc',\n       'patrickacareypa', 'uprovacreditllc', 'tradestationgroupinc',\n       'gemfinancial', 'cohngoldbergdeutschllc', 'creditninjalendingllc',\n       'instantloansinc', 'aaacollections', 'lendsmartinc',\n       'highereducationstudentassistanceauthorityhesaa'], dtype=object)"
     },
     "execution_count": 175,
     "metadata": {},
     "output_type": "execute_result"
    }
   ],
   "source": [
    "df2['Company'].unique()"
   ],
   "metadata": {
    "collapsed": false,
    "ExecuteTime": {
     "end_time": "2024-04-28T20:38:41.996125Z",
     "start_time": "2024-04-28T20:38:41.956158Z"
    }
   },
   "id": "b2447a40f4377bba",
   "execution_count": 175
  },
  {
   "cell_type": "code",
   "outputs": [
    {
     "data": {
      "text/plain": "array(['General-purpose credit card or charge card', 'Credit reporting',\n       'Checking account', 'Conventional home mortgage', 'FHA mortgage',\n       'Other banking product or service',\n       'Home equity loan or line of credit (HELOC)', 'Other debt',\n       'I do not know', 'Telecommunications debt', 'VA mortgage',\n       'Store credit card', 'CD (Certificate of Deposit)', 'Loan',\n       'Credit card debt', 'Lease', 'General-purpose prepaid card',\n       'Savings account', 'Federal student loan debt',\n       'Federal student loan servicing', 'Other personal consumer report',\n       'Government benefit card', 'Medical debt', 'Mortgage debt',\n       'Auto debt', 'Rental debt', 'Manufactured home loan',\n       'Installment loan', 'Private student loan', 'USDA mortgage',\n       'Gift card', 'Private student loan debt', 'Payday loan debt',\n       'Other type of mortgage', 'Reverse mortgage',\n       'Personal line of credit', 'Payroll card', 'Payday loan',\n       'Student prepaid card'], dtype=object)"
     },
     "execution_count": 176,
     "metadata": {},
     "output_type": "execute_result"
    }
   ],
   "source": [
    "df2['Sub-product'].unique()"
   ],
   "metadata": {
    "collapsed": false,
    "ExecuteTime": {
     "end_time": "2024-04-28T20:39:17.652468Z",
     "start_time": "2024-04-28T20:39:17.599988Z"
    }
   },
   "id": "82dfb1af34c652f",
   "execution_count": 176
  },
  {
   "cell_type": "code",
   "outputs": [
    {
     "data": {
      "text/plain": "array([\"Credit card company isn't resolving a dispute about a purchase on your statement\",\n       'Account information incorrect',\n       'Information belongs to someone else',\n       'Their investigation did not fix an error on your report',\n       'Money was taken from your account on the wrong day or for the wrong amount',\n       'Escrow, taxes, or insurance', 'Charged too much interest',\n       'Card was charged for something you did not purchase with the card',\n       'An existing modification, forbearance plan, short sale, or other loss mitigation relief',\n       'Reporting company used your report improperly',\n       'Transaction was not authorized',\n       'Funds not handled or disbursed as instructed',\n       'Public record information inaccurate',\n       'Problem making or receiving payments',\n       'Trying to communicate with the company to fix an issue related to modification, forbearance, short sale, deed-in-lieu, bankruptcy, or foreclosure',\n       'Changes in loan terms during or after closing',\n       'Debt is not yours', \"Didn't receive notice of right to dispute\",\n       'Account status incorrect',\n       'Card opened as result of identity theft or fraud',\n       \"Can't close your account\", 'Foreclosure',\n       \"Didn't receive enough information to verify debt\",\n       'Problem during payment process', 'Problem with fees',\n       'Funds not received from closed account',\n       'Problem canceling credit monitoring or identify theft protection service',\n       \"Didn't receive terms that were advertised\",\n       'Fees or costs during the application process', 'Other problem',\n       'Confusing or missing disclosures',\n       'Personal information incorrect',\n       'Loan sold or transferred to another company',\n       'Deposits and withdrawals', 'Banking errors', 'Fees charged',\n       \"Didn't receive advertised or promotional terms\",\n       'Private mortgage insurance (PMI)', 'Payment process',\n       'Problem accessing account',\n       'Was not notified of investigation status or results',\n       'Investigation took more than 30 days',\n       'Denied request to lower payments',\n       'Problem with personal statement of dispute',\n       \"Credit inquiries on your report that you don't recognize\",\n       'Loan balance remaining after the vehicle is repossessed and sold',\n       'Attempted to collect wrong amount', 'Company closed your account',\n       'Debt was result of identity theft', 'Debt was paid',\n       'Problem extending the lease',\n       'Non-sufficient funds and associated fees',\n       'Unexpected increase in interest rate',\n       'You never received your bill or did not know a payment was due',\n       'Trouble getting a working replacement card',\n       'Other problem getting your report or credit score',\n       'Received unwanted marketing or advertising',\n       'Confusing or misleading advertising about the credit card',\n       'Problem using a debit or ATM card',\n       'Report provided to employer without your written authorization',\n       'Threatened to sue you for very old debt',\n       'Applying for or obtaining a modification, forbearance plan, short sale, or deed-in-lieu',\n       'Cashing a check', 'Application denied',\n       \"Can't use card to make purchases\",\n       'Problem with additional products or services purchased with the loan',\n       'Sent card you never applied for', 'Problem with fees charged',\n       'Application denials', 'Problem with paying off the loan',\n       'Old information reappears or never goes away',\n       'Account opened without my consent or knowledge',\n       'Trouble with how payments are being handled',\n       'Card opened without my consent or knowledge',\n       'Overdrafts and overdraft fees',\n       'Received bad information about your loan',\n       'Information is missing that should be on the report',\n       'Difficulty submitting a dispute or getting information about a dispute over the phone',\n       'Privacy issues', 'Company explaining amount owed',\n       \"Can't get other flexible options for repaying your loan\",\n       'Problem while selling or giving up the vehicle', 'Interest rate',\n       'Problem using the card to withdraw money from an ATM',\n       \"Can't stop withdrawals from your account\",\n       'Problem getting your free annual credit report',\n       'Information is incorrect',\n       'Threatened or suggested your credit would be damaged',\n       'Need information about your loan balance or loan terms',\n       'Unable to open an account',\n       \"Credit card company won't work with you while you're going through financial hardship\",\n       'Collected or attempted to collect exempt funds',\n       'Trying to communicate with the company to fix an issue while managing or servicing your loan',\n       \"Didn't receive services that were advertised\",\n       'Problem with rewards from credit card',\n       'Unable to receive car title or other problem after the loan is paid off',\n       'Paying off the loan',\n       'Trying to communicate with the company to fix an issue with the loan closing',\n       'Delays in the application process',\n       'Trying to communicate with the company to fix an issue with the application process',\n       'Billing problem',\n       \"Credit card company won't increase or decrease your credit limit\",\n       'Problem with your payment plan',\n       'Delays with the closing process',\n       'Contacted you after you asked them to stop',\n       'Used obscene, profane, or other abusive language',\n       'Frequent or repeated messages', 'Fee problem',\n       'Frequent or repeated calls', 'Credit denial',\n       'Delay in processing application',\n       'Received unsolicited financial product or insurance offers after opting out',\n       'Changes in terms mid-deal or after closing',\n       'Problem with customer service',\n       'Impersonated attorney, law enforcement, or government official',\n       'Trouble closing card', 'Fees charged for closing account',\n       'Closing disclosure or other related disclosures',\n       'Seized or attempted to seize your property',\n       'You told them to stop contacting you, but they keep trying',\n       'Confusing or misleading advertising or marketing',\n       'Bounced checks or returned payments',\n       'Account reinstatement or redemption after repossession',\n       'Loan opened without my consent or knowledge',\n       'Sued you without properly notifying you of lawsuit',\n       'Billing dispute for services', 'Late or other fees',\n       'Overcharged for something you did purchase with the card',\n       'Changes in loan terms during the application process',\n       'Problem with product or service terms changing',\n       'Excess mileage, damage, or wear fees, or other problem after the lease is finished',\n       'Keep getting calls about your loan',\n       'Trouble using the card to spend money in a store or online',\n       'High-pressure sales tactics', 'Problem with balance transfer',\n       'Did not receive car title', 'Lien release',\n       'Contacted before 8am or after 9pm',\n       'Loan estimate or other related disclosures',\n       'Add-on products and services',\n       'Problem with forgiveness, cancellation, or discharge',\n       'Talked to a third-party about your debt',\n       'Trouble getting information about the card',\n       'Trouble using the card to pay a bill',\n       'Problem with additional add-on products or services purchased with the loan',\n       'Notice to repossess', 'Problem with the interest rate',\n       \"Don't agree with the fees charged\",\n       'Changes in terms from what was offered or advertised',\n       'Problem with renewal',\n       'Debt was already discharged in bankruptcy and is no longer owed',\n       'Problem with cash advances',\n       \"Can't temporarily delay making payments\",\n       'Trouble getting, activating, or registering a card',\n       'Company communicating payment assistance or payment extension options',\n       'Problem getting a working replacement card',\n       \"Notification didn't disclose it was an attempt to collect a debt\",\n       \"Card company isn't resolving a dispute about a purchase or transfer\",\n       'Problem with convenience check', 'Fees or costs after closing',\n       'Lender trying to repossess or disable the vehicle',\n       'Problem with fees or penalties', 'Deposits or withdrawals',\n       'Cannot graduate, receive diploma, or get transcript due to money owed',\n       'Termination fees or other problem when ending the lease early',\n       'Account sold or transferred to another company',\n       'Contacted your employer',\n       'Told you not to respond to a lawsuit they filed against you',\n       'Problem related to refinancing',\n       'Charged for a purchase or transfer you did not make with the card',\n       'Threatened to arrest you or take you to jail if you do not pay',\n       'Indicated you were committing crime by not paying debt',\n       'Account opened as a result of fraud',\n       'Sued you in a state where you do not live or did not sign for the debt',\n       'Fraudulent loan', 'Deficiency balance after repossession',\n       'Called before 8am or after 9pm',\n       'Problem with a check written from your prepaid card account',\n       'Confusing or misleading advertising about the card',\n       'Problem with signing the paperwork',\n       'Problem when attempting to purchase vehicle at the end of the lease',\n       'Problem lowering your monthly payments',\n       'Damage caused or loss of personal items in vehicle during the actual repossession',\n       'Co-signer', 'Problem with direct deposit',\n       'Voluntary repossession',\n       'Information that should be on the report is missing',\n       'Confusing or misleading advertising', 'Denied loan',\n       'Negative impact of inaccurate appraisal',\n       'Billing or statement issues', 'Problem adding money',\n       'Issues with financial aid services',\n       'Problem after you declared or threatened to declare bankruptcy',\n       'Credit card company forcing arbitration',\n       'Threatened to turn you in to immigration or deport you',\n       \"Don't want a card provided by your employer or the government\",\n       'Contacted you instead of your attorney',\n       'Overcharged for a purchase or transfer you did make with the card',\n       'Overdraft charges', 'Filed for bankruptcy',\n       'Problem with a trade-in'], dtype=object)"
     },
     "execution_count": 178,
     "metadata": {},
     "output_type": "execute_result"
    }
   ],
   "source": [
    "df2['Sub-issue'].unique()"
   ],
   "metadata": {
    "collapsed": false,
    "ExecuteTime": {
     "end_time": "2024-04-28T20:40:33.308198Z",
     "start_time": "2024-04-28T20:40:33.282206Z"
    }
   },
   "id": "242963b3d06f451e",
   "execution_count": 178
  },
  {
   "cell_type": "code",
   "outputs": [
    {
     "data": {
      "text/plain": "Timely response?\nYes    55472\nNo       452\nName: count, dtype: int64"
     },
     "execution_count": 182,
     "metadata": {},
     "output_type": "execute_result"
    }
   ],
   "source": [
    "df_value_counts = df2['Timely response?'].value_counts()\n",
    "df_value_counts"
   ],
   "metadata": {
    "collapsed": false,
    "ExecuteTime": {
     "end_time": "2024-04-28T20:42:58.196271Z",
     "start_time": "2024-04-28T20:42:58.180682Z"
    }
   },
   "id": "c884e488b5ad3810",
   "execution_count": 182
  },
  {
   "cell_type": "code",
   "outputs": [],
   "source": [
    "y = 55472\n",
    "n= 452\n",
    "perc_yes = (y/(y+n))*100\n",
    "perc_no = 100-perc_yes"
   ],
   "metadata": {
    "collapsed": false,
    "ExecuteTime": {
     "end_time": "2024-04-28T20:53:11.805136Z",
     "start_time": "2024-04-28T20:53:11.791869Z"
    }
   },
   "id": "ca06f0a7aea0feff",
   "execution_count": 184
  },
  {
   "cell_type": "code",
   "outputs": [
    {
     "name": "stdout",
     "output_type": "stream",
     "text": [
      "99.1917602460482\n"
     ]
    }
   ],
   "source": [
    "print(perc_yes)"
   ],
   "metadata": {
    "collapsed": false,
    "ExecuteTime": {
     "end_time": "2024-04-28T20:53:18.727884Z",
     "start_time": "2024-04-28T20:53:18.716380Z"
    }
   },
   "id": "4a3704c1afd157af",
   "execution_count": 185
  },
  {
   "cell_type": "code",
   "outputs": [
    {
     "name": "stdout",
     "output_type": "stream",
     "text": [
      "0.8082397539517956\n"
     ]
    }
   ],
   "source": [
    "print(perc_no)"
   ],
   "metadata": {
    "collapsed": false,
    "ExecuteTime": {
     "end_time": "2024-04-28T20:53:23.996763Z",
     "start_time": "2024-04-28T20:53:23.992620Z"
    }
   },
   "id": "8fddd89059b6ac02",
   "execution_count": 186
  },
  {
   "cell_type": "code",
   "outputs": [
    {
     "data": {
      "text/plain": "                                                Issue  count  \\\n0                Incorrect information on your report  13710   \n1                         Improper use of your report   9472   \n2   Problem with a credit reporting company's inve...   6922   \n3                                 Managing an account   4201   \n4                   Attempts to collect debt not owed   2955   \n5     Problem with a purchase shown on your statement   2472   \n6   Problem with a company's investigation into an...   1318   \n7   Problem with a lender or other company chargin...    976   \n8                                  Closing an account    948   \n9                     Written notification about debt    901   \n10                 Other features, terms, or problems    883   \n11                                   Fees or interest    880   \n12                              Getting a credit card    783   \n13                     Trouble during payment process    699   \n14  Took or threatened to take negative or legal a...    685   \n15                 False statements or representation    654   \n16                       Problem when making payments    620   \n17   Unable to get your credit report or credit score    616   \n18                         Managing the loan or lease    606   \n19                               Closing your account    527   \n20                                 Opening an account    524   \n21  Credit monitoring or identity theft protection...    461   \n22             Problem caused by your funds being low    458   \n23           Problems at the end of the loan or lease    408   \n24                              Communication tactics    391   \n25               Dealing with your lender or servicer    389   \n26                            Trouble using your card    363   \n27  Advertising and marketing, including promotion...    321   \n28                         Struggling to pay mortgage    288   \n29                        Struggling to pay your loan    235   \n30                            Getting a loan or lease    212   \n31                Problem with a purchase or transfer    141   \n32  Applying for a mortgage or refinancing an exis...    138   \n33                             Trouble using the card    126   \n34       Problem getting a card or closing an account     95   \n35  Problem with a company's investigation into an...     87   \n36  Threatened to contact someone or share informa...     87   \n37                        Struggling to pay your bill     77   \n38                              Closing on a mortgage     76   \n39                      Struggling to repay your loan     64   \n40                                       Repossession     61   \n41  Identity theft protection or other monitoring ...     45   \n42                          Electronic communications     19   \n43                                        Advertising     15   \n44                                     Getting a loan      9   \n45                             Problem with overdraft      4   \n46                 Issue where my lender is my school      1   \n47                  Issue with income share agreement      1   \n\n    cumulative_count  percentage  \n0              13710   24.515414  \n1              23182   16.937272  \n2              30104   12.377512  \n3              34305    7.511981  \n4              37260    5.283957  \n5              39732    4.420285  \n6              41050    2.356770  \n7              42026    1.745226  \n8              42974    1.695158  \n9              43875    1.611115  \n10             44758    1.578929  \n11             45638    1.573564  \n12             46421    1.400114  \n13             47120    1.249911  \n14             47805    1.224877  \n15             48459    1.169444  \n16             49079    1.108647  \n17             49695    1.101495  \n18             50301    1.083613  \n19             50828    0.942350  \n20             51352    0.936986  \n21             51813    0.824333  \n22             52271    0.818969  \n23             52679    0.729562  \n24             53070    0.699163  \n25             53459    0.695587  \n26             53822    0.649095  \n27             54143    0.573993  \n28             54431    0.514985  \n29             54666    0.420213  \n30             54878    0.379086  \n31             55019    0.252128  \n32             55157    0.246763  \n33             55283    0.225306  \n34             55378    0.169873  \n35             55465    0.155568  \n36             55552    0.155568  \n37             55629    0.137687  \n38             55705    0.135899  \n39             55769    0.114441  \n40             55830    0.109077  \n41             55875    0.080466  \n42             55894    0.033975  \n43             55909    0.026822  \n44             55918    0.016093  \n45             55922    0.007153  \n46             55923    0.001788  \n47             55924    0.001788  ",
      "text/html": "<div>\n<style scoped>\n    .dataframe tbody tr th:only-of-type {\n        vertical-align: middle;\n    }\n\n    .dataframe tbody tr th {\n        vertical-align: top;\n    }\n\n    .dataframe thead th {\n        text-align: right;\n    }\n</style>\n<table border=\"1\" class=\"dataframe\">\n  <thead>\n    <tr style=\"text-align: right;\">\n      <th></th>\n      <th>Issue</th>\n      <th>count</th>\n      <th>cumulative_count</th>\n      <th>percentage</th>\n    </tr>\n  </thead>\n  <tbody>\n    <tr>\n      <th>0</th>\n      <td>Incorrect information on your report</td>\n      <td>13710</td>\n      <td>13710</td>\n      <td>24.515414</td>\n    </tr>\n    <tr>\n      <th>1</th>\n      <td>Improper use of your report</td>\n      <td>9472</td>\n      <td>23182</td>\n      <td>16.937272</td>\n    </tr>\n    <tr>\n      <th>2</th>\n      <td>Problem with a credit reporting company's inve...</td>\n      <td>6922</td>\n      <td>30104</td>\n      <td>12.377512</td>\n    </tr>\n    <tr>\n      <th>3</th>\n      <td>Managing an account</td>\n      <td>4201</td>\n      <td>34305</td>\n      <td>7.511981</td>\n    </tr>\n    <tr>\n      <th>4</th>\n      <td>Attempts to collect debt not owed</td>\n      <td>2955</td>\n      <td>37260</td>\n      <td>5.283957</td>\n    </tr>\n    <tr>\n      <th>5</th>\n      <td>Problem with a purchase shown on your statement</td>\n      <td>2472</td>\n      <td>39732</td>\n      <td>4.420285</td>\n    </tr>\n    <tr>\n      <th>6</th>\n      <td>Problem with a company's investigation into an...</td>\n      <td>1318</td>\n      <td>41050</td>\n      <td>2.356770</td>\n    </tr>\n    <tr>\n      <th>7</th>\n      <td>Problem with a lender or other company chargin...</td>\n      <td>976</td>\n      <td>42026</td>\n      <td>1.745226</td>\n    </tr>\n    <tr>\n      <th>8</th>\n      <td>Closing an account</td>\n      <td>948</td>\n      <td>42974</td>\n      <td>1.695158</td>\n    </tr>\n    <tr>\n      <th>9</th>\n      <td>Written notification about debt</td>\n      <td>901</td>\n      <td>43875</td>\n      <td>1.611115</td>\n    </tr>\n    <tr>\n      <th>10</th>\n      <td>Other features, terms, or problems</td>\n      <td>883</td>\n      <td>44758</td>\n      <td>1.578929</td>\n    </tr>\n    <tr>\n      <th>11</th>\n      <td>Fees or interest</td>\n      <td>880</td>\n      <td>45638</td>\n      <td>1.573564</td>\n    </tr>\n    <tr>\n      <th>12</th>\n      <td>Getting a credit card</td>\n      <td>783</td>\n      <td>46421</td>\n      <td>1.400114</td>\n    </tr>\n    <tr>\n      <th>13</th>\n      <td>Trouble during payment process</td>\n      <td>699</td>\n      <td>47120</td>\n      <td>1.249911</td>\n    </tr>\n    <tr>\n      <th>14</th>\n      <td>Took or threatened to take negative or legal a...</td>\n      <td>685</td>\n      <td>47805</td>\n      <td>1.224877</td>\n    </tr>\n    <tr>\n      <th>15</th>\n      <td>False statements or representation</td>\n      <td>654</td>\n      <td>48459</td>\n      <td>1.169444</td>\n    </tr>\n    <tr>\n      <th>16</th>\n      <td>Problem when making payments</td>\n      <td>620</td>\n      <td>49079</td>\n      <td>1.108647</td>\n    </tr>\n    <tr>\n      <th>17</th>\n      <td>Unable to get your credit report or credit score</td>\n      <td>616</td>\n      <td>49695</td>\n      <td>1.101495</td>\n    </tr>\n    <tr>\n      <th>18</th>\n      <td>Managing the loan or lease</td>\n      <td>606</td>\n      <td>50301</td>\n      <td>1.083613</td>\n    </tr>\n    <tr>\n      <th>19</th>\n      <td>Closing your account</td>\n      <td>527</td>\n      <td>50828</td>\n      <td>0.942350</td>\n    </tr>\n    <tr>\n      <th>20</th>\n      <td>Opening an account</td>\n      <td>524</td>\n      <td>51352</td>\n      <td>0.936986</td>\n    </tr>\n    <tr>\n      <th>21</th>\n      <td>Credit monitoring or identity theft protection...</td>\n      <td>461</td>\n      <td>51813</td>\n      <td>0.824333</td>\n    </tr>\n    <tr>\n      <th>22</th>\n      <td>Problem caused by your funds being low</td>\n      <td>458</td>\n      <td>52271</td>\n      <td>0.818969</td>\n    </tr>\n    <tr>\n      <th>23</th>\n      <td>Problems at the end of the loan or lease</td>\n      <td>408</td>\n      <td>52679</td>\n      <td>0.729562</td>\n    </tr>\n    <tr>\n      <th>24</th>\n      <td>Communication tactics</td>\n      <td>391</td>\n      <td>53070</td>\n      <td>0.699163</td>\n    </tr>\n    <tr>\n      <th>25</th>\n      <td>Dealing with your lender or servicer</td>\n      <td>389</td>\n      <td>53459</td>\n      <td>0.695587</td>\n    </tr>\n    <tr>\n      <th>26</th>\n      <td>Trouble using your card</td>\n      <td>363</td>\n      <td>53822</td>\n      <td>0.649095</td>\n    </tr>\n    <tr>\n      <th>27</th>\n      <td>Advertising and marketing, including promotion...</td>\n      <td>321</td>\n      <td>54143</td>\n      <td>0.573993</td>\n    </tr>\n    <tr>\n      <th>28</th>\n      <td>Struggling to pay mortgage</td>\n      <td>288</td>\n      <td>54431</td>\n      <td>0.514985</td>\n    </tr>\n    <tr>\n      <th>29</th>\n      <td>Struggling to pay your loan</td>\n      <td>235</td>\n      <td>54666</td>\n      <td>0.420213</td>\n    </tr>\n    <tr>\n      <th>30</th>\n      <td>Getting a loan or lease</td>\n      <td>212</td>\n      <td>54878</td>\n      <td>0.379086</td>\n    </tr>\n    <tr>\n      <th>31</th>\n      <td>Problem with a purchase or transfer</td>\n      <td>141</td>\n      <td>55019</td>\n      <td>0.252128</td>\n    </tr>\n    <tr>\n      <th>32</th>\n      <td>Applying for a mortgage or refinancing an exis...</td>\n      <td>138</td>\n      <td>55157</td>\n      <td>0.246763</td>\n    </tr>\n    <tr>\n      <th>33</th>\n      <td>Trouble using the card</td>\n      <td>126</td>\n      <td>55283</td>\n      <td>0.225306</td>\n    </tr>\n    <tr>\n      <th>34</th>\n      <td>Problem getting a card or closing an account</td>\n      <td>95</td>\n      <td>55378</td>\n      <td>0.169873</td>\n    </tr>\n    <tr>\n      <th>35</th>\n      <td>Problem with a company's investigation into an...</td>\n      <td>87</td>\n      <td>55465</td>\n      <td>0.155568</td>\n    </tr>\n    <tr>\n      <th>36</th>\n      <td>Threatened to contact someone or share informa...</td>\n      <td>87</td>\n      <td>55552</td>\n      <td>0.155568</td>\n    </tr>\n    <tr>\n      <th>37</th>\n      <td>Struggling to pay your bill</td>\n      <td>77</td>\n      <td>55629</td>\n      <td>0.137687</td>\n    </tr>\n    <tr>\n      <th>38</th>\n      <td>Closing on a mortgage</td>\n      <td>76</td>\n      <td>55705</td>\n      <td>0.135899</td>\n    </tr>\n    <tr>\n      <th>39</th>\n      <td>Struggling to repay your loan</td>\n      <td>64</td>\n      <td>55769</td>\n      <td>0.114441</td>\n    </tr>\n    <tr>\n      <th>40</th>\n      <td>Repossession</td>\n      <td>61</td>\n      <td>55830</td>\n      <td>0.109077</td>\n    </tr>\n    <tr>\n      <th>41</th>\n      <td>Identity theft protection or other monitoring ...</td>\n      <td>45</td>\n      <td>55875</td>\n      <td>0.080466</td>\n    </tr>\n    <tr>\n      <th>42</th>\n      <td>Electronic communications</td>\n      <td>19</td>\n      <td>55894</td>\n      <td>0.033975</td>\n    </tr>\n    <tr>\n      <th>43</th>\n      <td>Advertising</td>\n      <td>15</td>\n      <td>55909</td>\n      <td>0.026822</td>\n    </tr>\n    <tr>\n      <th>44</th>\n      <td>Getting a loan</td>\n      <td>9</td>\n      <td>55918</td>\n      <td>0.016093</td>\n    </tr>\n    <tr>\n      <th>45</th>\n      <td>Problem with overdraft</td>\n      <td>4</td>\n      <td>55922</td>\n      <td>0.007153</td>\n    </tr>\n    <tr>\n      <th>46</th>\n      <td>Issue where my lender is my school</td>\n      <td>1</td>\n      <td>55923</td>\n      <td>0.001788</td>\n    </tr>\n    <tr>\n      <th>47</th>\n      <td>Issue with income share agreement</td>\n      <td>1</td>\n      <td>55924</td>\n      <td>0.001788</td>\n    </tr>\n  </tbody>\n</table>\n</div>"
     },
     "execution_count": 206,
     "metadata": {},
     "output_type": "execute_result"
    }
   ],
   "source": [
    "df_value_counts_issue = df2['Issue'].value_counts().reset_index()\n",
    "# Rename columns\n",
    "df_value_counts_issue.columns = ['Issue', 'count']\n",
    "\n",
    "# Cumulative sum\n",
    "df_value_counts_issue['cumulative_count'] = df_value_counts_issue['count'].cumsum()\n",
    "# Calculate percentage\n",
    "total_counts = df_value_counts_issue['count'].sum()\n",
    "df_value_counts_issue['percentage'] = (df_value_counts_issue['count'] / total_counts) * 100\n",
    "\n",
    "# Display the new DataFrame\n",
    "df_value_counts_issue"
   ],
   "metadata": {
    "collapsed": false,
    "ExecuteTime": {
     "end_time": "2024-04-28T23:01:04.933045Z",
     "start_time": "2024-04-28T23:01:04.499275Z"
    }
   },
   "id": "31f5100af40badec",
   "execution_count": 206
  },
  {
   "cell_type": "code",
   "outputs": [
    {
     "data": {
      "text/plain": "                                             Sub-issue  count  \\\n0        Reporting company used your report improperly   7021   \n1    Their investigation did not fix an error on yo...   5301   \n2                  Information belongs to someone else   4146   \n3                        Account information incorrect   3768   \n4                             Account status incorrect   3003   \n..                                                 ...    ...   \n197                 Issues with financial aid services      1   \n198  Threatened to turn you in to immigration or de...      1   \n199                          Did not receive car title      1   \n200  Cannot graduate, receive diploma, or get trans...      1   \n201                               Filed for bankruptcy      1   \n\n     cumulative_count  percentage  \n0                7021   12.554538  \n1               12322    9.478936  \n2               16468    7.413633  \n3               20236    6.737715  \n4               23239    5.369788  \n..                ...         ...  \n197             55920    0.001788  \n198             55921    0.001788  \n199             55922    0.001788  \n200             55923    0.001788  \n201             55924    0.001788  \n\n[202 rows x 4 columns]",
      "text/html": "<div>\n<style scoped>\n    .dataframe tbody tr th:only-of-type {\n        vertical-align: middle;\n    }\n\n    .dataframe tbody tr th {\n        vertical-align: top;\n    }\n\n    .dataframe thead th {\n        text-align: right;\n    }\n</style>\n<table border=\"1\" class=\"dataframe\">\n  <thead>\n    <tr style=\"text-align: right;\">\n      <th></th>\n      <th>Sub-issue</th>\n      <th>count</th>\n      <th>cumulative_count</th>\n      <th>percentage</th>\n    </tr>\n  </thead>\n  <tbody>\n    <tr>\n      <th>0</th>\n      <td>Reporting company used your report improperly</td>\n      <td>7021</td>\n      <td>7021</td>\n      <td>12.554538</td>\n    </tr>\n    <tr>\n      <th>1</th>\n      <td>Their investigation did not fix an error on yo...</td>\n      <td>5301</td>\n      <td>12322</td>\n      <td>9.478936</td>\n    </tr>\n    <tr>\n      <th>2</th>\n      <td>Information belongs to someone else</td>\n      <td>4146</td>\n      <td>16468</td>\n      <td>7.413633</td>\n    </tr>\n    <tr>\n      <th>3</th>\n      <td>Account information incorrect</td>\n      <td>3768</td>\n      <td>20236</td>\n      <td>6.737715</td>\n    </tr>\n    <tr>\n      <th>4</th>\n      <td>Account status incorrect</td>\n      <td>3003</td>\n      <td>23239</td>\n      <td>5.369788</td>\n    </tr>\n    <tr>\n      <th>...</th>\n      <td>...</td>\n      <td>...</td>\n      <td>...</td>\n      <td>...</td>\n    </tr>\n    <tr>\n      <th>197</th>\n      <td>Issues with financial aid services</td>\n      <td>1</td>\n      <td>55920</td>\n      <td>0.001788</td>\n    </tr>\n    <tr>\n      <th>198</th>\n      <td>Threatened to turn you in to immigration or de...</td>\n      <td>1</td>\n      <td>55921</td>\n      <td>0.001788</td>\n    </tr>\n    <tr>\n      <th>199</th>\n      <td>Did not receive car title</td>\n      <td>1</td>\n      <td>55922</td>\n      <td>0.001788</td>\n    </tr>\n    <tr>\n      <th>200</th>\n      <td>Cannot graduate, receive diploma, or get trans...</td>\n      <td>1</td>\n      <td>55923</td>\n      <td>0.001788</td>\n    </tr>\n    <tr>\n      <th>201</th>\n      <td>Filed for bankruptcy</td>\n      <td>1</td>\n      <td>55924</td>\n      <td>0.001788</td>\n    </tr>\n  </tbody>\n</table>\n<p>202 rows × 4 columns</p>\n</div>"
     },
     "execution_count": 207,
     "metadata": {},
     "output_type": "execute_result"
    }
   ],
   "source": [
    "df_value_counts_subissue = df2['Sub-issue'].value_counts().reset_index()\n",
    "# Rename columns\n",
    "df_value_counts_subissue.columns = ['Sub-issue', 'count']\n",
    "\n",
    "# Cumulative sum\n",
    "df_value_counts_subissue['cumulative_count'] = df_value_counts_subissue['count'].cumsum()\n",
    "# Calculate percentage\n",
    "total_counts = df_value_counts_subissue['count'].sum()\n",
    "df_value_counts_subissue['percentage'] = (df_value_counts_subissue['count'] / total_counts) * 100\n",
    "\n",
    "# Display the new DataFrame\n",
    "df_value_counts_subissue"
   ],
   "metadata": {
    "collapsed": false,
    "ExecuteTime": {
     "end_time": "2024-04-28T23:01:42.419632Z",
     "start_time": "2024-04-28T23:01:42.248058Z"
    }
   },
   "id": "3f876ab92d9289d4",
   "execution_count": 207
  },
  {
   "cell_type": "code",
   "outputs": [],
   "source": [
    "# Identifying the top issue per product category -> top means the most occuring\n",
    "top_issues_by_product = df2.groupby('Product')['Issue'].value_counts().groupby(level=0).nlargest(3)\n"
   ],
   "metadata": {
    "collapsed": false,
    "ExecuteTime": {
     "end_time": "2024-04-28T23:05:16.015456Z",
     "start_time": "2024-04-28T23:05:15.983905Z"
    }
   },
   "id": "7e0b47cc05f5ab20",
   "execution_count": 210
  },
  {
   "cell_type": "code",
   "outputs": [
    {
     "data": {
      "text/plain": "Product                      Product                      Issue                                                                           \nChecking or savings account  Checking or savings account  Managing an account                                                                  4201\n                                                          Problem with a lender or other company charging your account                          976\n                                                          Closing an account                                                                    948\nCredit card or prepaid card  Credit card or prepaid card  Problem with a purchase shown on your statement                                      2471\n                                                          Other features, terms, or problems                                                    883\n                                                          Fees or interest                                                                      880\nCredit reporting             Credit reporting             Incorrect information on your report                                                13333\n                                                          Improper use of your report                                                          9393\n                                                          Problem with a credit reporting company's investigation into an existing problem     6813\nDebt collection              Debt collection              Attempts to collect debt not owed                                                    2955\n                                                          Written notification about debt                                                       901\n                                                          Took or threatened to take negative or legal action                                   685\nLoan                         Loan                         Managing the loan or lease                                                            606\n                                                          Problems at the end of the loan or lease                                              408\n                                                          Dealing with your lender or servicer                                                  389\nMortgage                     Mortgage                     Trouble during payment process                                                        699\n                                                          Struggling to pay mortgage                                                            288\n                                                          Applying for a mortgage or refinancing an existing mortgage                           138\nName: count, dtype: int64"
     },
     "execution_count": 211,
     "metadata": {},
     "output_type": "execute_result"
    }
   ],
   "source": [
    "top_issues_by_product"
   ],
   "metadata": {
    "collapsed": false,
    "ExecuteTime": {
     "end_time": "2024-04-28T23:05:17.363629Z",
     "start_time": "2024-04-28T23:05:17.353454Z"
    }
   },
   "id": "8cc2677c345eafb1",
   "execution_count": 211
  },
  {
   "cell_type": "code",
   "outputs": [],
   "source": [],
   "metadata": {
    "collapsed": false
   },
   "id": "75c39be61c42ca94"
  }
 ],
 "metadata": {
  "kernelspec": {
   "display_name": "Python 3",
   "language": "python",
   "name": "python3"
  },
  "language_info": {
   "codemirror_mode": {
    "name": "ipython",
    "version": 2
   },
   "file_extension": ".py",
   "mimetype": "text/x-python",
   "name": "python",
   "nbconvert_exporter": "python",
   "pygments_lexer": "ipython2",
   "version": "2.7.6"
  }
 },
 "nbformat": 4,
 "nbformat_minor": 5
}
