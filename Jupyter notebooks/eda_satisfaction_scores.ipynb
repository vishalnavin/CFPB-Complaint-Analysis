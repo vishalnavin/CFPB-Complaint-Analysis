{
 "cells": [
  {
   "cell_type": "code",
   "execution_count": 1,
   "id": "initial_id",
   "metadata": {
    "collapsed": true,
    "ExecuteTime": {
     "end_time": "2024-04-29T00:52:52.510061Z",
     "start_time": "2024-04-29T00:52:51.434879Z"
    }
   },
   "outputs": [],
   "source": [
    "import pandas as pd\n",
    "import plotly.express as px\n"
   ]
  },
  {
   "cell_type": "code",
   "outputs": [],
   "source": [
    "df = pd.read_csv('satisfaction_scores.csv')"
   ],
   "metadata": {
    "collapsed": false,
    "ExecuteTime": {
     "end_time": "2024-04-29T00:53:02.330682Z",
     "start_time": "2024-04-29T00:53:00.810569Z"
    }
   },
   "id": "353960f32089562f",
   "execution_count": 2
  },
  {
   "cell_type": "code",
   "outputs": [
    {
     "name": "stdout",
     "output_type": "stream",
     "text": [
      "<class 'pandas.core.frame.DataFrame'>\n",
      "RangeIndex: 55499 entries, 0 to 55498\n",
      "Data columns (total 26 columns):\n",
      " #   Column                               Non-Null Count  Dtype  \n",
      "---  ------                               --------------  -----  \n",
      " 0   Unnamed: 0                           55499 non-null  int64  \n",
      " 1   Date received                        55499 non-null  object \n",
      " 2   Product                              55499 non-null  object \n",
      " 3   Sub-product                          55499 non-null  object \n",
      " 4   Issue                                55499 non-null  object \n",
      " 5   Sub-issue                            55499 non-null  object \n",
      " 6   Consumer complaint narrative         55499 non-null  object \n",
      " 7   Company public response              55499 non-null  object \n",
      " 8   Company                              55499 non-null  object \n",
      " 9   State                                55499 non-null  object \n",
      " 10  ZIP code                             55499 non-null  object \n",
      " 11  Tags                                 55499 non-null  object \n",
      " 12  Consumer consent provided?           55499 non-null  object \n",
      " 13  Date sent to company                 55499 non-null  object \n",
      " 14  Company response to consumer         55499 non-null  object \n",
      " 15  Timely response?                     55499 non-null  object \n",
      " 16  Consumer disputed?                   0 non-null      float64\n",
      " 17  Complaint ID                         55499 non-null  int64  \n",
      " 18  combined_text                        55499 non-null  object \n",
      " 19  sentiment                            55499 non-null  float64\n",
      " 20  sentiment_category                   55499 non-null  object \n",
      " 21  company_public_response_sentiment    55499 non-null  float64\n",
      " 22  company_consumer_response_sentiment  55499 non-null  float64\n",
      " 23  response_to_consumer_score           55499 non-null  int64  \n",
      " 24  timely_response_score                55499 non-null  int64  \n",
      " 25  satisfaction_score                   55499 non-null  float64\n",
      "dtypes: float64(5), int64(4), object(17)\n",
      "memory usage: 11.0+ MB\n"
     ]
    }
   ],
   "source": [
    "df.info()"
   ],
   "metadata": {
    "collapsed": false,
    "ExecuteTime": {
     "end_time": "2024-04-29T00:53:07.174534Z",
     "start_time": "2024-04-29T00:53:07.023079Z"
    }
   },
   "id": "ccd25f53882ea10",
   "execution_count": 3
  },
  {
   "cell_type": "code",
   "outputs": [
    {
     "data": {
      "text/plain": "   Unnamed: 0 Date received                      Product  \\\n0           0    18/02/2024             Credit reporting   \n1           1    22/01/2024  Checking or savings account   \n2           2    09/02/2024             Credit reporting   \n3           3    05/04/2024  Credit card or prepaid card   \n4           4    18/02/2024             Credit reporting   \n\n                                  Sub-product  \\\n0                            Credit reporting   \n1                             Savings account   \n2                            Credit reporting   \n3  General-purpose credit card or charge card   \n4                            Credit reporting   \n\n                                               Issue  \\\n0               Incorrect information on your report   \n1             Problem caused by your funds being low   \n2               Incorrect information on your report   \n3                                   Fees or interest   \n4  Credit monitoring or identity theft protection...   \n\n                                        Sub-issue  \\\n0             Information belongs to someone else   \n1        Non-sufficient funds and associated fees   \n2                        Account status incorrect   \n3                               Problem with fees   \n4  Problem with product or service terms changing   \n\n                        Consumer complaint narrative  \\\n0  I recently reviewed a copy of my credit report...   \n1  I have had the Wells Fargo Bank for more than ...   \n2  A company called XXXX XXXX reported a delinque...   \n3  I was charged a late fee in XX/XX/2024 of {$29...   \n4  I have written before to the credit bureau abo...   \n\n                             Company public response  \\\n0  Company has responded to the consumer and the ...   \n1  Company has responded to the consumer and the ...   \n2  Company has responded to the consumer and the ...   \n3  Company has responded to the consumer and the ...   \n4  Company has responded to the consumer and the ...   \n\n                               Company State  ... Consumer disputed?  \\\n0  Experian Information Solutions Inc.    TX  ...                NaN   \n1                WELLS FARGO & COMPANY    NC  ...                NaN   \n2  Experian Information Solutions Inc.    VA  ...                NaN   \n3                WELLS FARGO & COMPANY    PA  ...                NaN   \n4  Experian Information Solutions Inc.    DE  ...                NaN   \n\n  Complaint ID                                      combined_text sentiment  \\\n0      8370453  I recently reviewed a copy of my credit report...  0.000000   \n1      8203156  I have had the Wells Fargo Bank for more than ...  0.000000   \n2      8314624  A company called XXXX XXXX reported a delinque...  0.000000   \n3      8706247  I was charged a late fee in XX/XX/2024 of {$29... -0.071053   \n4      8364886  I have written before to the credit bureau abo... -0.187500   \n\n  sentiment_category company_public_response_sentiment  \\\n0            Neutral                               0.0   \n1            Neutral                               0.0   \n2            Neutral                               0.0   \n3           Negative                               0.0   \n4           Negative                               0.0   \n\n   company_consumer_response_sentiment  response_to_consumer_score  \\\n0                                 -0.1                           0   \n1                                 -0.1                           0   \n2                                 -0.1                           0   \n3                                 -0.1                           1   \n4                                 -0.1                           0   \n\n  timely_response_score  satisfaction_score  \n0                     1            0.300000  \n1                     1            0.300000  \n2                     1            0.300000  \n3                     1            0.421579  \n4                     1            0.225000  \n\n[5 rows x 26 columns]",
      "text/html": "<div>\n<style scoped>\n    .dataframe tbody tr th:only-of-type {\n        vertical-align: middle;\n    }\n\n    .dataframe tbody tr th {\n        vertical-align: top;\n    }\n\n    .dataframe thead th {\n        text-align: right;\n    }\n</style>\n<table border=\"1\" class=\"dataframe\">\n  <thead>\n    <tr style=\"text-align: right;\">\n      <th></th>\n      <th>Unnamed: 0</th>\n      <th>Date received</th>\n      <th>Product</th>\n      <th>Sub-product</th>\n      <th>Issue</th>\n      <th>Sub-issue</th>\n      <th>Consumer complaint narrative</th>\n      <th>Company public response</th>\n      <th>Company</th>\n      <th>State</th>\n      <th>...</th>\n      <th>Consumer disputed?</th>\n      <th>Complaint ID</th>\n      <th>combined_text</th>\n      <th>sentiment</th>\n      <th>sentiment_category</th>\n      <th>company_public_response_sentiment</th>\n      <th>company_consumer_response_sentiment</th>\n      <th>response_to_consumer_score</th>\n      <th>timely_response_score</th>\n      <th>satisfaction_score</th>\n    </tr>\n  </thead>\n  <tbody>\n    <tr>\n      <th>0</th>\n      <td>0</td>\n      <td>18/02/2024</td>\n      <td>Credit reporting</td>\n      <td>Credit reporting</td>\n      <td>Incorrect information on your report</td>\n      <td>Information belongs to someone else</td>\n      <td>I recently reviewed a copy of my credit report...</td>\n      <td>Company has responded to the consumer and the ...</td>\n      <td>Experian Information Solutions Inc.</td>\n      <td>TX</td>\n      <td>...</td>\n      <td>NaN</td>\n      <td>8370453</td>\n      <td>I recently reviewed a copy of my credit report...</td>\n      <td>0.000000</td>\n      <td>Neutral</td>\n      <td>0.0</td>\n      <td>-0.1</td>\n      <td>0</td>\n      <td>1</td>\n      <td>0.300000</td>\n    </tr>\n    <tr>\n      <th>1</th>\n      <td>1</td>\n      <td>22/01/2024</td>\n      <td>Checking or savings account</td>\n      <td>Savings account</td>\n      <td>Problem caused by your funds being low</td>\n      <td>Non-sufficient funds and associated fees</td>\n      <td>I have had the Wells Fargo Bank for more than ...</td>\n      <td>Company has responded to the consumer and the ...</td>\n      <td>WELLS FARGO &amp; COMPANY</td>\n      <td>NC</td>\n      <td>...</td>\n      <td>NaN</td>\n      <td>8203156</td>\n      <td>I have had the Wells Fargo Bank for more than ...</td>\n      <td>0.000000</td>\n      <td>Neutral</td>\n      <td>0.0</td>\n      <td>-0.1</td>\n      <td>0</td>\n      <td>1</td>\n      <td>0.300000</td>\n    </tr>\n    <tr>\n      <th>2</th>\n      <td>2</td>\n      <td>09/02/2024</td>\n      <td>Credit reporting</td>\n      <td>Credit reporting</td>\n      <td>Incorrect information on your report</td>\n      <td>Account status incorrect</td>\n      <td>A company called XXXX XXXX reported a delinque...</td>\n      <td>Company has responded to the consumer and the ...</td>\n      <td>Experian Information Solutions Inc.</td>\n      <td>VA</td>\n      <td>...</td>\n      <td>NaN</td>\n      <td>8314624</td>\n      <td>A company called XXXX XXXX reported a delinque...</td>\n      <td>0.000000</td>\n      <td>Neutral</td>\n      <td>0.0</td>\n      <td>-0.1</td>\n      <td>0</td>\n      <td>1</td>\n      <td>0.300000</td>\n    </tr>\n    <tr>\n      <th>3</th>\n      <td>3</td>\n      <td>05/04/2024</td>\n      <td>Credit card or prepaid card</td>\n      <td>General-purpose credit card or charge card</td>\n      <td>Fees or interest</td>\n      <td>Problem with fees</td>\n      <td>I was charged a late fee in XX/XX/2024 of {$29...</td>\n      <td>Company has responded to the consumer and the ...</td>\n      <td>WELLS FARGO &amp; COMPANY</td>\n      <td>PA</td>\n      <td>...</td>\n      <td>NaN</td>\n      <td>8706247</td>\n      <td>I was charged a late fee in XX/XX/2024 of {$29...</td>\n      <td>-0.071053</td>\n      <td>Negative</td>\n      <td>0.0</td>\n      <td>-0.1</td>\n      <td>1</td>\n      <td>1</td>\n      <td>0.421579</td>\n    </tr>\n    <tr>\n      <th>4</th>\n      <td>4</td>\n      <td>18/02/2024</td>\n      <td>Credit reporting</td>\n      <td>Credit reporting</td>\n      <td>Credit monitoring or identity theft protection...</td>\n      <td>Problem with product or service terms changing</td>\n      <td>I have written before to the credit bureau abo...</td>\n      <td>Company has responded to the consumer and the ...</td>\n      <td>Experian Information Solutions Inc.</td>\n      <td>DE</td>\n      <td>...</td>\n      <td>NaN</td>\n      <td>8364886</td>\n      <td>I have written before to the credit bureau abo...</td>\n      <td>-0.187500</td>\n      <td>Negative</td>\n      <td>0.0</td>\n      <td>-0.1</td>\n      <td>0</td>\n      <td>1</td>\n      <td>0.225000</td>\n    </tr>\n  </tbody>\n</table>\n<p>5 rows × 26 columns</p>\n</div>"
     },
     "execution_count": 4,
     "metadata": {},
     "output_type": "execute_result"
    }
   ],
   "source": [
    "df.head()"
   ],
   "metadata": {
    "collapsed": false,
    "ExecuteTime": {
     "end_time": "2024-04-29T00:53:10.902772Z",
     "start_time": "2024-04-29T00:53:10.856743Z"
    }
   },
   "id": "d80df231f6d77734",
   "execution_count": 4
  },
  {
   "cell_type": "code",
   "outputs": [
    {
     "name": "stdout",
     "output_type": "stream",
     "text": [
      "0          experianinformationsolutionsinc\n",
      "1                        wellsfargocompany\n",
      "2          experianinformationsolutionsinc\n",
      "3                        wellsfargocompany\n",
      "4          experianinformationsolutionsinc\n",
      "                       ...                \n",
      "55494           truistfinancialcorporation\n",
      "55495    transunionintermediateholdingsinc\n",
      "55496          blakelywittandassociatesinc\n",
      "55497    transunionintermediateholdingsinc\n",
      "55498                         corelogicinc\n",
      "Name: Company, Length: 55499, dtype: object\n"
     ]
    }
   ],
   "source": [
    "#Cleaning the company texts and combining any redundant ones\n",
    "import re\n",
    "\n",
    "# Define a function to clean the text\n",
    "def clean_text(text):\n",
    "    # Convert to lowercase\n",
    "    text = text.lower()\n",
    "    # Remove special characters\n",
    "    text = re.sub(r'[^a-zA-Z0-9\\s]', ' ', text)\n",
    "    text = text.replace(\" \", \"\")\n",
    "    # Strip whitespace\n",
    "    text = text.strip()\n",
    "    return text\n",
    "\n",
    "# Apply the clean_text function to the 'Original_Column' and store the cleaned values in 'New_Column'\n",
    "df['Company'] = df['Company'].apply(clean_text)\n",
    "print(df['Company'])"
   ],
   "metadata": {
    "collapsed": false,
    "ExecuteTime": {
     "end_time": "2024-04-29T01:02:48.476117Z",
     "start_time": "2024-04-29T01:02:48.256625Z"
    }
   },
   "id": "9dbf8799b563c7fc",
   "execution_count": 13
  },
  {
   "cell_type": "code",
   "outputs": [
    {
     "data": {
      "text/plain": "count    55499.000000\nmean         0.326298\nstd          0.082208\nmin         -0.160000\n25%          0.283333\n50%          0.312963\n75%          0.368571\nmax          0.850000\nName: satisfaction_score, dtype: float64"
     },
     "execution_count": 14,
     "metadata": {},
     "output_type": "execute_result"
    }
   ],
   "source": [
    "df['satisfaction_score'].describe()"
   ],
   "metadata": {
    "collapsed": false,
    "ExecuteTime": {
     "end_time": "2024-04-29T01:02:51.827173Z",
     "start_time": "2024-04-29T01:02:51.801256Z"
    }
   },
   "id": "9b22c894bd9b5f79",
   "execution_count": 14
  },
  {
   "cell_type": "code",
   "outputs": [
    {
     "data": {
      "text/plain": "Product                      Product                      Issue                                                                           \nChecking or savings account  Checking or savings account  Managing an account                                                                  4171\n                                                          Problem with a lender or other company charging your account                          970\n                                                          Closing an account                                                                    937\nCredit card or prepaid card  Credit card or prepaid card  Problem with a purchase shown on your statement                                      2452\n                                                          Other features, terms, or problems                                                    875\n                                                          Fees or interest                                                                      870\nCredit reporting             Credit reporting             Incorrect information on your report                                                13234\n                                                          Improper use of your report                                                          9325\n                                                          Problem with a credit reporting company's investigation into an existing problem     6813\nDebt collection              Debt collection              Attempts to collect debt not owed                                                    2936\n                                                          Written notification about debt                                                       896\n                                                          Took or threatened to take negative or legal action                                   684\nLoan                         Loan                         Managing the loan or lease                                                            601\n                                                          Problems at the end of the loan or lease                                              406\n                                                          Dealing with your lender or servicer                                                  376\nMortgage                     Mortgage                     Trouble during payment process                                                        676\n                                                          Struggling to pay mortgage                                                            283\n                                                          Applying for a mortgage or refinancing an existing mortgage                           131\nName: count, dtype: int64"
     },
     "execution_count": 7,
     "metadata": {},
     "output_type": "execute_result"
    }
   ],
   "source": [
    "# Identifying the top issue per product category -> top means the most occuring\n",
    "top_issues_by_product = df.groupby('Product')['Issue'].value_counts().groupby(level=0).nlargest(3)\n",
    "top_issues_by_product"
   ],
   "metadata": {
    "collapsed": false,
    "ExecuteTime": {
     "end_time": "2024-04-29T00:55:21.044603Z",
     "start_time": "2024-04-29T00:55:20.997320Z"
    }
   },
   "id": "78253dc2647059ce",
   "execution_count": 7
  },
  {
   "cell_type": "code",
   "outputs": [
    {
     "data": {
      "text/plain": "       Unnamed: 0 Date received                      Product  \\\n0               0    18/02/2024             Credit reporting   \n1               1    22/01/2024  Checking or savings account   \n2               2    09/02/2024             Credit reporting   \n3               3    05/04/2024  Credit card or prepaid card   \n4               4    18/02/2024             Credit reporting   \n...           ...           ...                          ...   \n55491       55491    28/04/2021  Credit card or prepaid card   \n55492       55492    06/08/2022             Credit reporting   \n55493       55493    01/02/2021             Credit reporting   \n55495       55495    01/04/2021             Credit reporting   \n55497       55497    07/06/2021             Credit reporting   \n\n                                      Sub-product  \\\n0                                Credit reporting   \n1                                 Savings account   \n2                                Credit reporting   \n3      General-purpose credit card or charge card   \n4                                Credit reporting   \n...                                           ...   \n55491                     Government benefit card   \n55492                            Credit reporting   \n55493                            Credit reporting   \n55495                            Credit reporting   \n55497                            Credit reporting   \n\n                                                   Issue  \\\n0                   Incorrect information on your report   \n1                 Problem caused by your funds being low   \n2                   Incorrect information on your report   \n3                                       Fees or interest   \n4      Credit monitoring or identity theft protection...   \n...                                                  ...   \n55491                             Trouble using the card   \n55492  Problem with a credit reporting company's inve...   \n55493                        Improper use of your report   \n55495  Problem with a credit reporting company's inve...   \n55497               Incorrect information on your report   \n\n                                               Sub-issue  \\\n0                    Information belongs to someone else   \n1               Non-sufficient funds and associated fees   \n2                               Account status incorrect   \n3                                      Problem with fees   \n4         Problem with product or service terms changing   \n...                                                  ...   \n55491  Trouble using the card to spend money in a sto...   \n55492  Their investigation did not fix an error on yo...   \n55493  Credit inquiries on your report that you don't...   \n55495  Their investigation did not fix an error on yo...   \n55497                Information belongs to someone else   \n\n                            Consumer complaint narrative  \\\n0      I recently reviewed a copy of my credit report...   \n1      I have had the Wells Fargo Bank for more than ...   \n2      A company called XXXX XXXX reported a delinque...   \n3      I was charged a late fee in XX/XX/2024 of {$29...   \n4      I have written before to the credit bureau abo...   \n...                                                  ...   \n55491  My issue began XX/XX/2021 I made a reasonably ...   \n55492  Experian still reporting XXXX XXXX on Credit R...   \n55493  I have made several phone calls to the fraud d...   \n55495  This is yet my recurring complaint as Transuni...   \n55497  Noticed an account on my report that does not ...   \n\n                                 Company public response  \\\n0      Company has responded to the consumer and the ...   \n1      Company has responded to the consumer and the ...   \n2      Company has responded to the consumer and the ...   \n3      Company has responded to the consumer and the ...   \n4      Company has responded to the consumer and the ...   \n...                                                  ...   \n55491  Company has responded to the consumer and the ...   \n55492  Company has responded to the consumer and the ...   \n55493  Company has responded to the consumer and the ...   \n55495  Company has responded to the consumer and the ...   \n55497  Company has responded to the consumer and the ...   \n\n                                 Company State  ... Consumer disputed?  \\\n0        experianinformationsolutionsinc    TX  ...                NaN   \n1                      wellsfargocompany    NC  ...                NaN   \n2        experianinformationsolutionsinc    VA  ...                NaN   \n3                      wellsfargocompany    PA  ...                NaN   \n4        experianinformationsolutionsinc    DE  ...                NaN   \n...                                  ...   ...  ...                ...   \n55491   bankofamericanationalassociation    CA  ...                NaN   \n55492    experianinformationsolutionsinc    PA  ...                NaN   \n55493    experianinformationsolutionsinc    GA  ...                NaN   \n55495  transunionintermediateholdingsinc    FL  ...                NaN   \n55497  transunionintermediateholdingsinc    NJ  ...                NaN   \n\n      Complaint ID                                      combined_text  \\\n0          8370453  I recently reviewed a copy of my credit report...   \n1          8203156  I have had the Wells Fargo Bank for more than ...   \n2          8314624  A company called XXXX XXXX reported a delinque...   \n3          8706247  I was charged a late fee in XX/XX/2024 of {$29...   \n4          8364886  I have written before to the credit bureau abo...   \n...            ...                                                ...   \n55491      4333626  My issue began XX/XX/2021 I made a reasonably ...   \n55492      5851247  Experian still reporting XXXX XXXX on Credit R...   \n55493      4109240  I have made several phone calls to the fraud d...   \n55495      4262930  This is yet my recurring complaint as Transuni...   \n55497      4439371  Noticed an account on my report that does not ...   \n\n      sentiment sentiment_category company_public_response_sentiment  \\\n0      0.000000            Neutral                               0.0   \n1      0.000000            Neutral                               0.0   \n2      0.000000            Neutral                               0.0   \n3     -0.071053           Negative                               0.0   \n4     -0.187500           Negative                               0.0   \n...         ...                ...                               ...   \n55491  0.081425           Positive                               0.0   \n55492  0.000000            Neutral                               0.0   \n55493  0.000000            Neutral                               0.0   \n55495 -0.065296           Negative                               0.0   \n55497  0.000000            Neutral                               0.0   \n\n       company_consumer_response_sentiment  response_to_consumer_score  \\\n0                                     -0.1                           0   \n1                                     -0.1                           0   \n2                                     -0.1                           0   \n3                                     -0.1                           1   \n4                                     -0.1                           0   \n...                                    ...                         ...   \n55491                                 -0.1                           0   \n55492                                 -0.1                           0   \n55493                                 -0.1                           0   \n55495                                 -0.1                           0   \n55497                                 -0.1                           0   \n\n      timely_response_score  satisfaction_score  \n0                         1            0.300000  \n1                         1            0.300000  \n2                         1            0.300000  \n3                         1            0.421579  \n4                         1            0.225000  \n...                     ...                 ...  \n55491                     1            0.332570  \n55492                     1            0.300000  \n55493                     1            0.300000  \n55495                     1            0.273881  \n55497                     1            0.300000  \n\n[36354 rows x 26 columns]",
      "text/html": "<div>\n<style scoped>\n    .dataframe tbody tr th:only-of-type {\n        vertical-align: middle;\n    }\n\n    .dataframe tbody tr th {\n        vertical-align: top;\n    }\n\n    .dataframe thead th {\n        text-align: right;\n    }\n</style>\n<table border=\"1\" class=\"dataframe\">\n  <thead>\n    <tr style=\"text-align: right;\">\n      <th></th>\n      <th>Unnamed: 0</th>\n      <th>Date received</th>\n      <th>Product</th>\n      <th>Sub-product</th>\n      <th>Issue</th>\n      <th>Sub-issue</th>\n      <th>Consumer complaint narrative</th>\n      <th>Company public response</th>\n      <th>Company</th>\n      <th>State</th>\n      <th>...</th>\n      <th>Consumer disputed?</th>\n      <th>Complaint ID</th>\n      <th>combined_text</th>\n      <th>sentiment</th>\n      <th>sentiment_category</th>\n      <th>company_public_response_sentiment</th>\n      <th>company_consumer_response_sentiment</th>\n      <th>response_to_consumer_score</th>\n      <th>timely_response_score</th>\n      <th>satisfaction_score</th>\n    </tr>\n  </thead>\n  <tbody>\n    <tr>\n      <th>0</th>\n      <td>0</td>\n      <td>18/02/2024</td>\n      <td>Credit reporting</td>\n      <td>Credit reporting</td>\n      <td>Incorrect information on your report</td>\n      <td>Information belongs to someone else</td>\n      <td>I recently reviewed a copy of my credit report...</td>\n      <td>Company has responded to the consumer and the ...</td>\n      <td>experianinformationsolutionsinc</td>\n      <td>TX</td>\n      <td>...</td>\n      <td>NaN</td>\n      <td>8370453</td>\n      <td>I recently reviewed a copy of my credit report...</td>\n      <td>0.000000</td>\n      <td>Neutral</td>\n      <td>0.0</td>\n      <td>-0.1</td>\n      <td>0</td>\n      <td>1</td>\n      <td>0.300000</td>\n    </tr>\n    <tr>\n      <th>1</th>\n      <td>1</td>\n      <td>22/01/2024</td>\n      <td>Checking or savings account</td>\n      <td>Savings account</td>\n      <td>Problem caused by your funds being low</td>\n      <td>Non-sufficient funds and associated fees</td>\n      <td>I have had the Wells Fargo Bank for more than ...</td>\n      <td>Company has responded to the consumer and the ...</td>\n      <td>wellsfargocompany</td>\n      <td>NC</td>\n      <td>...</td>\n      <td>NaN</td>\n      <td>8203156</td>\n      <td>I have had the Wells Fargo Bank for more than ...</td>\n      <td>0.000000</td>\n      <td>Neutral</td>\n      <td>0.0</td>\n      <td>-0.1</td>\n      <td>0</td>\n      <td>1</td>\n      <td>0.300000</td>\n    </tr>\n    <tr>\n      <th>2</th>\n      <td>2</td>\n      <td>09/02/2024</td>\n      <td>Credit reporting</td>\n      <td>Credit reporting</td>\n      <td>Incorrect information on your report</td>\n      <td>Account status incorrect</td>\n      <td>A company called XXXX XXXX reported a delinque...</td>\n      <td>Company has responded to the consumer and the ...</td>\n      <td>experianinformationsolutionsinc</td>\n      <td>VA</td>\n      <td>...</td>\n      <td>NaN</td>\n      <td>8314624</td>\n      <td>A company called XXXX XXXX reported a delinque...</td>\n      <td>0.000000</td>\n      <td>Neutral</td>\n      <td>0.0</td>\n      <td>-0.1</td>\n      <td>0</td>\n      <td>1</td>\n      <td>0.300000</td>\n    </tr>\n    <tr>\n      <th>3</th>\n      <td>3</td>\n      <td>05/04/2024</td>\n      <td>Credit card or prepaid card</td>\n      <td>General-purpose credit card or charge card</td>\n      <td>Fees or interest</td>\n      <td>Problem with fees</td>\n      <td>I was charged a late fee in XX/XX/2024 of {$29...</td>\n      <td>Company has responded to the consumer and the ...</td>\n      <td>wellsfargocompany</td>\n      <td>PA</td>\n      <td>...</td>\n      <td>NaN</td>\n      <td>8706247</td>\n      <td>I was charged a late fee in XX/XX/2024 of {$29...</td>\n      <td>-0.071053</td>\n      <td>Negative</td>\n      <td>0.0</td>\n      <td>-0.1</td>\n      <td>1</td>\n      <td>1</td>\n      <td>0.421579</td>\n    </tr>\n    <tr>\n      <th>4</th>\n      <td>4</td>\n      <td>18/02/2024</td>\n      <td>Credit reporting</td>\n      <td>Credit reporting</td>\n      <td>Credit monitoring or identity theft protection...</td>\n      <td>Problem with product or service terms changing</td>\n      <td>I have written before to the credit bureau abo...</td>\n      <td>Company has responded to the consumer and the ...</td>\n      <td>experianinformationsolutionsinc</td>\n      <td>DE</td>\n      <td>...</td>\n      <td>NaN</td>\n      <td>8364886</td>\n      <td>I have written before to the credit bureau abo...</td>\n      <td>-0.187500</td>\n      <td>Negative</td>\n      <td>0.0</td>\n      <td>-0.1</td>\n      <td>0</td>\n      <td>1</td>\n      <td>0.225000</td>\n    </tr>\n    <tr>\n      <th>...</th>\n      <td>...</td>\n      <td>...</td>\n      <td>...</td>\n      <td>...</td>\n      <td>...</td>\n      <td>...</td>\n      <td>...</td>\n      <td>...</td>\n      <td>...</td>\n      <td>...</td>\n      <td>...</td>\n      <td>...</td>\n      <td>...</td>\n      <td>...</td>\n      <td>...</td>\n      <td>...</td>\n      <td>...</td>\n      <td>...</td>\n      <td>...</td>\n      <td>...</td>\n      <td>...</td>\n    </tr>\n    <tr>\n      <th>55491</th>\n      <td>55491</td>\n      <td>28/04/2021</td>\n      <td>Credit card or prepaid card</td>\n      <td>Government benefit card</td>\n      <td>Trouble using the card</td>\n      <td>Trouble using the card to spend money in a sto...</td>\n      <td>My issue began XX/XX/2021 I made a reasonably ...</td>\n      <td>Company has responded to the consumer and the ...</td>\n      <td>bankofamericanationalassociation</td>\n      <td>CA</td>\n      <td>...</td>\n      <td>NaN</td>\n      <td>4333626</td>\n      <td>My issue began XX/XX/2021 I made a reasonably ...</td>\n      <td>0.081425</td>\n      <td>Positive</td>\n      <td>0.0</td>\n      <td>-0.1</td>\n      <td>0</td>\n      <td>1</td>\n      <td>0.332570</td>\n    </tr>\n    <tr>\n      <th>55492</th>\n      <td>55492</td>\n      <td>06/08/2022</td>\n      <td>Credit reporting</td>\n      <td>Credit reporting</td>\n      <td>Problem with a credit reporting company's inve...</td>\n      <td>Their investigation did not fix an error on yo...</td>\n      <td>Experian still reporting XXXX XXXX on Credit R...</td>\n      <td>Company has responded to the consumer and the ...</td>\n      <td>experianinformationsolutionsinc</td>\n      <td>PA</td>\n      <td>...</td>\n      <td>NaN</td>\n      <td>5851247</td>\n      <td>Experian still reporting XXXX XXXX on Credit R...</td>\n      <td>0.000000</td>\n      <td>Neutral</td>\n      <td>0.0</td>\n      <td>-0.1</td>\n      <td>0</td>\n      <td>1</td>\n      <td>0.300000</td>\n    </tr>\n    <tr>\n      <th>55493</th>\n      <td>55493</td>\n      <td>01/02/2021</td>\n      <td>Credit reporting</td>\n      <td>Credit reporting</td>\n      <td>Improper use of your report</td>\n      <td>Credit inquiries on your report that you don't...</td>\n      <td>I have made several phone calls to the fraud d...</td>\n      <td>Company has responded to the consumer and the ...</td>\n      <td>experianinformationsolutionsinc</td>\n      <td>GA</td>\n      <td>...</td>\n      <td>NaN</td>\n      <td>4109240</td>\n      <td>I have made several phone calls to the fraud d...</td>\n      <td>0.000000</td>\n      <td>Neutral</td>\n      <td>0.0</td>\n      <td>-0.1</td>\n      <td>0</td>\n      <td>1</td>\n      <td>0.300000</td>\n    </tr>\n    <tr>\n      <th>55495</th>\n      <td>55495</td>\n      <td>01/04/2021</td>\n      <td>Credit reporting</td>\n      <td>Credit reporting</td>\n      <td>Problem with a credit reporting company's inve...</td>\n      <td>Their investigation did not fix an error on yo...</td>\n      <td>This is yet my recurring complaint as Transuni...</td>\n      <td>Company has responded to the consumer and the ...</td>\n      <td>transunionintermediateholdingsinc</td>\n      <td>FL</td>\n      <td>...</td>\n      <td>NaN</td>\n      <td>4262930</td>\n      <td>This is yet my recurring complaint as Transuni...</td>\n      <td>-0.065296</td>\n      <td>Negative</td>\n      <td>0.0</td>\n      <td>-0.1</td>\n      <td>0</td>\n      <td>1</td>\n      <td>0.273881</td>\n    </tr>\n    <tr>\n      <th>55497</th>\n      <td>55497</td>\n      <td>07/06/2021</td>\n      <td>Credit reporting</td>\n      <td>Credit reporting</td>\n      <td>Incorrect information on your report</td>\n      <td>Information belongs to someone else</td>\n      <td>Noticed an account on my report that does not ...</td>\n      <td>Company has responded to the consumer and the ...</td>\n      <td>transunionintermediateholdingsinc</td>\n      <td>NJ</td>\n      <td>...</td>\n      <td>NaN</td>\n      <td>4439371</td>\n      <td>Noticed an account on my report that does not ...</td>\n      <td>0.000000</td>\n      <td>Neutral</td>\n      <td>0.0</td>\n      <td>-0.1</td>\n      <td>0</td>\n      <td>1</td>\n      <td>0.300000</td>\n    </tr>\n  </tbody>\n</table>\n<p>36354 rows × 26 columns</p>\n</div>"
     },
     "execution_count": 15,
     "metadata": {},
     "output_type": "execute_result"
    }
   ],
   "source": [
    "# Identifying the top issue per product category -> top means the most occuring\n",
    "target_companies = ['transunionintermediateholdingsinc', 'experianinformationsolutionsinc', 'wellsfargocompany', 'citibankna','bankofamericanationalassociation']\n",
    "filtered_df = df[df['Company'].isin(target_companies)]\n",
    "filtered_df"
   ],
   "metadata": {
    "collapsed": false,
    "ExecuteTime": {
     "end_time": "2024-04-29T01:02:59.510564Z",
     "start_time": "2024-04-29T01:02:59.346129Z"
    }
   },
   "id": "354f7d109c09baf9",
   "execution_count": 15
  },
  {
   "cell_type": "code",
   "outputs": [
    {
     "data": {
      "text/plain": "Company                            Company                            Issue                                                                           \nbankofamericanationalassociation   bankofamericanationalassociation   Managing an account                                                                  712\n                                                                      Problem with a purchase shown on your statement                                      335\n                                                                      Problem with a lender or other company charging your account                         193\ncitibankna                         citibankna                         Problem with a purchase shown on your statement                                      719\n                                                                      Managing an account                                                                  371\n                                                                      Fees or interest                                                                     213\nexperianinformationsolutionsinc    experianinformationsolutionsinc    Incorrect information on your report                                                5418\n                                                                      Improper use of your report                                                         3894\n                                                                      Problem with a credit reporting company's investigation into an existing problem    3138\ntransunionintermediateholdingsinc  transunionintermediateholdingsinc  Incorrect information on your report                                                5406\n                                                                      Improper use of your report                                                         4206\n                                                                      Problem with a credit reporting company's investigation into an existing problem    2859\nwellsfargocompany                  wellsfargocompany                  Managing an account                                                                  968\n                                                                      Problem with a lender or other company charging your account                         230\n                                                                      Incorrect information on your report                                                 212\nName: count, dtype: int64"
     },
     "execution_count": 16,
     "metadata": {},
     "output_type": "execute_result"
    }
   ],
   "source": [
    "top_issues_by_company = filtered_df.groupby('Company')['Issue'].value_counts().groupby(level=0).nlargest(3)\n",
    "top_issues_by_company"
   ],
   "metadata": {
    "collapsed": false,
    "ExecuteTime": {
     "end_time": "2024-04-29T01:03:12.035451Z",
     "start_time": "2024-04-29T01:03:11.974385Z"
    }
   },
   "id": "7890675bdbb7246b",
   "execution_count": 16
  },
  {
   "cell_type": "code",
   "outputs": [
    {
     "data": {
      "text/plain": "   Unnamed: 0 Date received                      Product  \\\n0           0    18/02/2024             Credit reporting   \n1           1    22/01/2024  Checking or savings account   \n2           2    09/02/2024             Credit reporting   \n3           3    05/04/2024  Credit card or prepaid card   \n4           4    18/02/2024             Credit reporting   \n\n                                  Sub-product  \\\n0                            Credit reporting   \n1                             Savings account   \n2                            Credit reporting   \n3  General-purpose credit card or charge card   \n4                            Credit reporting   \n\n                                               Issue  \\\n0               Incorrect information on your report   \n1             Problem caused by your funds being low   \n2               Incorrect information on your report   \n3                                   Fees or interest   \n4  Credit monitoring or identity theft protection...   \n\n                                        Sub-issue  \\\n0             Information belongs to someone else   \n1        Non-sufficient funds and associated fees   \n2                        Account status incorrect   \n3                               Problem with fees   \n4  Problem with product or service terms changing   \n\n                        Consumer complaint narrative  \\\n0  I recently reviewed a copy of my credit report...   \n1  I have had the Wells Fargo Bank for more than ...   \n2  A company called XXXX XXXX reported a delinque...   \n3  I was charged a late fee in XX/XX/2024 of {$29...   \n4  I have written before to the credit bureau abo...   \n\n                             Company public response  \\\n0  Company has responded to the consumer and the ...   \n1  Company has responded to the consumer and the ...   \n2  Company has responded to the consumer and the ...   \n3  Company has responded to the consumer and the ...   \n4  Company has responded to the consumer and the ...   \n\n                           Company State  ... Consumer disputed? Complaint ID  \\\n0  experianinformationsolutionsinc    TX  ...                NaN      8370453   \n1                wellsfargocompany    NC  ...                NaN      8203156   \n2  experianinformationsolutionsinc    VA  ...                NaN      8314624   \n3                wellsfargocompany    PA  ...                NaN      8706247   \n4  experianinformationsolutionsinc    DE  ...                NaN      8364886   \n\n                                       combined_text sentiment  \\\n0  I recently reviewed a copy of my credit report...  0.000000   \n1  I have had the Wells Fargo Bank for more than ...  0.000000   \n2  A company called XXXX XXXX reported a delinque...  0.000000   \n3  I was charged a late fee in XX/XX/2024 of {$29... -0.071053   \n4  I have written before to the credit bureau abo... -0.187500   \n\n  sentiment_category company_public_response_sentiment  \\\n0            Neutral                               0.0   \n1            Neutral                               0.0   \n2            Neutral                               0.0   \n3           Negative                               0.0   \n4           Negative                               0.0   \n\n   company_consumer_response_sentiment  response_to_consumer_score  \\\n0                                 -0.1                           0   \n1                                 -0.1                           0   \n2                                 -0.1                           0   \n3                                 -0.1                           1   \n4                                 -0.1                           0   \n\n  timely_response_score  satisfaction_score  \n0                     1            0.300000  \n1                     1            0.300000  \n2                     1            0.300000  \n3                     1            0.421579  \n4                     1            0.225000  \n\n[5 rows x 26 columns]",
      "text/html": "<div>\n<style scoped>\n    .dataframe tbody tr th:only-of-type {\n        vertical-align: middle;\n    }\n\n    .dataframe tbody tr th {\n        vertical-align: top;\n    }\n\n    .dataframe thead th {\n        text-align: right;\n    }\n</style>\n<table border=\"1\" class=\"dataframe\">\n  <thead>\n    <tr style=\"text-align: right;\">\n      <th></th>\n      <th>Unnamed: 0</th>\n      <th>Date received</th>\n      <th>Product</th>\n      <th>Sub-product</th>\n      <th>Issue</th>\n      <th>Sub-issue</th>\n      <th>Consumer complaint narrative</th>\n      <th>Company public response</th>\n      <th>Company</th>\n      <th>State</th>\n      <th>...</th>\n      <th>Consumer disputed?</th>\n      <th>Complaint ID</th>\n      <th>combined_text</th>\n      <th>sentiment</th>\n      <th>sentiment_category</th>\n      <th>company_public_response_sentiment</th>\n      <th>company_consumer_response_sentiment</th>\n      <th>response_to_consumer_score</th>\n      <th>timely_response_score</th>\n      <th>satisfaction_score</th>\n    </tr>\n  </thead>\n  <tbody>\n    <tr>\n      <th>0</th>\n      <td>0</td>\n      <td>18/02/2024</td>\n      <td>Credit reporting</td>\n      <td>Credit reporting</td>\n      <td>Incorrect information on your report</td>\n      <td>Information belongs to someone else</td>\n      <td>I recently reviewed a copy of my credit report...</td>\n      <td>Company has responded to the consumer and the ...</td>\n      <td>experianinformationsolutionsinc</td>\n      <td>TX</td>\n      <td>...</td>\n      <td>NaN</td>\n      <td>8370453</td>\n      <td>I recently reviewed a copy of my credit report...</td>\n      <td>0.000000</td>\n      <td>Neutral</td>\n      <td>0.0</td>\n      <td>-0.1</td>\n      <td>0</td>\n      <td>1</td>\n      <td>0.300000</td>\n    </tr>\n    <tr>\n      <th>1</th>\n      <td>1</td>\n      <td>22/01/2024</td>\n      <td>Checking or savings account</td>\n      <td>Savings account</td>\n      <td>Problem caused by your funds being low</td>\n      <td>Non-sufficient funds and associated fees</td>\n      <td>I have had the Wells Fargo Bank for more than ...</td>\n      <td>Company has responded to the consumer and the ...</td>\n      <td>wellsfargocompany</td>\n      <td>NC</td>\n      <td>...</td>\n      <td>NaN</td>\n      <td>8203156</td>\n      <td>I have had the Wells Fargo Bank for more than ...</td>\n      <td>0.000000</td>\n      <td>Neutral</td>\n      <td>0.0</td>\n      <td>-0.1</td>\n      <td>0</td>\n      <td>1</td>\n      <td>0.300000</td>\n    </tr>\n    <tr>\n      <th>2</th>\n      <td>2</td>\n      <td>09/02/2024</td>\n      <td>Credit reporting</td>\n      <td>Credit reporting</td>\n      <td>Incorrect information on your report</td>\n      <td>Account status incorrect</td>\n      <td>A company called XXXX XXXX reported a delinque...</td>\n      <td>Company has responded to the consumer and the ...</td>\n      <td>experianinformationsolutionsinc</td>\n      <td>VA</td>\n      <td>...</td>\n      <td>NaN</td>\n      <td>8314624</td>\n      <td>A company called XXXX XXXX reported a delinque...</td>\n      <td>0.000000</td>\n      <td>Neutral</td>\n      <td>0.0</td>\n      <td>-0.1</td>\n      <td>0</td>\n      <td>1</td>\n      <td>0.300000</td>\n    </tr>\n    <tr>\n      <th>3</th>\n      <td>3</td>\n      <td>05/04/2024</td>\n      <td>Credit card or prepaid card</td>\n      <td>General-purpose credit card or charge card</td>\n      <td>Fees or interest</td>\n      <td>Problem with fees</td>\n      <td>I was charged a late fee in XX/XX/2024 of {$29...</td>\n      <td>Company has responded to the consumer and the ...</td>\n      <td>wellsfargocompany</td>\n      <td>PA</td>\n      <td>...</td>\n      <td>NaN</td>\n      <td>8706247</td>\n      <td>I was charged a late fee in XX/XX/2024 of {$29...</td>\n      <td>-0.071053</td>\n      <td>Negative</td>\n      <td>0.0</td>\n      <td>-0.1</td>\n      <td>1</td>\n      <td>1</td>\n      <td>0.421579</td>\n    </tr>\n    <tr>\n      <th>4</th>\n      <td>4</td>\n      <td>18/02/2024</td>\n      <td>Credit reporting</td>\n      <td>Credit reporting</td>\n      <td>Credit monitoring or identity theft protection...</td>\n      <td>Problem with product or service terms changing</td>\n      <td>I have written before to the credit bureau abo...</td>\n      <td>Company has responded to the consumer and the ...</td>\n      <td>experianinformationsolutionsinc</td>\n      <td>DE</td>\n      <td>...</td>\n      <td>NaN</td>\n      <td>8364886</td>\n      <td>I have written before to the credit bureau abo...</td>\n      <td>-0.187500</td>\n      <td>Negative</td>\n      <td>0.0</td>\n      <td>-0.1</td>\n      <td>0</td>\n      <td>1</td>\n      <td>0.225000</td>\n    </tr>\n  </tbody>\n</table>\n<p>5 rows × 26 columns</p>\n</div>"
     },
     "execution_count": 17,
     "metadata": {},
     "output_type": "execute_result"
    }
   ],
   "source": [
    "df.head(5)"
   ],
   "metadata": {
    "collapsed": false,
    "ExecuteTime": {
     "end_time": "2024-04-29T01:05:46.333251Z",
     "start_time": "2024-04-29T01:05:46.270999Z"
    }
   },
   "id": "bced576457e0887d",
   "execution_count": 17
  },
  {
   "cell_type": "code",
   "outputs": [
    {
     "data": {
      "text/plain": "Company                      bankofamericanationalassociation  citibankna  \\\nProduct                                                                     \nChecking or savings account                          0.337634    0.340279   \nCredit card or prepaid card                          0.338291    0.354942   \nCredit reporting                                     0.288879    0.307656   \nDebt collection                                      0.302466    0.324609   \nLoan                                                 0.282595    0.186667   \nMortgage                                             0.307748    0.340481   \n\nCompany                      experianinformationsolutionsinc  \\\nProduct                                                        \nChecking or savings account                         0.349807   \nCredit card or prepaid card                         0.294994   \nCredit reporting                                    0.321208   \nDebt collection                                     0.313189   \nLoan                                                0.306027   \nMortgage                                            0.300000   \n\nCompany                      transunionintermediateholdingsinc  \\\nProduct                                                          \nChecking or savings account                           0.331832   \nCredit card or prepaid card                           0.289032   \nCredit reporting                                      0.323277   \nDebt collection                                       0.315808   \nLoan                                                  0.256456   \nMortgage                                              0.194286   \n\nCompany                      wellsfargocompany  \nProduct                                         \nChecking or savings account           0.317031  \nCredit card or prepaid card           0.331855  \nCredit reporting                      0.301269  \nDebt collection                       0.310650  \nLoan                                  0.301497  \nMortgage                              0.308318  ",
      "text/html": "<div>\n<style scoped>\n    .dataframe tbody tr th:only-of-type {\n        vertical-align: middle;\n    }\n\n    .dataframe tbody tr th {\n        vertical-align: top;\n    }\n\n    .dataframe thead th {\n        text-align: right;\n    }\n</style>\n<table border=\"1\" class=\"dataframe\">\n  <thead>\n    <tr style=\"text-align: right;\">\n      <th>Company</th>\n      <th>bankofamericanationalassociation</th>\n      <th>citibankna</th>\n      <th>experianinformationsolutionsinc</th>\n      <th>transunionintermediateholdingsinc</th>\n      <th>wellsfargocompany</th>\n    </tr>\n    <tr>\n      <th>Product</th>\n      <th></th>\n      <th></th>\n      <th></th>\n      <th></th>\n      <th></th>\n    </tr>\n  </thead>\n  <tbody>\n    <tr>\n      <th>Checking or savings account</th>\n      <td>0.337634</td>\n      <td>0.340279</td>\n      <td>0.349807</td>\n      <td>0.331832</td>\n      <td>0.317031</td>\n    </tr>\n    <tr>\n      <th>Credit card or prepaid card</th>\n      <td>0.338291</td>\n      <td>0.354942</td>\n      <td>0.294994</td>\n      <td>0.289032</td>\n      <td>0.331855</td>\n    </tr>\n    <tr>\n      <th>Credit reporting</th>\n      <td>0.288879</td>\n      <td>0.307656</td>\n      <td>0.321208</td>\n      <td>0.323277</td>\n      <td>0.301269</td>\n    </tr>\n    <tr>\n      <th>Debt collection</th>\n      <td>0.302466</td>\n      <td>0.324609</td>\n      <td>0.313189</td>\n      <td>0.315808</td>\n      <td>0.310650</td>\n    </tr>\n    <tr>\n      <th>Loan</th>\n      <td>0.282595</td>\n      <td>0.186667</td>\n      <td>0.306027</td>\n      <td>0.256456</td>\n      <td>0.301497</td>\n    </tr>\n    <tr>\n      <th>Mortgage</th>\n      <td>0.307748</td>\n      <td>0.340481</td>\n      <td>0.300000</td>\n      <td>0.194286</td>\n      <td>0.308318</td>\n    </tr>\n  </tbody>\n</table>\n</div>"
     },
     "execution_count": 20,
     "metadata": {},
     "output_type": "execute_result"
    }
   ],
   "source": [
    "# Group by 'Company' and 'Product', calculate the average sentiment score, and create a pivot table\n",
    "pivot_table = filtered_df.pivot_table(index='Product', columns='Company', values='satisfaction_score', aggfunc='mean')\n",
    "\n",
    "# Fill NaN values with 0 if needed\n",
    "#pivot_table.fillna(0, inplace=True)  # You can replace 0 with any other value as needed\n",
    "\n",
    "# Display the pivot table\n",
    "pivot_table\n"
   ],
   "metadata": {
    "collapsed": false,
    "ExecuteTime": {
     "end_time": "2024-04-29T01:10:01.428468Z",
     "start_time": "2024-04-29T01:10:01.356399Z"
    }
   },
   "id": "a2318b83e5d2df54",
   "execution_count": 20
  },
  {
   "cell_type": "code",
   "outputs": [],
   "source": [
    "pivot_table.to_csv('pivot_table_ss.csv')"
   ],
   "metadata": {
    "collapsed": false,
    "ExecuteTime": {
     "end_time": "2024-04-29T01:12:54.596692Z",
     "start_time": "2024-04-29T01:12:54.428094Z"
    }
   },
   "id": "6ee862980dc75755",
   "execution_count": 21
  },
  {
   "cell_type": "code",
   "outputs": [],
   "source": [],
   "metadata": {
    "collapsed": false
   },
   "id": "4af9d83e53783040"
  }
 ],
 "metadata": {
  "kernelspec": {
   "display_name": "Python 3",
   "language": "python",
   "name": "python3"
  },
  "language_info": {
   "codemirror_mode": {
    "name": "ipython",
    "version": 2
   },
   "file_extension": ".py",
   "mimetype": "text/x-python",
   "name": "python",
   "nbconvert_exporter": "python",
   "pygments_lexer": "ipython2",
   "version": "2.7.6"
  }
 },
 "nbformat": 4,
 "nbformat_minor": 5
}
